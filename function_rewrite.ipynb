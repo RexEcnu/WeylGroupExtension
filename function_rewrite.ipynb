{
 "cells": [
  {
   "cell_type": "markdown",
   "metadata": {},
   "source": [
    "# Weyl 群扩张群的结构"
   ]
  },
  {
   "cell_type": "markdown",
   "metadata": {},
   "source": [
    "## 主要函数\n",
    "\n",
    "1. Thetas(s,n) 返回生成元集合 \\{\\theta_i\\}_{i=1}^n\n",
    "2. OrderMatrixOfGens(gens) 返回生成元的群阶矩阵\n",
    "3. GroupByOrderMathix(order_mat) 群阶矩阵作为泛性质，生成群\n",
    "4. GroupTreeOfMaxDepth(G,depth) 生成群树（BFS）\n",
    "5. UniversalPropertyOfGens 返回生成元的泛性质关系 "
   ]
  },
  {
   "cell_type": "markdown",
   "metadata": {
    "heading_collapsed": true
   },
   "source": [
    "### Thetas(s,n)"
   ]
  },
  {
   "cell_type": "code",
   "execution_count": 89,
   "metadata": {
    "hidden": true
   },
   "outputs": [],
   "source": [
    "def ExpOfNilpotentMat(mat, max_depth=36, base_ring=ZZ):\n",
    "    \"\"\"\n",
    "    1. 返回幂零矩阵的指数矩阵\n",
    "    2. max_depth 指定 x^n=0 中，n 的最大值\n",
    "    3. 默认基环为整数环\n",
    "    4. 输入必须为 Sage 矩阵类型\n",
    "    \"\"\"\n",
    "    dim = mat.dimensions()[0]\n",
    "    exp_mat = matrix.identity(dim) # 单位矩阵\n",
    "    new,i = mat,1\n",
    "    while not new.is_zero(): # 运算直到 new 为零矩阵\n",
    "        exp_mat += 1/factorial(i) * new\n",
    "        i += 1\n",
    "        new *= mat\n",
    "    return matrix(ZZ,exp_mat)"
   ]
  },
  {
   "cell_type": "code",
   "execution_count": 56,
   "metadata": {
    "hidden": true
   },
   "outputs": [],
   "source": [
    "# 不能用自然表示，一定是伴随表示\n",
    "def Thetas(s,n):\n",
    "    \"\"\"返回给定型的生成元集合 {\\theta_i}_{i=1}^n\"\"\"\n",
    "    exp = ExpOfNilpotentMat # 简写函数名\n",
    "    L = LieAlgebra(ZZ,cartan_type=[s,n])\n",
    "    # 一组基元\n",
    "    basis = L.basis()\n",
    "    # 上三角 e_i\n",
    "    es = [L.e(i+1).adjoint_matrix() for i in range(n)]\n",
    "    # 下三角 f_i\n",
    "    fs = [L.f(i+1).adjoint_matrix() for i in range(n)]\n",
    "    thetas = [exp(es[i])*exp(-fs[i])*exp(es[i]) for i in range(n)]\n",
    "    return thetas"
   ]
  },
  {
   "cell_type": "code",
   "execution_count": 90,
   "metadata": {
    "hidden": true
   },
   "outputs": [
    {
     "name": "stdout",
     "output_type": "stream",
     "text": [
      "2\n",
      "24\n",
      "96\n"
     ]
    }
   ],
   "source": [
    "# gap_str = lambda s:gap('\"'+s+'\"')\n",
    "# gap.Read(gap_str(\"big_weyl_group.py\"))\n",
    "\n",
    "# 函数测试\n",
    "for i in range(3):\n",
    "    print(len(MatrixGroup(Thetas(\"A\",i+1))))"
   ]
  },
  {
   "cell_type": "markdown",
   "metadata": {
    "heading_collapsed": true
   },
   "source": [
    "### OrderMatrixOfGens"
   ]
  },
  {
   "cell_type": "code",
   "execution_count": 96,
   "metadata": {
    "hidden": true
   },
   "outputs": [],
   "source": [
    "def OrderMatrixOfGens(gens):\n",
    "    \"\"\"\n",
    "    1. 计算 gens 的群阶矩阵\n",
    "    2. 生成元的群基环必须为整数环\n",
    "    \"\"\"\n",
    "    orders = [[(a*b).multiplicative_order() for a in gens] for b in gens]\n",
    "    return matrix(ZZ,orders)"
   ]
  },
  {
   "cell_type": "code",
   "execution_count": 97,
   "metadata": {
    "hidden": true
   },
   "outputs": [
    {
     "name": "stdout",
     "output_type": "stream",
     "text": [
      "Integer Ring\n"
     ]
    },
    {
     "data": {
      "text/plain": [
       "[2 3 2]\n",
       "[3 2 3]\n",
       "[2 3 2]"
      ]
     },
     "execution_count": 97,
     "metadata": {},
     "output_type": "execute_result"
    }
   ],
   "source": [
    "# 函数测试\n",
    "gens = Thetas(\"A\",3)\n",
    "print(gens[0].base_ring())\n",
    "OrderMatrixOfGens(gens)"
   ]
  },
  {
   "cell_type": "markdown",
   "metadata": {
    "heading_collapsed": true
   },
   "source": [
    "### 泛性质构造商群"
   ]
  },
  {
   "cell_type": "code",
   "execution_count": 101,
   "metadata": {
    "hidden": true
   },
   "outputs": [],
   "source": [
    "def GroupByOrderMatrix(order_mat):\n",
    "    \"\"\"群阶矩阵 -> 自由群商群\"\"\"\n",
    "    n = order_mat.dimensions()[0]\n",
    "    FG = FreeGroup(n) # 自由群\n",
    "    gens = FG.gens() # 生成元\n",
    "    # 生成关系\n",
    "    relations = [(gens[i]*gens[j])^order_mat[i,j] for i in range(n) for j in range(n)]\n",
    "    return FG/relations"
   ]
  },
  {
   "cell_type": "code",
   "execution_count": 131,
   "metadata": {
    "hidden": true
   },
   "outputs": [
    {
     "name": "stdout",
     "output_type": "stream",
     "text": [
      "[2 3]\n",
      "[3 2]\n"
     ]
    },
    {
     "data": {
      "text/plain": [
       "False"
      ]
     },
     "execution_count": 131,
     "metadata": {},
     "output_type": "execute_result"
    }
   ],
   "source": [
    "n = 2\n",
    "gens = Thetas(\"A\",n)\n",
    "order_mat = OrderMatrixOfGens(gens)\n",
    "print(order_mat)\n",
    "G = GroupByOrderMatrix(order_mat)\n",
    "G.1 * G.0 == G.1 * G.1"
   ]
  },
  {
   "cell_type": "markdown",
   "metadata": {},
   "source": [
    "### 生成群树"
   ]
  },
  {
   "cell_type": "code",
   "execution_count": 183,
   "metadata": {
    "code_folding": []
   },
   "outputs": [],
   "source": [
    "def GroupTreeOfMaxDepth(G,depth=-1):\n",
    "    \"\"\"\n",
    "    1. BFS 获取群元素，按长度分层\n",
    "    2. 获取前 depth 层，首层记0，默认获取整树（有限群）\"\"\"\n",
    "    # 群树，初始为零层\n",
    "    tree = [[G.one()]] \n",
    "    if depth == 0: # 只有零层\n",
    "        return tree\n",
    "    gens = G.gens() # 生成元\n",
    "    S = [G.one()] # 已生成的群元素\n",
    "    tree.append([]) # 添加一层\n",
    "    # 将 gens 化简（去重复元素，以及单位元）\n",
    "    for a in gens:\n",
    "        if a not in S:\n",
    "            S.append(a)\n",
    "            tree[-1].append(a)\n",
    "    if depth == 1: # 只有一层\n",
    "        return tree\n",
    "    gens = tree[-1] # 简化的生成元\n",
    "    \n",
    "    # 循环开始，直到深度足够，或者群生成完毕\n",
    "    while depth-1 and len(tree[-1]):\n",
    "        depth -= 1\n",
    "        tree.append([])\n",
    "        for a in tree[-2]:\n",
    "            for b in gens:\n",
    "                c = a * b\n",
    "                if c not in S:\n",
    "                    S.append(c)\n",
    "                    tree[-1].append(c)\n",
    "    return tree"
   ]
  },
  {
   "cell_type": "code",
   "execution_count": 185,
   "metadata": {},
   "outputs": [
    {
     "name": "stdout",
     "output_type": "stream",
     "text": [
      "[1 3]\n",
      "[3 1]\n"
     ]
    },
    {
     "data": {
      "text/plain": [
       "[[1], [x0, x1], [x0*x1, x1*x0], [x0*x1*x0], []]"
      ]
     },
     "execution_count": 185,
     "metadata": {},
     "output_type": "execute_result"
    }
   ],
   "source": [
    "# 测试一\n",
    "mat = matrix(CoxeterMatrix([\"A\",2]))\n",
    "print(mat)\n",
    "G = GroupByOrderMatrix(mat)\n",
    "GroupTreeOfMaxDepth(G)"
   ]
  },
  {
   "cell_type": "code",
   "execution_count": 163,
   "metadata": {},
   "outputs": [
    {
     "name": "stdout",
     "output_type": "stream",
     "text": [
      "[2 3]\n",
      "[3 2]\n"
     ]
    },
    {
     "data": {
      "text/plain": [
       "[[1],\n",
       " [x0, x1],\n",
       " [x0^2, x0*x1, x1*x0, x1^2],\n",
       " [x0^3, x0^2*x1, x0*x1*x0, x0*x1^2, x1*x0^2, x1*x0*x1, x1^2*x0, x1^3]]"
      ]
     },
     "execution_count": 163,
     "metadata": {},
     "output_type": "execute_result"
    }
   ],
   "source": [
    "# 测试二\n",
    "n = 2\n",
    "gens = Thetas(\"A\",n)\n",
    "order_mat = OrderMatrixOfGens(gens)\n",
    "print(order_mat)\n",
    "G2 = GroupByOrderMatrix(order_mat)\n",
    "GroupTreeOfMaxDepth(G2,3)"
   ]
  },
  {
   "cell_type": "markdown",
   "metadata": {},
   "source": [
    "### UniversalPropertyOfGens"
   ]
  },
  {
   "cell_type": "code",
   "execution_count": 2,
   "metadata": {},
   "outputs": [],
   "source": [
    "def UniversalPropertyOfGroup(G,max_depth=-1):\n",
    "    \"\"\"\n",
    "    1. 求群生成元的泛性质\n",
    "    2. G 的生成元不能存在相等，或者等于1\n",
    "    3. max_depth 设置往下统计次数，默认遍历整树\n",
    "    4. 群生成元素不超过10个\n",
    "    \"\"\"\n",
    "    # 初始化\n",
    "    gens = list(G.gens()) # 生成元\n",
    "    S = [G.one()] + gens # 已生成群元素\n",
    "    assert len(S)==len(set(S)),\"G 的生成元不能存在相等，或者等于1\"\n",
    "    \n",
    "    # 群树：元素形式和字符串形式\n",
    "    tree = [[G.one()],gens] \n",
    "    tree_str = [[\"\"],[\"%d\"%i for i in range(len(gens))]]\n",
    "    # 生成关系\n",
    "    relations = {}\n",
    "    while max_depth:\n",
    "        max_depth -= 1\n",
    "        new_layer = []\n",
    "        new_layer_str = []\n",
    "        for s,a in zip(tree_str[-1],tree[-1]):\n",
    "            for si,b in enumerate(gens):\n",
    "                c = a * b\n",
    "                c_str = s + str(si) \n",
    "                if c in new_layer: # 化简到同一层\n",
    "                    if not any(s in c_str for s in relations):\n",
    "                        relations[c_str] = new_layer_str[new_layer.index(c)]\n",
    "                    continue\n",
    "                for i,layer in enumerate(tree):\n",
    "                    if c in layer: # 化简到前边层\n",
    "                        if not any(s in c_str for s in relations):\n",
    "                            relations[s+str(si)] = tree_str[i][layer.index(c)]\n",
    "                        break\n",
    "                else:\n",
    "                    new_layer.append(c)\n",
    "                    new_layer_str.append(s+str(si))\n",
    "        if len(new_layer):\n",
    "            tree.append(new_layer)\n",
    "            tree_str.append(new_layer_str)\n",
    "        else:\n",
    "            break\n",
    "    return tree,tree_str,relations"
   ]
  },
  {
   "cell_type": "markdown",
   "metadata": {},
   "source": [
    "#### 测试"
   ]
  },
  {
   "cell_type": "code",
   "execution_count": 3,
   "metadata": {},
   "outputs": [],
   "source": [
    "# 导入模块\n",
    "load(\"weyl_group_extension.sage\")"
   ]
  },
  {
   "cell_type": "code",
   "execution_count": 19,
   "metadata": {},
   "outputs": [],
   "source": [
    "from pprint import pprint\n",
    "def show_tree(tree):\n",
    "    \"\"\"打印群树\"\"\"\n",
    "    for i in tree_str:\n",
    "        for j in i:\n",
    "            print(j,end=\"\\t\")\n",
    "        print()\n",
    "    return\n",
    "def relations2elements(relations,gens):\n",
    "    \"\"\"将生成元转为群元素\"\"\"\n",
    "    one = gens[0]/gens[0]\n",
    "    elements = []\n",
    "    for key in relations:\n",
    "        new = one\n",
    "        for i in key:\n",
    "            new *= gens[int(i)]\n",
    "        for i in relations[key][::-1]:\n",
    "            new /= gens[int(i)]\n",
    "        elements.append(new)\n",
    "    return elements"
   ]
  },
  {
   "cell_type": "markdown",
   "metadata": {
    "heading_collapsed": true
   },
   "source": [
    "###### 测试一"
   ]
  },
  {
   "cell_type": "code",
   "execution_count": 22,
   "metadata": {
    "hidden": true,
    "scrolled": true
   },
   "outputs": [
    {
     "name": "stdout",
     "output_type": "stream",
     "text": [
      "[1 3 2]\n",
      "[3 1 3]\n",
      "[2 3 1]\n",
      "True\n"
     ]
    },
    {
     "data": {
      "text/plain": [
       "{'00': '',\n",
       " '11': '',\n",
       " '20': '02',\n",
       " '22': '',\n",
       " '101': '010',\n",
       " '212': '121',\n",
       " '2102': '1210'}"
      ]
     },
     "execution_count": 22,
     "metadata": {},
     "output_type": "execute_result"
    }
   ],
   "source": [
    "# 测试一，检验有限型 Coxeter 群\n",
    "mat = matrix(CoxeterMatrix([\"A\",3]))\n",
    "print(mat)\n",
    "G = GroupByOrderMatrix(mat)\n",
    "tree1 = GroupTreeOfMaxDepth(G)\n",
    "tree,tree_str,relations = UniversalPropertyOfGroup(G)\n",
    "print(tree1[:-1] == tree)\n",
    "relations"
   ]
  },
  {
   "cell_type": "code",
   "execution_count": 23,
   "metadata": {
    "hidden": true
   },
   "outputs": [
    {
     "name": "stdout",
     "output_type": "stream",
     "text": [
      "\t\n",
      "0\t1\t2\t\n",
      "01\t02\t10\t12\t21\t\n",
      "010\t012\t021\t102\t121\t210\t\n",
      "0102\t0121\t0210\t1021\t1210\t\n",
      "01021\t01210\t10210\t\n",
      "010210\t\n"
     ]
    }
   ],
   "source": [
    "# 打印群树\n",
    "show_tree(tree_str)"
   ]
  },
  {
   "cell_type": "markdown",
   "metadata": {
    "heading_collapsed": true
   },
   "source": [
    "###### 测试二"
   ]
  },
  {
   "cell_type": "code",
   "execution_count": 9,
   "metadata": {
    "code_folding": [],
    "hidden": true
   },
   "outputs": [
    {
     "name": "stdout",
     "output_type": "stream",
     "text": [
      "[2 3]\n",
      "[3 2]\n",
      "True\n"
     ]
    },
    {
     "data": {
      "text/plain": [
       "{'0000': '',\n",
       " '1111': '',\n",
       " '01010': '111',\n",
       " '10101': '000',\n",
       " '000111': '1010',\n",
       " '111000': '0101',\n",
       " '10100101': '00011000',\n",
       " '11100111': '01011010'}"
      ]
     },
     "execution_count": 9,
     "metadata": {},
     "output_type": "execute_result"
    }
   ],
   "source": [
    "# 测试二，检验无限群\n",
    "n = 2\n",
    "gens = Thetas(\"A\",n)\n",
    "order_mat = OrderMatrixOfGens(gens)\n",
    "print(order_mat)\n",
    "G = GroupByOrderMatrix(order_mat)\n",
    "tree1 = GroupTreeOfMaxDepth(G,8)\n",
    "tree,tree_str,relations = UniversalPropertyOfGroup(G,7)\n",
    "print(tree1 == tree)\n",
    "relations"
   ]
  },
  {
   "cell_type": "markdown",
   "metadata": {
    "heading_collapsed": true
   },
   "source": [
    "###### 测试三"
   ]
  },
  {
   "cell_type": "code",
   "execution_count": 18,
   "metadata": {
    "hidden": true
   },
   "outputs": [
    {
     "name": "stdout",
     "output_type": "stream",
     "text": [
      "[ 1 20]\n",
      "[20  1]\n",
      "True\n"
     ]
    },
    {
     "data": {
      "text/plain": [
       "{'00': '', '11': ''}"
      ]
     },
     "execution_count": 18,
     "metadata": {},
     "output_type": "execute_result"
    }
   ],
   "source": [
    "# 测试三，I型 Coxeter 群，仅当全部遍历时，泛性质才完整\n",
    "mat = matrix([[1,20],[20,1]])\n",
    "print(mat)\n",
    "G = GroupByOrderMatrix(mat)\n",
    "tree1 = GroupTreeOfMaxDepth(G,10)\n",
    "tree,tree_str,relations = UniversalPropertyOfGroup(G,9)\n",
    "print(tree1 == tree)\n",
    "relations"
   ]
  },
  {
   "cell_type": "markdown",
   "metadata": {
    "heading_collapsed": true
   },
   "source": [
    "##### 测试四"
   ]
  },
  {
   "cell_type": "code",
   "execution_count": 45,
   "metadata": {
    "collapsed": true,
    "hidden": true
   },
   "outputs": [
    {
     "name": "stdout",
     "output_type": "stream",
     "text": [
      "[1]\n",
      "{}\n",
      "[1 3]\n",
      "[3 1]\n",
      "{}\n",
      "[1 3 2]\n",
      "[3 1 3]\n",
      "[2 3 1]\n",
      "{'2102': '1210'}\n",
      "[1 3 2 2]\n",
      "[3 1 3 2]\n",
      "[2 3 1 3]\n",
      "[2 2 3 1]\n",
      "{'2102': '1210', '3213': '2321', '32103': '23210'}\n",
      "[1 3 2 2 2]\n",
      "[3 1 3 2 2]\n",
      "[2 3 1 3 2]\n",
      "[2 2 3 1 3]\n",
      "[2 2 2 3 1]\n",
      "{'2102': '1210', '3213': '2321', '4324': '3432', '32103': '23210', '43214': '34321', '432104': '343210'}\n"
     ]
    }
   ],
   "source": [
    "# 测试四，补充泛性质后的规律\n",
    "for n in range(5):\n",
    "    mat = matrix(CoxeterMatrix([\"A\",n+1]))\n",
    "    print(mat)\n",
    "    G = GroupByOrderMatrix(mat)\n",
    "    _,tree_str,relations = UniversalPropertyOfGroup(G)\n",
    "    print({key:relations[key] for key in relations.keys() if len(set(list(key)))>2})"
   ]
  },
  {
   "cell_type": "markdown",
   "metadata": {},
   "source": [
    "##### 测试五"
   ]
  },
  {
   "cell_type": "code",
   "execution_count": 130,
   "metadata": {
    "scrolled": true
   },
   "outputs": [
    {
     "name": "stdout",
     "output_type": "stream",
     "text": [
      "泛性质矩阵\n",
      "[2 3]\n",
      "[3 2]\n",
      "前5层导出关系\n",
      "{'0000': '', '1111': '', '01010': '111', '10101': '000'}\n",
      "商集\n",
      "[x0^4, x1^4, (x0*x1)^2*x0*x1^-3, (x1*x0)^2*x1*x0^-3]\n"
     ]
    },
    {
     "data": {
      "text/plain": [
       "True"
      ]
     },
     "execution_count": 130,
     "metadata": {},
     "output_type": "execute_result"
    }
   ],
   "source": [
    "# 测试五，用前 k 阶泛性质生成商群 -->> 局部泛性质 √\n",
    "n,k = 2,4\n",
    "gens = Thetas(\"A\",n)\n",
    "order_mat = OrderMatrixOfGens(gens)\n",
    "print(\"泛性质矩阵\",order_mat,sep=\"\\n\")\n",
    "G = GroupByOrderMatrix(order_mat)\n",
    "tree,tree_str,relations = UniversalPropertyOfGroup(G,k)\n",
    "print(\"前%d层导出关系\"%(k+1),relations, sep=\"\\n\")\n",
    "# 定义商群\n",
    "FG = FreeGroup(2)\n",
    "elements = relations2elements(relations,FG.gens())\n",
    "print(\"商集\",elements,sep=\"\\n\")\n",
    "newG = FG/elements\n",
    "[len(i) for i in GroupTreeOfMaxDepth(newG,k+1)]==[len(i) for i in GroupTreeOfMaxDepth(G,k+1)]"
   ]
  },
  {
   "cell_type": "code",
   "execution_count": 131,
   "metadata": {},
   "outputs": [
    {
     "data": {
      "text/plain": [
       "True"
      ]
     },
     "execution_count": 131,
     "metadata": {},
     "output_type": "execute_result"
    }
   ],
   "source": [
    "[len(i) for i in GroupTreeOfMaxDepth(newG,13)]==[len(i) for i in GroupTreeOfMaxDepth(G,13)]"
   ]
  },
  {
   "cell_type": "code",
   "execution_count": null,
   "metadata": {},
   "outputs": [],
   "source": [
    "_,_,relations = UniversalPropertyOfGroup(G,13)\n",
    "relations\n",
    "# {'0000': '',\n",
    "#  '1111': '',\n",
    "#  '01010': '111',\n",
    "#  '10101': '000',\n",
    "#  '000111': '1010',\n",
    "#  '111000': '0101',\n",
    "#  '10100101': '00011000',\n",
    "#  '11100111': '01011010',\n",
    "#  '0001100011000': '10100100101'}"
   ]
  },
  {
   "cell_type": "markdown",
   "metadata": {},
   "source": [
    "##### 测试六"
   ]
  },
  {
   "cell_type": "code",
   "execution_count": 126,
   "metadata": {},
   "outputs": [],
   "source": [
    "# 测试六，weyl扩张群的泛性质\n",
    "s,n = \"A\",4\n",
    "gens = Thetas(s,n)\n",
    "G = MatrixGroup(gens)\n",
    "gens = G.gens()"
   ]
  },
  {
   "cell_type": "code",
   "execution_count": 127,
   "metadata": {},
   "outputs": [
    {
     "name": "stdout",
     "output_type": "stream",
     "text": [
      "前4层导出关系\n",
      "{'20': '02', '30': '03', '31': '13', '101': '010', '212': '121', '323': '232', '0000': '', '0110': '11', '1001': '00', '1100': '0011', '1111': '', '1221': '22', '2102': '1210', '2112': '11', '2211': '1122', '2222': '', '2332': '33', '3213': '2321', '3223': '22', '3322': '2233', '3333': ''}\n",
      "商集\n",
      "[x2*x0*x2^-1*x0^-1, x3*x0*x3^-1*x0^-1, x3*x1*x3^-1*x1^-1, x1*x0*x1*x0^-1*x1^-1*x0^-1, x2*x1*x2*x1^-1*x2^-1*x1^-1, x3*x2*x3*x2^-1*x3^-1*x2^-1, x0^4, x0*x1^2*x0*x1^-2, x1*x0^2*x1*x0^-2, x1^2*x0^2*x1^-2*x0^-2, x1^4, x1*x2^2*x1*x2^-2, x2*x1*x0*x2*x0^-1*x1^-1*x2^-1*x1^-1, x2*x1^2*x2*x1^-2, x2^2*x1^2*x2^-2*x1^-2, x2^4, x2*x3^2*x2*x3^-2, x3*x2*x1*x3*x1^-1*x2^-1*x3^-1*x2^-1, x3*x2^2*x3*x2^-2, x3^2*x2^2*x3^-2*x2^-2, x3^4]\n"
     ]
    },
    {
     "data": {
      "text/plain": [
       "True"
      ]
     },
     "execution_count": 127,
     "metadata": {},
     "output_type": "execute_result"
    }
   ],
   "source": [
    "k = 3\n",
    "_,_,relations = UniversalPropertyOfGroup(G,k)\n",
    "print(\"前%d层导出关系\"%(k+1),relations, sep=\"\\n\")\n",
    "# 定义商群\n",
    "FG = FreeGroup(n)\n",
    "elements = relations2elements(relations,FG.gens())\n",
    "print(\"商集\",elements,sep=\"\\n\")\n",
    "newG = FG/elements\n",
    "[len(i) for i in GroupTreeOfMaxDepth(newG,k+1)]==[len(i) for i in GroupTreeOfMaxDepth(G,k+1)]"
   ]
  },
  {
   "cell_type": "code",
   "execution_count": 129,
   "metadata": {},
   "outputs": [
    {
     "data": {
      "text/plain": [
       "1920"
      ]
     },
     "execution_count": 129,
     "metadata": {},
     "output_type": "execute_result"
    }
   ],
   "source": [
    "len(newG)"
   ]
  }
 ],
 "metadata": {
  "kernelspec": {
   "display_name": "SageMath 9.0",
   "language": "sage",
   "name": "sagemath"
  },
  "language_info": {
   "codemirror_mode": {
    "name": "ipython",
    "version": 3
   },
   "file_extension": ".py",
   "mimetype": "text/x-python",
   "name": "python",
   "nbconvert_exporter": "python",
   "pygments_lexer": "ipython3",
   "version": "3.8.10"
  }
 },
 "nbformat": 4,
 "nbformat_minor": 4
}
