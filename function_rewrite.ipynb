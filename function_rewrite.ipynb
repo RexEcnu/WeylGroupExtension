{
 "cells": [
  {
   "cell_type": "markdown",
   "metadata": {},
   "source": [
    "# Weyl 群扩张群的结构"
   ]
  },
  {
   "cell_type": "markdown",
   "metadata": {},
   "source": [
    "## 主要函数\n",
    "\n",
    "1. Thetas(s,n) 返回生成元集合 \\{\\theta_i\\}_{i=1}^n\n",
    "2. OrderMatrixOfGens(gens) 返回生成元的群阶矩阵\n",
    "3. GroupByOrderMathix(order_mat) 群阶矩阵作为泛性质，生成群\n",
    "4. GroupTreeOfMaxDepth(G,depth) 生成群树（BFS）\n",
    "5. UniversalPropertyOfGroup(G,max_depth=-1) 返回生成元的泛性质关系 "
   ]
  },
  {
   "cell_type": "markdown",
   "metadata": {},
   "source": [
    "### Thetas(s,n)"
   ]
  },
  {
   "cell_type": "code",
   "execution_count": null,
   "metadata": {},
   "outputs": [],
   "source": [
    "def ExpOfNilpotentMat(mat, max_depth=36, base_ring=ZZ):\n",
    "    \"\"\"\n",
    "    1. 返回幂零矩阵的指数矩阵\n",
    "    2. max_depth 指定 x^n=0 中，n 的最大值\n",
    "    3. 默认基环为整数环\n",
    "    4. 输入必须为 Sage 矩阵类型\n",
    "    \"\"\"\n",
    "    dim = mat.dimensions()[0]\n",
    "    exp_mat = matrix.identity(dim) # 单位矩阵\n",
    "    new,i = mat,1\n",
    "    while not new.is_zero(): # 运算直到 new 为零矩阵\n",
    "        exp_mat += 1/factorial(i) * new\n",
    "        i += 1\n",
    "        new *= mat\n",
    "    return matrix(ZZ,exp_mat)"
   ]
  },
  {
   "cell_type": "code",
   "execution_count": null,
   "metadata": {},
   "outputs": [],
   "source": [
    "# 不能用自然表示，一定是伴随表示\n",
    "def Thetas(s,n):\n",
    "    \"\"\"返回给定型的生成元集合 {\\theta_i}_{i=1}^n\"\"\"\n",
    "    exp = ExpOfNilpotentMat # 简写函数名\n",
    "    L = LieAlgebra(ZZ,cartan_type=[s,n])\n",
    "    # 一组基元\n",
    "    basis = L.basis()\n",
    "    # 上三角 e_i\n",
    "    es = [L.e(i+1).adjoint_matrix() for i in range(n)]\n",
    "    # 下三角 f_i\n",
    "    fs = [L.f(i+1).adjoint_matrix() for i in range(n)]\n",
    "    thetas = [exp(es[i])*exp(-fs[i])*exp(es[i]) for i in range(n)]\n",
    "    return thetas"
   ]
  },
  {
   "cell_type": "code",
   "execution_count": null,
   "metadata": {},
   "outputs": [],
   "source": [
    "# gap_str = lambda s:gap('\"'+s+'\"')\n",
    "# gap.Read(gap_str(\"big_weyl_group.py\"))\n",
    "\n",
    "# 函数测试\n",
    "for i in range(3):\n",
    "    print(len(MatrixGroup(Thetas(\"A\",i+1))))"
   ]
  },
  {
   "cell_type": "markdown",
   "metadata": {},
   "source": [
    "### OrderMatrixOfGens"
   ]
  },
  {
   "cell_type": "code",
   "execution_count": null,
   "metadata": {},
   "outputs": [],
   "source": [
    "def OrderMatrixOfGens(gens):\n",
    "    \"\"\"\n",
    "    1. 计算 gens 的群阶矩阵\n",
    "    2. 生成元的群基环必须为整数环\n",
    "    \"\"\"\n",
    "    orders = [[(a*b).multiplicative_order() for a in gens] for b in gens]\n",
    "    return matrix(ZZ,orders)"
   ]
  },
  {
   "cell_type": "code",
   "execution_count": null,
   "metadata": {},
   "outputs": [],
   "source": [
    "# 函数测试\n",
    "gens = Thetas(\"A\",3)\n",
    "print(gens[0].base_ring())\n",
    "OrderMatrixOfGens(gens)"
   ]
  },
  {
   "cell_type": "markdown",
   "metadata": {},
   "source": [
    "### 泛性质构造商群"
   ]
  },
  {
   "cell_type": "code",
   "execution_count": null,
   "metadata": {},
   "outputs": [],
   "source": [
    "def GroupByOrderMatrix(order_mat):\n",
    "    \"\"\"群阶矩阵 -> 自由群商群\"\"\"\n",
    "    n = order_mat.dimensions()[0]\n",
    "    FG = FreeGroup(n) # 自由群\n",
    "    gens = FG.gens() # 生成元\n",
    "    # 生成关系\n",
    "    relations = [(gens[i]*gens[j])^order_mat[i,j] for i in range(n) for j in range(n)]\n",
    "    return FG/relations"
   ]
  },
  {
   "cell_type": "code",
   "execution_count": null,
   "metadata": {},
   "outputs": [],
   "source": [
    "n = 2\n",
    "gens = Thetas(\"A\",n)\n",
    "order_mat = OrderMatrixOfGens(gens)\n",
    "print(order_mat)\n",
    "G = GroupByOrderMatrix(order_mat)\n",
    "G.1 * G.0 == G.1 * G.1"
   ]
  },
  {
   "cell_type": "markdown",
   "metadata": {},
   "source": [
    "### 生成群树"
   ]
  },
  {
   "cell_type": "code",
   "execution_count": null,
   "metadata": {
    "code_folding": []
   },
   "outputs": [],
   "source": [
    "def GroupTreeOfMaxDepth(G,depth=-1):\n",
    "    \"\"\"\n",
    "    1. BFS 获取群元素，按长度分层\n",
    "    2. 获取前 depth 层，首层记0，默认获取整树（有限群）\"\"\"\n",
    "    # 群树，初始为零层\n",
    "    tree = [[G.one()]] \n",
    "    if depth == 0: # 只有零层\n",
    "        return tree\n",
    "    gens = G.gens() # 生成元\n",
    "    S = [G.one()] # 已生成的群元素\n",
    "    tree.append([]) # 添加一层\n",
    "    # 将 gens 化简（去重复元素，以及单位元）\n",
    "    for a in gens:\n",
    "        if a not in S:\n",
    "            S.append(a)\n",
    "            tree[-1].append(a)\n",
    "    if depth == 1: # 只有一层\n",
    "        return tree\n",
    "    gens = tree[-1] # 简化的生成元\n",
    "    \n",
    "    # 循环开始，直到深度足够，或者群生成完毕\n",
    "    while depth-1 and len(tree[-1]):\n",
    "        depth -= 1\n",
    "        tree.append([])\n",
    "        for a in tree[-2]:\n",
    "            for b in gens:\n",
    "                c = a * b\n",
    "                if c not in S:\n",
    "                    S.append(c)\n",
    "                    tree[-1].append(c)\n",
    "    return tree"
   ]
  },
  {
   "cell_type": "code",
   "execution_count": null,
   "metadata": {},
   "outputs": [],
   "source": [
    "# 测试一\n",
    "mat = matrix(CoxeterMatrix([\"A\",2]))\n",
    "print(mat)\n",
    "G = GroupByOrderMatrix(mat)\n",
    "GroupTreeOfMaxDepth(G)"
   ]
  },
  {
   "cell_type": "code",
   "execution_count": null,
   "metadata": {},
   "outputs": [],
   "source": [
    "# 测试二\n",
    "n = 2\n",
    "gens = Thetas(\"A\",n)\n",
    "order_mat = OrderMatrixOfGens(gens)\n",
    "print(order_mat)\n",
    "G2 = GroupByOrderMatrix(order_mat)\n",
    "GroupTreeOfMaxDepth(G2,3)"
   ]
  },
  {
   "cell_type": "markdown",
   "metadata": {},
   "source": [
    "### UniversalPropertyOfGens"
   ]
  },
  {
   "cell_type": "code",
   "execution_count": 5,
   "metadata": {},
   "outputs": [],
   "source": [
    "def UniversalPropertyOfGroup(G,max_depth=-1):\n",
    "    \"\"\"\n",
    "    1. 求群生成元的泛性质\n",
    "    2. G 的生成元不能存在相等，或者等于1\n",
    "    3. max_depth 获取层数，默认遍历整树\n",
    "    \"\"\"\n",
    "    if max_depth == 0:\n",
    "        return [[G.one()]],[[\"\"]],{}\n",
    "    # 检验输入\n",
    "    gens = list(G.gens()) # 生成元\n",
    "    S = [G.one()] + gens # 已生成群元素\n",
    "    assert len(S)==len(set(S)),\"G 的生成元不能存在相等，或者等于1\"\n",
    "    \n",
    "    # 群树：元素形式和字符串形式\n",
    "    tree = [[G.one()],gens] \n",
    "    tree_str = [[\"\"],[\"%d\"%i for i in range(len(gens))]]\n",
    "    # 生成关系\n",
    "    relations = {}\n",
    "    while max_depth-1:\n",
    "        max_depth -= 1\n",
    "        new_layer = []\n",
    "        new_layer_str = []\n",
    "        for s,a in zip(tree_str[-1],tree[-1]):\n",
    "            for si,b in enumerate(gens):\n",
    "                c = a * b\n",
    "                c_str = s + \"-%d\"%si\n",
    "                if c in new_layer: # 化简到同一层\n",
    "                    if not any(s in c_str for s in relations):\n",
    "                        relations[c_str] = new_layer_str[new_layer.index(c)]\n",
    "                    continue\n",
    "                for i,layer in enumerate(tree):\n",
    "                    if c in layer: # 化简到前边层\n",
    "                        if not any(s in c_str for s in relations):\n",
    "                            relations[c_str] = tree_str[i][layer.index(c)]\n",
    "                        break\n",
    "                else:\n",
    "                    new_layer.append(c)\n",
    "                    new_layer_str.append(c_str)\n",
    "        if len(new_layer):\n",
    "            tree.append(new_layer)\n",
    "            tree_str.append(new_layer_str)\n",
    "        else:\n",
    "            break\n",
    "    return tree,tree_str,relations"
   ]
  },
  {
   "cell_type": "markdown",
   "metadata": {},
   "source": [
    "### 测试"
   ]
  },
  {
   "cell_type": "code",
   "execution_count": 12,
   "metadata": {},
   "outputs": [],
   "source": [
    "# 导入模块\n",
    "load(\"weyl_group_extension.sage\")"
   ]
  },
  {
   "cell_type": "code",
   "execution_count": 8,
   "metadata": {},
   "outputs": [],
   "source": [
    "from pprint import pprint\n",
    "def show_tree(tree):\n",
    "    \"\"\"打印群树\"\"\"\n",
    "    for i in tree_str:\n",
    "        for j in i:\n",
    "            print(j,end=\"\\t\")\n",
    "        print()\n",
    "    return\n",
    "\n",
    "def relations2elements(relations,gens):\n",
    "    \"\"\"将生成元转为群元素\"\"\"\n",
    "    one = gens[0]/gens[0]\n",
    "    elements = []\n",
    "    for key in relations:\n",
    "        new = one\n",
    "        for i in key.split(\"-\"):\n",
    "            new *= gens[int(i)]\n",
    "        if not relations[key]: # 指向单位元\n",
    "            elements.append(new)\n",
    "            continue\n",
    "        for i in relations[key][::-1].split(\"-\"):\n",
    "            new /= gens[int(i)]\n",
    "        elements.append(new)\n",
    "    return elements"
   ]
  },
  {
   "cell_type": "markdown",
   "metadata": {
    "heading_collapsed": true
   },
   "source": [
    "#### 测试一"
   ]
  },
  {
   "cell_type": "code",
   "execution_count": 6,
   "metadata": {
    "hidden": true,
    "scrolled": true
   },
   "outputs": [
    {
     "name": "stdout",
     "output_type": "stream",
     "text": [
      "[1 3 2]\n",
      "[3 1 3]\n",
      "[2 3 1]\n",
      "True\n"
     ]
    },
    {
     "data": {
      "text/plain": [
       "{'0-0': '',\n",
       " '1-1': '',\n",
       " '2-0': '0-2',\n",
       " '2-2': '',\n",
       " '1-0-1': '0-1-0',\n",
       " '2-1-2': '1-2-1',\n",
       " '2-1-0-2': '1-2-1-0'}"
      ]
     },
     "execution_count": 6,
     "metadata": {},
     "output_type": "execute_result"
    }
   ],
   "source": [
    "# 测试一，检验有限型 Coxeter 群\n",
    "mat = matrix(CoxeterMatrix([\"A\",3]))\n",
    "print(mat)\n",
    "G = GroupByOrderMatrix(mat)\n",
    "tree1 = GroupTreeOfMaxDepth(G)\n",
    "tree,tree_str,relations = UniversalPropertyOfGroup(G)\n",
    "print(tree1[:-1] == tree)\n",
    "relations"
   ]
  },
  {
   "cell_type": "code",
   "execution_count": null,
   "metadata": {
    "hidden": true
   },
   "outputs": [],
   "source": [
    "# 打印群树\n",
    "show_tree(tree_str)"
   ]
  },
  {
   "cell_type": "markdown",
   "metadata": {
    "heading_collapsed": true
   },
   "source": [
    "#### 测试二"
   ]
  },
  {
   "cell_type": "code",
   "execution_count": 14,
   "metadata": {
    "code_folding": [],
    "hidden": true
   },
   "outputs": [
    {
     "name": "stdout",
     "output_type": "stream",
     "text": [
      "[2 3 2]\n",
      "[3 2 3]\n",
      "[2 3 2]\n"
     ]
    },
    {
     "ename": "KeyboardInterrupt",
     "evalue": "",
     "output_type": "error",
     "traceback": [
      "\u001b[0;31m---------------------------------------------------------------------------\u001b[0m",
      "\u001b[0;31mKeyboardInterrupt\u001b[0m                         Traceback (most recent call last)",
      "\u001b[0;32m<ipython-input-14-2a6fecbb00ba>\u001b[0m in \u001b[0;36m<module>\u001b[0;34m\u001b[0m\n\u001b[1;32m      5\u001b[0m \u001b[0mprint\u001b[0m\u001b[0;34m(\u001b[0m\u001b[0morder_mat\u001b[0m\u001b[0;34m)\u001b[0m\u001b[0;34m\u001b[0m\u001b[0;34m\u001b[0m\u001b[0m\n\u001b[1;32m      6\u001b[0m \u001b[0mG\u001b[0m \u001b[0;34m=\u001b[0m \u001b[0mGroupByOrderMatrix\u001b[0m\u001b[0;34m(\u001b[0m\u001b[0morder_mat\u001b[0m\u001b[0;34m)\u001b[0m\u001b[0;34m\u001b[0m\u001b[0;34m\u001b[0m\u001b[0m\n\u001b[0;32m----> 7\u001b[0;31m \u001b[0mtree1\u001b[0m \u001b[0;34m=\u001b[0m \u001b[0mGroupTreeOfMaxDepth\u001b[0m\u001b[0;34m(\u001b[0m\u001b[0mG\u001b[0m\u001b[0;34m,\u001b[0m\u001b[0mInteger\u001b[0m\u001b[0;34m(\u001b[0m\u001b[0;36m8\u001b[0m\u001b[0;34m)\u001b[0m\u001b[0;34m)\u001b[0m\u001b[0;34m\u001b[0m\u001b[0;34m\u001b[0m\u001b[0m\n\u001b[0m\u001b[1;32m      8\u001b[0m \u001b[0mtree\u001b[0m\u001b[0;34m,\u001b[0m\u001b[0mtree_str\u001b[0m\u001b[0;34m,\u001b[0m\u001b[0mrelations\u001b[0m \u001b[0;34m=\u001b[0m \u001b[0mUniversalPropertyOfGroup\u001b[0m\u001b[0;34m(\u001b[0m\u001b[0mG\u001b[0m\u001b[0;34m,\u001b[0m\u001b[0mInteger\u001b[0m\u001b[0;34m(\u001b[0m\u001b[0;36m8\u001b[0m\u001b[0;34m)\u001b[0m\u001b[0;34m)\u001b[0m\u001b[0;34m\u001b[0m\u001b[0;34m\u001b[0m\u001b[0m\n\u001b[1;32m      9\u001b[0m \u001b[0mprint\u001b[0m\u001b[0;34m(\u001b[0m\u001b[0mtree1\u001b[0m \u001b[0;34m==\u001b[0m \u001b[0mtree\u001b[0m\u001b[0;34m)\u001b[0m\u001b[0;34m\u001b[0m\u001b[0;34m\u001b[0m\u001b[0m\n",
      "\u001b[0;32m<string>\u001b[0m in \u001b[0;36mGroupTreeOfMaxDepth\u001b[0;34m(G, depth)\u001b[0m\n",
      "\u001b[0;32m/usr/lib/python3/dist-packages/sage/structure/element.pyx\u001b[0m in \u001b[0;36msage.structure.element.Element.__richcmp__ (build/cythonized/sage/structure/element.c:9939)\u001b[0;34m()\u001b[0m\n\u001b[1;32m   1087\u001b[0m             \u001b[0;31m# an instance of Element. The explicit casts below make\u001b[0m\u001b[0;34m\u001b[0m\u001b[0;34m\u001b[0m\u001b[0;34m\u001b[0m\u001b[0m\n\u001b[1;32m   1088\u001b[0m             \u001b[0;31m# Cython generate optimized code for this call.\u001b[0m\u001b[0;34m\u001b[0m\u001b[0;34m\u001b[0m\u001b[0;34m\u001b[0m\u001b[0m\n\u001b[0;32m-> 1089\u001b[0;31m             \u001b[0;32mreturn\u001b[0m \u001b[0;34m(\u001b[0m\u001b[0;34m<\u001b[0m\u001b[0mElement\u001b[0m\u001b[0;34m>\u001b[0m\u001b[0mself\u001b[0m\u001b[0;34m)\u001b[0m\u001b[0;34m.\u001b[0m\u001b[0m_richcmp_\u001b[0m\u001b[0;34m(\u001b[0m\u001b[0mother\u001b[0m\u001b[0;34m,\u001b[0m \u001b[0mop\u001b[0m\u001b[0;34m)\u001b[0m\u001b[0;34m\u001b[0m\u001b[0;34m\u001b[0m\u001b[0m\n\u001b[0m\u001b[1;32m   1090\u001b[0m         \u001b[0;32melse\u001b[0m\u001b[0;34m:\u001b[0m\u001b[0;34m\u001b[0m\u001b[0;34m\u001b[0m\u001b[0m\n\u001b[1;32m   1091\u001b[0m             \u001b[0;32mreturn\u001b[0m \u001b[0mcoercion_model\u001b[0m\u001b[0;34m.\u001b[0m\u001b[0mrichcmp\u001b[0m\u001b[0;34m(\u001b[0m\u001b[0mself\u001b[0m\u001b[0;34m,\u001b[0m \u001b[0mother\u001b[0m\u001b[0;34m,\u001b[0m \u001b[0mop\u001b[0m\u001b[0;34m)\u001b[0m\u001b[0;34m\u001b[0m\u001b[0;34m\u001b[0m\u001b[0m\n",
      "\u001b[0;32m/usr/lib/python3/dist-packages/sage/groups/libgap_wrapper.pyx\u001b[0m in \u001b[0;36msage.groups.libgap_wrapper.ElementLibGAP._richcmp_ (build/cythonized/sage/groups/libgap_wrapper.c:6952)\u001b[0;34m()\u001b[0m\n\u001b[1;32m    633\u001b[0m             \u001b[0;32mTrue\u001b[0m\u001b[0;34m\u001b[0m\u001b[0;34m\u001b[0m\u001b[0m\n\u001b[1;32m    634\u001b[0m         \"\"\"\n\u001b[0;32m--> 635\u001b[0;31m         return richcmp((<ElementLibGAP>left)._libgap,\n\u001b[0m\u001b[1;32m    636\u001b[0m                        (<ElementLibGAP>right)._libgap, op)\n\u001b[1;32m    637\u001b[0m \u001b[0;34m\u001b[0m\u001b[0m\n",
      "\u001b[0;32m/usr/lib/python3/dist-packages/sage/structure/richcmp.pxd\u001b[0m in \u001b[0;36msage.structure.richcmp.richcmp (build/cythonized/sage/groups/libgap_wrapper.c:8267)\u001b[0;34m()\u001b[0m\n\u001b[1;32m     48\u001b[0m         \u001b[0;32mFalse\u001b[0m\u001b[0;34m\u001b[0m\u001b[0;34m\u001b[0m\u001b[0m\n\u001b[1;32m     49\u001b[0m     \"\"\"\n\u001b[0;32m---> 50\u001b[0;31m     \u001b[0;32mreturn\u001b[0m \u001b[0mPyObject_RichCompare\u001b[0m\u001b[0;34m(\u001b[0m\u001b[0mx\u001b[0m\u001b[0;34m,\u001b[0m \u001b[0my\u001b[0m\u001b[0;34m,\u001b[0m \u001b[0mop\u001b[0m\u001b[0;34m)\u001b[0m\u001b[0;34m\u001b[0m\u001b[0;34m\u001b[0m\u001b[0m\n\u001b[0m\u001b[1;32m     51\u001b[0m \u001b[0;34m\u001b[0m\u001b[0m\n\u001b[1;32m     52\u001b[0m \u001b[0;34m\u001b[0m\u001b[0m\n",
      "\u001b[0;32m/usr/lib/python3/dist-packages/sage/structure/element.pyx\u001b[0m in \u001b[0;36msage.structure.element.Element.__richcmp__ (build/cythonized/sage/structure/element.c:9939)\u001b[0;34m()\u001b[0m\n\u001b[1;32m   1087\u001b[0m             \u001b[0;31m# an instance of Element. The explicit casts below make\u001b[0m\u001b[0;34m\u001b[0m\u001b[0;34m\u001b[0m\u001b[0;34m\u001b[0m\u001b[0m\n\u001b[1;32m   1088\u001b[0m             \u001b[0;31m# Cython generate optimized code for this call.\u001b[0m\u001b[0;34m\u001b[0m\u001b[0;34m\u001b[0m\u001b[0;34m\u001b[0m\u001b[0m\n\u001b[0;32m-> 1089\u001b[0;31m             \u001b[0;32mreturn\u001b[0m \u001b[0;34m(\u001b[0m\u001b[0;34m<\u001b[0m\u001b[0mElement\u001b[0m\u001b[0;34m>\u001b[0m\u001b[0mself\u001b[0m\u001b[0;34m)\u001b[0m\u001b[0;34m.\u001b[0m\u001b[0m_richcmp_\u001b[0m\u001b[0;34m(\u001b[0m\u001b[0mother\u001b[0m\u001b[0;34m,\u001b[0m \u001b[0mop\u001b[0m\u001b[0;34m)\u001b[0m\u001b[0;34m\u001b[0m\u001b[0;34m\u001b[0m\u001b[0m\n\u001b[0m\u001b[1;32m   1090\u001b[0m         \u001b[0;32melse\u001b[0m\u001b[0;34m:\u001b[0m\u001b[0;34m\u001b[0m\u001b[0;34m\u001b[0m\u001b[0m\n\u001b[1;32m   1091\u001b[0m             \u001b[0;32mreturn\u001b[0m \u001b[0mcoercion_model\u001b[0m\u001b[0;34m.\u001b[0m\u001b[0mrichcmp\u001b[0m\u001b[0;34m(\u001b[0m\u001b[0mself\u001b[0m\u001b[0;34m,\u001b[0m \u001b[0mother\u001b[0m\u001b[0;34m,\u001b[0m \u001b[0mop\u001b[0m\u001b[0;34m)\u001b[0m\u001b[0;34m\u001b[0m\u001b[0;34m\u001b[0m\u001b[0m\n",
      "\u001b[0;32m/usr/lib/python3/dist-packages/sage/libs/gap/element.pyx\u001b[0m in \u001b[0;36msage.libs.gap.element.GapElement._richcmp_ (build/cythonized/sage/libs/gap/element.c:9158)\u001b[0;34m()\u001b[0m\n\u001b[1;32m    929\u001b[0m             \u001b[0;32mreturn\u001b[0m \u001b[0mself\u001b[0m\u001b[0;34m.\u001b[0m\u001b[0m_compare_equal\u001b[0m\u001b[0;34m(\u001b[0m\u001b[0mother\u001b[0m\u001b[0;34m)\u001b[0m \u001b[0;32mor\u001b[0m \u001b[0mself\u001b[0m\u001b[0;34m.\u001b[0m\u001b[0m_compare_less\u001b[0m\u001b[0;34m(\u001b[0m\u001b[0mother\u001b[0m\u001b[0;34m)\u001b[0m\u001b[0;34m\u001b[0m\u001b[0;34m\u001b[0m\u001b[0m\n\u001b[1;32m    930\u001b[0m         \u001b[0;32melif\u001b[0m \u001b[0mop\u001b[0m \u001b[0;34m==\u001b[0m \u001b[0mPy_EQ\u001b[0m\u001b[0;34m:\u001b[0m\u001b[0;34m\u001b[0m\u001b[0;34m\u001b[0m\u001b[0m\n\u001b[0;32m--> 931\u001b[0;31m             \u001b[0;32mreturn\u001b[0m \u001b[0mself\u001b[0m\u001b[0;34m.\u001b[0m\u001b[0m_compare_equal\u001b[0m\u001b[0;34m(\u001b[0m\u001b[0mother\u001b[0m\u001b[0;34m)\u001b[0m\u001b[0;34m\u001b[0m\u001b[0;34m\u001b[0m\u001b[0m\n\u001b[0m\u001b[1;32m    932\u001b[0m         \u001b[0;32melif\u001b[0m \u001b[0mop\u001b[0m \u001b[0;34m==\u001b[0m \u001b[0mPy_GT\u001b[0m\u001b[0;34m:\u001b[0m\u001b[0;34m\u001b[0m\u001b[0;34m\u001b[0m\u001b[0m\n\u001b[1;32m    933\u001b[0m             \u001b[0;32mreturn\u001b[0m \u001b[0;32mnot\u001b[0m \u001b[0mself\u001b[0m\u001b[0;34m.\u001b[0m\u001b[0m_compare_less\u001b[0m\u001b[0;34m(\u001b[0m\u001b[0mother\u001b[0m\u001b[0;34m)\u001b[0m \u001b[0;32mand\u001b[0m \u001b[0;32mnot\u001b[0m \u001b[0mself\u001b[0m\u001b[0;34m.\u001b[0m\u001b[0m_compare_equal\u001b[0m\u001b[0;34m(\u001b[0m\u001b[0mother\u001b[0m\u001b[0;34m)\u001b[0m\u001b[0;34m\u001b[0m\u001b[0;34m\u001b[0m\u001b[0m\n",
      "\u001b[0;32m/usr/lib/python3/dist-packages/sage/libs/gap/element.pyx\u001b[0m in \u001b[0;36msage.libs.gap.element.GapElement._compare_equal (build/cythonized/sage/libs/gap/element.c:9507)\u001b[0;34m()\u001b[0m\n\u001b[1;32m    953\u001b[0m             \u001b[0;32mreturn\u001b[0m \u001b[0mid\u001b[0m\u001b[0;34m(\u001b[0m\u001b[0mself\u001b[0m\u001b[0;34m)\u001b[0m \u001b[0;34m==\u001b[0m \u001b[0mid\u001b[0m\u001b[0;34m(\u001b[0m\u001b[0mother\u001b[0m\u001b[0;34m)\u001b[0m\u001b[0;34m\u001b[0m\u001b[0;34m\u001b[0m\u001b[0m\n\u001b[1;32m    954\u001b[0m         \u001b[0mcdef\u001b[0m \u001b[0mGapElement\u001b[0m \u001b[0mc_other\u001b[0m \u001b[0;34m=\u001b[0m \u001b[0;34m<\u001b[0m\u001b[0mGapElement\u001b[0m\u001b[0;34m>\u001b[0m\u001b[0mother\u001b[0m\u001b[0;34m\u001b[0m\u001b[0;34m\u001b[0m\u001b[0m\n\u001b[0;32m--> 955\u001b[0;31m         \u001b[0msig_on\u001b[0m\u001b[0;34m(\u001b[0m\u001b[0;34m)\u001b[0m\u001b[0;34m\u001b[0m\u001b[0;34m\u001b[0m\u001b[0m\n\u001b[0m\u001b[1;32m    956\u001b[0m         \u001b[0;32mtry\u001b[0m\u001b[0;34m:\u001b[0m\u001b[0;34m\u001b[0m\u001b[0;34m\u001b[0m\u001b[0m\n\u001b[1;32m    957\u001b[0m             \u001b[0mGAP_Enter\u001b[0m\u001b[0;34m(\u001b[0m\u001b[0;34m)\u001b[0m\u001b[0;34m\u001b[0m\u001b[0;34m\u001b[0m\u001b[0m\n",
      "\u001b[0;31mKeyboardInterrupt\u001b[0m: "
     ]
    }
   ],
   "source": [
    "# 测试二，检验无限群\n",
    "# 初始化\n",
    "s,n = \"A\",3\n",
    "gens = Thetas(s,n)\n",
    "order_mat = OrderMatrixOfGens(gens)\n",
    "print(\"群阶矩阵（泛性质）\",order_mat, sep=\"\\n\")\n",
    "G = GroupByOrderMatrix(order_mat)\n",
    "\n",
    "# 计算结果\n",
    "k = 4 # 取前 k 层\n",
    "tree1 = GroupTreeOfMaxDepth(G,k)\n",
    "tree,tree_str,relations = UniversalPropertyOfGroup(G,k)\n",
    "print(tree1 == tree)\n",
    "relations"
   ]
  },
  {
   "cell_type": "markdown",
   "metadata": {
    "heading_collapsed": true
   },
   "source": [
    "#### 测试三"
   ]
  },
  {
   "cell_type": "code",
   "execution_count": null,
   "metadata": {
    "hidden": true
   },
   "outputs": [],
   "source": [
    "# 测试三，I型 Coxeter 群，仅当全部遍历时，泛性质才完整\n",
    "mat = matrix([[1,20],[20,1]])\n",
    "print(mat)\n",
    "G = GroupByOrderMatrix(mat)\n",
    "tree1 = GroupTreeOfMaxDepth(G,10)\n",
    "tree,tree_str,relations = UniversalPropertyOfGroup(G,9)\n",
    "print(tree1 == tree)\n",
    "relations"
   ]
  },
  {
   "cell_type": "markdown",
   "metadata": {},
   "source": [
    "#### 测试四"
   ]
  },
  {
   "cell_type": "code",
   "execution_count": null,
   "metadata": {},
   "outputs": [],
   "source": [
    "# 测试四，补充泛性质后的规律\n",
    "for n in range(5):\n",
    "    mat = matrix(CoxeterMatrix([\"A\",n+1]))\n",
    "    print(mat)\n",
    "    G = GroupByOrderMatrix(mat)\n",
    "    _,tree_str,relations = UniversalPropertyOfGroup(G)\n",
    "    print({key:relations[key] for key in relations.keys() if len(set(list(key)))>2})"
   ]
  },
  {
   "cell_type": "markdown",
   "metadata": {},
   "source": [
    "#### 测试五"
   ]
  },
  {
   "cell_type": "code",
   "execution_count": null,
   "metadata": {
    "scrolled": true
   },
   "outputs": [],
   "source": [
    "# 测试五，用前 k 阶泛性质生成商群 -->> 局部泛性质 √\n",
    "n,k = 2,4\n",
    "gens = Thetas(\"A\",n)\n",
    "order_mat = OrderMatrixOfGens(gens)\n",
    "print(\"泛性质矩阵\",order_mat,sep=\"\\n\")\n",
    "G = GroupByOrderMatrix(order_mat)\n",
    "tree,tree_str,relations = UniversalPropertyOfGroup(G,k)\n",
    "print(\"前%d层导出关系\"%(k+1),relations, sep=\"\\n\")\n",
    "# 定义商群\n",
    "FG = FreeGroup(2)\n",
    "elements = relations2elements(relations,FG.gens())\n",
    "print(\"商集\",elements,sep=\"\\n\")\n",
    "newG = FG/elements\n",
    "[len(i) for i in GroupTreeOfMaxDepth(newG,k+1)]==[len(i) for i in GroupTreeOfMaxDepth(G,k+1)]"
   ]
  },
  {
   "cell_type": "code",
   "execution_count": null,
   "metadata": {},
   "outputs": [],
   "source": [
    "[len(i) for i in GroupTreeOfMaxDepth(newG,13)]==[len(i) for i in GroupTreeOfMaxDepth(G,13)]"
   ]
  },
  {
   "cell_type": "code",
   "execution_count": null,
   "metadata": {},
   "outputs": [],
   "source": [
    "_,_,relations = UniversalPropertyOfGroup(G,13)\n",
    "relations\n",
    "# {'0000': '',\n",
    "#  '1111': '',\n",
    "#  '01010': '111',\n",
    "#  '10101': '000',\n",
    "#  '000111': '1010',\n",
    "#  '111000': '0101',\n",
    "#  '10100101': '00011000',\n",
    "#  '11100111': '01011010',\n",
    "#  '0001100011000': '10100100101'}"
   ]
  },
  {
   "cell_type": "markdown",
   "metadata": {},
   "source": [
    "#### 测试六"
   ]
  },
  {
   "cell_type": "code",
   "execution_count": null,
   "metadata": {},
   "outputs": [],
   "source": [
    "# 测试六，weyl扩张群的泛性质\n",
    "s,n = \"A\",4\n",
    "gens = Thetas(s,n)\n",
    "G = MatrixGroup(gens)\n",
    "gens = G.gens()"
   ]
  },
  {
   "cell_type": "code",
   "execution_count": null,
   "metadata": {},
   "outputs": [],
   "source": [
    "k = 3\n",
    "_,_,relations = UniversalPropertyOfGroup(G,k)\n",
    "print(\"前%d层导出关系\"%(k+1),relations, sep=\"\\n\")\n",
    "# 定义商群\n",
    "FG = FreeGroup(n)\n",
    "elements = relations2elements(relations,FG.gens())\n",
    "print(\"商集\",elements,sep=\"\\n\")\n",
    "newG = FG/elements\n",
    "[len(i) for i in GroupTreeOfMaxDepth(newG,k+1)]==[len(i) for i in GroupTreeOfMaxDepth(G,k+1)]"
   ]
  }
 ],
 "metadata": {
  "kernelspec": {
   "display_name": "SageMath 9.0",
   "language": "sage",
   "name": "sagemath"
  },
  "language_info": {
   "codemirror_mode": {
    "name": "ipython",
    "version": 3
   },
   "file_extension": ".py",
   "mimetype": "text/x-python",
   "name": "python",
   "nbconvert_exporter": "python",
   "pygments_lexer": "ipython3",
   "version": "3.8.10"
  }
 },
 "nbformat": 4,
 "nbformat_minor": 4
}
