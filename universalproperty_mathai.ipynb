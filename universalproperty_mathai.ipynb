{
 "cells": [
  {
   "cell_type": "markdown",
   "metadata": {},
   "source": [
    "# Weyl 群扩张群的泛性质 "
   ]
  },
  {
   "cell_type": "code",
   "execution_count": 1,
   "metadata": {},
   "outputs": [
    {
     "data": {
      "text/plain": [
       "'/home/zhwang'"
      ]
     },
     "execution_count": 1,
     "metadata": {},
     "output_type": "execute_result"
    }
   ],
   "source": [
    "pwd"
   ]
  },
  {
   "cell_type": "code",
   "execution_count": 2,
   "metadata": {},
   "outputs": [
    {
     "name": "stdout",
     "output_type": "stream",
     "text": [
      "/home/zhwang/Documents/jupyter/0-items/WeylGroupExtension\n"
     ]
    }
   ],
   "source": [
    "cd Documents/jupyter/0-items/WeylGroupExtension/"
   ]
  },
  {
   "cell_type": "code",
   "execution_count": 3,
   "metadata": {},
   "outputs": [],
   "source": [
    "load(\"weyl_group_extension.sage\")"
   ]
  },
  {
   "cell_type": "code",
   "execution_count": 4,
   "metadata": {},
   "outputs": [],
   "source": [
    "import time\n",
    "from pprint import pprint\n",
    "class Time():\n",
    "    '''\n",
    "    计时器\n",
    "    输入：tic()开始\n",
    "    输出：toc()结束\n",
    "    误差：0.01s\n",
    "    '''\n",
    "    def tic(self):\n",
    "        self.time = time.time()\n",
    "    def toc(self,text='用时：'):\n",
    "        t = self.time\n",
    "        self.tic()\n",
    "        print(text+'%.3f'%(self.time-t))\n",
    "tt = Time()\n",
    "tic = tt.tic\n",
    "toc = tt.toc"
   ]
  },
  {
   "cell_type": "markdown",
   "metadata": {},
   "source": [
    "目前已有函数\n",
    "1. ExpOfNilpotentMat(mat, max_depth=36, base_ring=ZZ) # 返回幂零阵的指数矩阵\n",
    "2. Thetas(s,n) 返回生成元集合 \\{\\theta_i\\}_{i=1}^n\n",
    "3. OrderMatrixOfGens(gens) 返回生成元的群阶矩阵\n",
    "4. GroupByOrderMathix(order_mat) 群阶矩阵作为泛性质，生成群\n",
    "5. GroupTreeOfMaxDepth(G,depth) 生成群树（BFS）\n",
    "6. UniversalPropertyOfGroup(G,max_depth=-1) 求群生成元的泛性质\n",
    "7. relations2elements(relations,gens) 生成元通过 gens 转为群的子集"
   ]
  },
  {
   "cell_type": "markdown",
   "metadata": {
    "heading_collapsed": true
   },
   "source": [
    "## 知识背景"
   ]
  },
  {
   "cell_type": "markdown",
   "metadata": {
    "heading_collapsed": true,
    "hidden": true
   },
   "source": [
    "### 极小泛性质"
   ]
  },
  {
   "cell_type": "markdown",
   "metadata": {
    "hidden": true
   },
   "source": [
    "1. 上边算法求生成元泛性质，给出的是相对粗糙的刻画；\n",
    "2. 一般地，很难有直接构造的算法，求“最精细”的刻画；\n",
    "3. 难处可以归结为：对任意自由群商群，判断表示式是否等于1\n",
    "4. 一些特殊情形，比如 Coxeter 群，Humphreys 书给出了判断等于1的充要方法；\n",
    "5. 但就一般情形来说，这很难做到的，以至于专业研究群论的工具 GAP 有时都判断不了"
   ]
  },
  {
   "cell_type": "markdown",
   "metadata": {
    "heading_collapsed": true,
    "hidden": true
   },
   "source": [
    "### 函数说明及相关性质"
   ]
  },
  {
   "cell_type": "markdown",
   "metadata": {
    "hidden": true
   },
   "source": [
    "1. 函数说明：\n",
    "   - GroupTreeOfMaxDepth(G,depth) 群的 0-depth 层\n",
    "   - UniversalPropertyOfGroup(G,max_depth=-1) 返回值有三个（默认生成整树）：\n",
    "      - tree 群 G 的 0-max_depth 层\n",
    "      - tree_str 群 G 的 0-max_depth 层，元素用 reduced expression  \n",
    "      - relations 字典，**能够生成 0-max_depth 层，且键值 <= max_depth 的泛性质**\n",
    "2. 泛性质等价\n",
    "   - relations 给出的是粗刻画，需进一步加细\n",
    "   - relations 可以将 0-max_depth 所有的 expression 简约化\n",
    "   - 反之，如果 0-max_depth 所有的 expression 简约化已知，可导出 relations\n",
    "   - 等价关系：若 relaitons1 和 relations2 的键值均在 0-max_depth 层，且将 0-max_depth 层的所有 expression 简约化，则二者等价\n",
    "   - 等价的两个泛性质关系可相互生成\n",
    "3. 基于上边的讨论，从泛性质的粗刻画出发，逐步细化"
   ]
  },
  {
   "cell_type": "markdown",
   "metadata": {
    "heading_collapsed": true,
    "hidden": true
   },
   "source": [
    "### Weyl 群及其扩张群的相关结论"
   ]
  },
  {
   "cell_type": "markdown",
   "metadata": {
    "hidden": true
   },
   "source": [
    "观察前几阶的测试结论，易得性质猜想:\n",
    "1. 确定 Weyl 群的泛性质，需获取前 n 层：\n",
    "   - A,D,E 型：前 3 层\n",
    "   - B,C,F 型：前 4 层\n",
    "   - G 型：前 6 层\n",
    "2. 确定 Weyl 扩张群的泛性质，需要获取前 n 层：\n",
    "   - A,D,E 型：前 4 层\n",
    "   - B,C,F 型：前 4 层\n",
    "   - G 型：前 6 层\n",
    "3. 此外，二者泛性质可以只用包含两元素的情形"
   ]
  },
  {
   "cell_type": "markdown",
   "metadata": {
    "heading_collapsed": true
   },
   "source": [
    "## A 型 Weyl 扩张群的泛性质"
   ]
  },
  {
   "cell_type": "code",
   "execution_count": 11,
   "metadata": {
    "collapsed": true,
    "hidden": true
   },
   "outputs": [
    {
     "name": "stdout",
     "output_type": "stream",
     "text": [
      "A 1\n",
      "获取群树用时0.001\n",
      "各层数目 [1, 1, 0]\n",
      "用时：0.000\n",
      "修改后的各层数目 [1, 1, 0] \n",
      "是否相等 True\n",
      "\n",
      "A 2\n",
      "获取群树用时0.098\n",
      "各层数目 [1, 2, 4, 7, 7]\n",
      "用时：0.008\n",
      "修改后的各层数目 [1, 2, 4, 7, 7] \n",
      "是否相等 True\n",
      "\n",
      "A 3\n",
      "获取群树用时1.153\n",
      "各层数目 [1, 3, 7, 15, 21]\n",
      "用时：0.042\n",
      "修改后的各层数目 [1, 3, 7, 15, 21] \n",
      "是否相等 True\n",
      "\n",
      "A 4\n",
      "获取群树用时18.948\n",
      "各层数目 [1, 4, 13, 37, 86]\n",
      "用时：0.347\n",
      "修改后的各层数目 [1, 4, 13, 37, 86] \n",
      "是否相等 True\n",
      "\n",
      "A 5\n",
      "获取群树用时131.413\n",
      "各层数目 [1, 5, 19, 62, 167]\n",
      "用时：1.221\n",
      "修改后的各层数目 [1, 5, 19, 62, 167] \n",
      "是否相等 True\n",
      "\n",
      "A 6\n"
     ]
    },
    {
     "ename": "KeyboardInterrupt",
     "evalue": "",
     "output_type": "error",
     "traceback": [
      "\u001b[0;31m--------------------------------------------------------\u001b[0m",
      "\u001b[0;31mKeyboardInterrupt\u001b[0m      Traceback (most recent call last)",
      "\u001b[0;32m<ipython-input-11-7fa3e52cf129>\u001b[0m in \u001b[0;36m<module>\u001b[0;34m\u001b[0m\n\u001b[1;32m      7\u001b[0m     \u001b[0;31m# 计时\u001b[0m\u001b[0;34m\u001b[0m\u001b[0;34m\u001b[0m\u001b[0;34m\u001b[0m\u001b[0m\n\u001b[1;32m      8\u001b[0m     \u001b[0mtic\u001b[0m\u001b[0;34m(\u001b[0m\u001b[0;34m)\u001b[0m\u001b[0;34m\u001b[0m\u001b[0;34m\u001b[0m\u001b[0m\n\u001b[0;32m----> 9\u001b[0;31m     \u001b[0mtree\u001b[0m \u001b[0;34m=\u001b[0m \u001b[0mGroupTreeOfMaxDepth\u001b[0m\u001b[0;34m(\u001b[0m\u001b[0mG\u001b[0m\u001b[0;34m,\u001b[0m\u001b[0mk\u001b[0m\u001b[0;34m)\u001b[0m\u001b[0;34m\u001b[0m\u001b[0;34m\u001b[0m\u001b[0m\n\u001b[0m\u001b[1;32m     10\u001b[0m     \u001b[0mtoc\u001b[0m\u001b[0;34m(\u001b[0m\u001b[0;34m\"获取群树用时\"\u001b[0m\u001b[0;34m)\u001b[0m\u001b[0;34m\u001b[0m\u001b[0;34m\u001b[0m\u001b[0m\n\u001b[1;32m     11\u001b[0m     \u001b[0mrecord_len\u001b[0m \u001b[0;34m=\u001b[0m \u001b[0;34m[\u001b[0m\u001b[0mlen\u001b[0m\u001b[0;34m(\u001b[0m\u001b[0mi\u001b[0m\u001b[0;34m)\u001b[0m \u001b[0;32mfor\u001b[0m \u001b[0mi\u001b[0m \u001b[0;32min\u001b[0m \u001b[0mtree\u001b[0m\u001b[0;34m]\u001b[0m \u001b[0;31m# 记录各层长度数据\u001b[0m\u001b[0;34m\u001b[0m\u001b[0;34m\u001b[0m\u001b[0m\n",
      "\u001b[0;32m<string>\u001b[0m in \u001b[0;36mGroupTreeOfMaxDepth\u001b[0;34m(G, depth)\u001b[0m\n",
      "\u001b[0;32m/mnt/local/home/zhwang/SageMath/local/lib/python3.9/site-packages/sage/structure/element.pyx\u001b[0m in \u001b[0;36msage.structure.element.Element.__richcmp__ (build/cythonized/sage/structure/element.c:10346)\u001b[0;34m()\u001b[0m\n\u001b[1;32m   1107\u001b[0m             \u001b[0;31m# an instance of Element. The explicit casts below make\u001b[0m\u001b[0;34m\u001b[0m\u001b[0;34m\u001b[0m\u001b[0;34m\u001b[0m\u001b[0m\n\u001b[1;32m   1108\u001b[0m             \u001b[0;31m# Cython generate optimized code for this call.\u001b[0m\u001b[0;34m\u001b[0m\u001b[0;34m\u001b[0m\u001b[0;34m\u001b[0m\u001b[0m\n\u001b[0;32m-> 1109\u001b[0;31m             \u001b[0;32mreturn\u001b[0m \u001b[0;34m(\u001b[0m\u001b[0;34m<\u001b[0m\u001b[0mElement\u001b[0m\u001b[0;34m>\u001b[0m\u001b[0mself\u001b[0m\u001b[0;34m)\u001b[0m\u001b[0;34m.\u001b[0m\u001b[0m_richcmp_\u001b[0m\u001b[0;34m(\u001b[0m\u001b[0mother\u001b[0m\u001b[0;34m,\u001b[0m \u001b[0mop\u001b[0m\u001b[0;34m)\u001b[0m\u001b[0;34m\u001b[0m\u001b[0;34m\u001b[0m\u001b[0m\n\u001b[0m\u001b[1;32m   1110\u001b[0m         \u001b[0;32melse\u001b[0m\u001b[0;34m:\u001b[0m\u001b[0;34m\u001b[0m\u001b[0;34m\u001b[0m\u001b[0m\n\u001b[1;32m   1111\u001b[0m             \u001b[0;32mreturn\u001b[0m \u001b[0mcoercion_model\u001b[0m\u001b[0;34m.\u001b[0m\u001b[0mrichcmp\u001b[0m\u001b[0;34m(\u001b[0m\u001b[0mself\u001b[0m\u001b[0;34m,\u001b[0m \u001b[0mother\u001b[0m\u001b[0;34m,\u001b[0m \u001b[0mop\u001b[0m\u001b[0;34m)\u001b[0m\u001b[0;34m\u001b[0m\u001b[0;34m\u001b[0m\u001b[0m\n",
      "\u001b[0;32m/mnt/local/home/zhwang/SageMath/local/lib/python3.9/site-packages/sage/groups/matrix_gps/group_element.pyx\u001b[0m in \u001b[0;36msage.groups.matrix_gps.group_element.MatrixGroupElement_gap._richcmp_ (build/cythonized/sage/groups/matrix_gps/group_element.c:7661)\u001b[0;34m()\u001b[0m\n\u001b[1;32m    562\u001b[0m             \u001b[0;32mFalse\u001b[0m\u001b[0;34m\u001b[0m\u001b[0;34m\u001b[0m\u001b[0m\n\u001b[1;32m    563\u001b[0m         \"\"\"\n\u001b[0;32m--> 564\u001b[0;31m         \u001b[0;32mreturn\u001b[0m \u001b[0mrichcmp\u001b[0m\u001b[0;34m(\u001b[0m\u001b[0mself\u001b[0m\u001b[0;34m.\u001b[0m\u001b[0mmatrix\u001b[0m\u001b[0;34m(\u001b[0m\u001b[0;34m)\u001b[0m\u001b[0;34m,\u001b[0m \u001b[0mother\u001b[0m\u001b[0;34m.\u001b[0m\u001b[0mmatrix\u001b[0m\u001b[0;34m(\u001b[0m\u001b[0;34m)\u001b[0m\u001b[0;34m,\u001b[0m \u001b[0mop\u001b[0m\u001b[0;34m)\u001b[0m\u001b[0;34m\u001b[0m\u001b[0;34m\u001b[0m\u001b[0m\n\u001b[0m\u001b[1;32m    565\u001b[0m \u001b[0;34m\u001b[0m\u001b[0m\n\u001b[1;32m    566\u001b[0m     \u001b[0;34m@\u001b[0m\u001b[0mcached_method\u001b[0m\u001b[0;34m\u001b[0m\u001b[0;34m\u001b[0m\u001b[0m\n",
      "\u001b[0;32m/mnt/local/home/zhwang/SageMath/local/lib/python3.9/site-packages/sage/misc/cachefunc.pyx\u001b[0m in \u001b[0;36msage.misc.cachefunc.CachedMethodCallerNoArgs.__call__ (build/cythonized/sage/misc/cachefunc.c:12906)\u001b[0;34m()\u001b[0m\n\u001b[1;32m   2308\u001b[0m         \u001b[0;32mif\u001b[0m \u001b[0mself\u001b[0m\u001b[0;34m.\u001b[0m\u001b[0mcache\u001b[0m \u001b[0;32mis\u001b[0m \u001b[0;32mNone\u001b[0m\u001b[0;34m:\u001b[0m\u001b[0;34m\u001b[0m\u001b[0;34m\u001b[0m\u001b[0m\n\u001b[1;32m   2309\u001b[0m             \u001b[0mf\u001b[0m \u001b[0;34m=\u001b[0m \u001b[0mself\u001b[0m\u001b[0;34m.\u001b[0m\u001b[0mf\u001b[0m\u001b[0;34m\u001b[0m\u001b[0;34m\u001b[0m\u001b[0m\n\u001b[0;32m-> 2310\u001b[0;31m             \u001b[0mself\u001b[0m\u001b[0;34m.\u001b[0m\u001b[0mcache\u001b[0m \u001b[0;34m=\u001b[0m \u001b[0mf\u001b[0m\u001b[0;34m(\u001b[0m\u001b[0mself\u001b[0m\u001b[0;34m.\u001b[0m\u001b[0m_instance\u001b[0m\u001b[0;34m)\u001b[0m\u001b[0;34m\u001b[0m\u001b[0;34m\u001b[0m\u001b[0m\n\u001b[0m\u001b[1;32m   2311\u001b[0m         \u001b[0;32mreturn\u001b[0m \u001b[0mself\u001b[0m\u001b[0;34m.\u001b[0m\u001b[0mcache\u001b[0m\u001b[0;34m\u001b[0m\u001b[0;34m\u001b[0m\u001b[0m\n\u001b[1;32m   2312\u001b[0m \u001b[0;34m\u001b[0m\u001b[0m\n",
      "\u001b[0;32m/mnt/local/home/zhwang/SageMath/local/lib/python3.9/site-packages/sage/groups/matrix_gps/group_element.pyx\u001b[0m in \u001b[0;36msage.groups.matrix_gps.group_element.MatrixGroupElement_gap.matrix (build/cythonized/sage/groups/matrix_gps/group_element.c:8017)\u001b[0;34m()\u001b[0m\n\u001b[1;32m    601\u001b[0m         \u001b[0mMS\u001b[0m \u001b[0;34m=\u001b[0m \u001b[0mself\u001b[0m\u001b[0;34m.\u001b[0m\u001b[0mparent\u001b[0m\u001b[0;34m(\u001b[0m\u001b[0;34m)\u001b[0m\u001b[0;34m.\u001b[0m\u001b[0mmatrix_space\u001b[0m\u001b[0;34m(\u001b[0m\u001b[0;34m)\u001b[0m\u001b[0;34m\u001b[0m\u001b[0;34m\u001b[0m\u001b[0m\n\u001b[1;32m    602\u001b[0m         \u001b[0mring\u001b[0m \u001b[0;34m=\u001b[0m \u001b[0mMS\u001b[0m\u001b[0;34m.\u001b[0m\u001b[0mbase_ring\u001b[0m\u001b[0;34m(\u001b[0m\u001b[0;34m)\u001b[0m\u001b[0;34m\u001b[0m\u001b[0;34m\u001b[0m\u001b[0m\n\u001b[0;32m--> 603\u001b[0;31m         \u001b[0mm\u001b[0m \u001b[0;34m=\u001b[0m \u001b[0mMS\u001b[0m\u001b[0;34m(\u001b[0m\u001b[0;34m[\u001b[0m\u001b[0mx\u001b[0m\u001b[0;34m.\u001b[0m\u001b[0msage\u001b[0m\u001b[0;34m(\u001b[0m\u001b[0mring\u001b[0m\u001b[0;34m=\u001b[0m\u001b[0mring\u001b[0m\u001b[0;34m)\u001b[0m \u001b[0;32mfor\u001b[0m \u001b[0mx\u001b[0m \u001b[0;32min\u001b[0m \u001b[0mentries\u001b[0m\u001b[0;34m]\u001b[0m\u001b[0;34m)\u001b[0m\u001b[0;34m\u001b[0m\u001b[0;34m\u001b[0m\u001b[0m\n\u001b[0m\u001b[1;32m    604\u001b[0m         \u001b[0mm\u001b[0m\u001b[0;34m.\u001b[0m\u001b[0mset_immutable\u001b[0m\u001b[0;34m(\u001b[0m\u001b[0;34m)\u001b[0m\u001b[0;34m\u001b[0m\u001b[0;34m\u001b[0m\u001b[0m\n\u001b[1;32m    605\u001b[0m         \u001b[0;32mreturn\u001b[0m \u001b[0mm\u001b[0m\u001b[0;34m\u001b[0m\u001b[0;34m\u001b[0m\u001b[0m\n",
      "\u001b[0;32m/mnt/local/home/zhwang/SageMath/local/lib/python3.9/site-packages/sage/matrix/matrix_space.py\u001b[0m in \u001b[0;36m__call__\u001b[0;34m(self, entries, coerce, copy)\u001b[0m\n\u001b[1;32m    751\u001b[0m             \u001b[0;32mreturn\u001b[0m \u001b[0;32mTrue\u001b[0m\u001b[0;34m\u001b[0m\u001b[0;34m\u001b[0m\u001b[0m\n\u001b[1;32m    752\u001b[0m \u001b[0;34m\u001b[0m\u001b[0m\n\u001b[0;32m--> 753\u001b[0;31m     \u001b[0;32mdef\u001b[0m \u001b[0m__call__\u001b[0m\u001b[0;34m(\u001b[0m\u001b[0mself\u001b[0m\u001b[0;34m,\u001b[0m \u001b[0mentries\u001b[0m\u001b[0;34m=\u001b[0m\u001b[0;32mNone\u001b[0m\u001b[0;34m,\u001b[0m \u001b[0mcoerce\u001b[0m\u001b[0;34m=\u001b[0m\u001b[0;32mTrue\u001b[0m\u001b[0;34m,\u001b[0m \u001b[0mcopy\u001b[0m\u001b[0;34m=\u001b[0m\u001b[0;32mNone\u001b[0m\u001b[0;34m)\u001b[0m\u001b[0;34m:\u001b[0m\u001b[0;34m\u001b[0m\u001b[0;34m\u001b[0m\u001b[0m\n\u001b[0m\u001b[1;32m    754\u001b[0m         \"\"\"\n\u001b[1;32m    755\u001b[0m         \u001b[0mEXAMPLES\u001b[0m\u001b[0;34m:\u001b[0m\u001b[0;34m:\u001b[0m\u001b[0;34m\u001b[0m\u001b[0;34m\u001b[0m\u001b[0m\n",
      "\u001b[0;32msrc/cysignals/signals.pyx\u001b[0m in \u001b[0;36mcysignals.signals.python_check_interrupt\u001b[0;34m()\u001b[0m\n",
      "\u001b[0;31mKeyboardInterrupt\u001b[0m: "
     ]
    }
   ],
   "source": [
    "# 初始化\n",
    "s,k = \"A\",4\n",
    "for n in range(1,6):\n",
    "    print(s,n)\n",
    "    gens = Thetas(s,n)\n",
    "    G = MatrixGroup(gens)\n",
    "    # 计时\n",
    "    tic()\n",
    "    tree = GroupTreeOfMaxDepth(G,k)\n",
    "    toc(\"获取群树用时\")\n",
    "    record_len = [len(i) for i in tree] # 记录各层长度数据\n",
    "    print(\"各层数目\",record_len)\n",
    "\n",
    "    # 测试\n",
    "    FG = FreeGroup(n)\n",
    "    gens = FG.gens()\n",
    "    type_1 = [(gens[i]^4,FG.one()) for i in range(n)]\n",
    "    type_2 = [(gens[i]*gens[i+1]*gens[i],gens[i+1]*gens[i]*gens[i+1]) for i in range(n-1)]\n",
    "    type_3 = [(gens[i]*gens[j],gens[j]*gens[i]) for i in range(n) for j in range(n) if i-j>1]\n",
    "    type_4 = [(gens[i]*gens[i+1]^2*gens[i],gens[i+1]^2) for i in range(n-1)]\n",
    "    odd = FG.one()\n",
    "    for i in range((n+1)//2):\n",
    "        odd *= gens[2*i]^2\n",
    "    type_5 = [(odd,FG.one())] if n%2 else []\n",
    "    elements = type_1 + type_2 + type_3 + type_4 + type_5\n",
    "    QG = FG / [a/b for a,b in elements] # 商群\n",
    "    tic()\n",
    "    tree = GroupTreeOfMaxDepth(QG,k)\n",
    "    toc()\n",
    "    tree_len = [len(i) for i in tree]\n",
    "    print(\"修改后的各层数目\",tree_len,\"\\n是否相等\",tree_len==record_len)\n",
    "    print()"
   ]
  },
  {
   "cell_type": "markdown",
   "metadata": {
    "heading_collapsed": true
   },
   "source": [
    "## B型"
   ]
  },
  {
   "cell_type": "code",
   "execution_count": 15,
   "metadata": {
    "hidden": true
   },
   "outputs": [
    {
     "data": {
      "text/plain": [
       "[ 2 -1  0  0]\n",
       "[-1  2 -1  0]\n",
       "[ 0 -1  2 -1]\n",
       "[ 0  0 -2  2]"
      ]
     },
     "execution_count": 15,
     "metadata": {},
     "output_type": "execute_result"
    }
   ],
   "source": [
    "CartanMatrix([\"B\",4])"
   ]
  },
  {
   "cell_type": "code",
   "execution_count": 36,
   "metadata": {
    "collapsed": true,
    "hidden": true
   },
   "outputs": [
    {
     "data": {
      "text/plain": [
       "[2 3 4 4 4]\n",
       "[3 2 3 4 4]\n",
       "[4 3 2 3 4]\n",
       "[4 4 3 2 4]\n",
       "[4 4 4 4 1]"
      ]
     },
     "execution_count": 36,
     "metadata": {},
     "output_type": "execute_result"
    }
   ],
   "source": [
    "OrderMatrixOfGens(Thetas(\"B\",5))"
   ]
  },
  {
   "cell_type": "code",
   "execution_count": 17,
   "metadata": {
    "collapsed": true,
    "hidden": true
   },
   "outputs": [
    {
     "name": "stdout",
     "output_type": "stream",
     "text": [
      "前4层导出关系\n",
      "[('2-0', '0-2'), ('3-0', '0-3'), ('3-1', '1-3'), ('3-3', ''), ('1-0-1', '0-1-0'), ('2-1-2', '1-2-1'), ('3-2-2', '2-2-3'), ('0-0-0-0', ''), ('0-1-1-0', '1-1'), ('1-0-0-1', '0-0'), ('1-1-0-0', '0-0-1-1'), ('1-1-1-1', ''), ('1-2-2-1', '2-2'), ('2-1-0-2', '1-2-1-0'), ('2-1-1-2', '1-1'), ('2-2-1-1', '1-1-2-2'), ('2-2-2-2', ''), ('3-2-3-2', '2-3-2-3')]\n",
      "\n"
     ]
    },
    {
     "data": {
      "text/html": [
       "<div class=\"notruncate\">\n",
       "<table  class=\"table_form\">\n",
       "<tbody>\n",
       "<tr class =\"row-a\">\n",
       "<td style=\"text-align:left\">\\(x_{2}\\cdot x_{0}\\)</td>\n",
       "<td style=\"text-align:left\">\\(x_{0}\\cdot x_{2}\\)</td>\n",
       "</tr>\n",
       "<tr class =\"row-b\">\n",
       "<td style=\"text-align:left\">\\(x_{3}\\cdot x_{0}\\)</td>\n",
       "<td style=\"text-align:left\">\\(x_{0}\\cdot x_{3}\\)</td>\n",
       "</tr>\n",
       "<tr class =\"row-a\">\n",
       "<td style=\"text-align:left\">\\(x_{3}\\cdot x_{1}\\)</td>\n",
       "<td style=\"text-align:left\">\\(x_{1}\\cdot x_{3}\\)</td>\n",
       "</tr>\n",
       "<tr class =\"row-b\">\n",
       "<td style=\"text-align:left\">\\(x_{3}^{2}\\)</td>\n",
       "<td style=\"text-align:left\">\\(1\\)</td>\n",
       "</tr>\n",
       "<tr class =\"row-a\">\n",
       "<td style=\"text-align:left\">\\(x_{1}\\cdot x_{0}\\cdot x_{1}\\)</td>\n",
       "<td style=\"text-align:left\">\\(x_{0}\\cdot x_{1}\\cdot x_{0}\\)</td>\n",
       "</tr>\n",
       "<tr class =\"row-b\">\n",
       "<td style=\"text-align:left\">\\(x_{2}\\cdot x_{1}\\cdot x_{2}\\)</td>\n",
       "<td style=\"text-align:left\">\\(x_{1}\\cdot x_{2}\\cdot x_{1}\\)</td>\n",
       "</tr>\n",
       "<tr class =\"row-a\">\n",
       "<td style=\"text-align:left\">\\(x_{3}\\cdot x_{2}^{2}\\)</td>\n",
       "<td style=\"text-align:left\">\\(x_{2}^{2}\\cdot x_{3}\\)</td>\n",
       "</tr>\n",
       "<tr class =\"row-b\">\n",
       "<td style=\"text-align:left\">\\(x_{0}^{4}\\)</td>\n",
       "<td style=\"text-align:left\">\\(1\\)</td>\n",
       "</tr>\n",
       "<tr class =\"row-a\">\n",
       "<td style=\"text-align:left\">\\(x_{0}\\cdot x_{1}^{2}\\cdot x_{0}\\)</td>\n",
       "<td style=\"text-align:left\">\\(x_{1}^{2}\\)</td>\n",
       "</tr>\n",
       "<tr class =\"row-b\">\n",
       "<td style=\"text-align:left\">\\(x_{1}\\cdot x_{0}^{2}\\cdot x_{1}\\)</td>\n",
       "<td style=\"text-align:left\">\\(x_{0}^{2}\\)</td>\n",
       "</tr>\n",
       "<tr class =\"row-a\">\n",
       "<td style=\"text-align:left\">\\(x_{1}^{2}\\cdot x_{0}^{2}\\)</td>\n",
       "<td style=\"text-align:left\">\\(x_{0}^{2}\\cdot x_{1}^{2}\\)</td>\n",
       "</tr>\n",
       "<tr class =\"row-b\">\n",
       "<td style=\"text-align:left\">\\(x_{1}^{4}\\)</td>\n",
       "<td style=\"text-align:left\">\\(1\\)</td>\n",
       "</tr>\n",
       "<tr class =\"row-a\">\n",
       "<td style=\"text-align:left\">\\(x_{1}\\cdot x_{2}^{2}\\cdot x_{1}\\)</td>\n",
       "<td style=\"text-align:left\">\\(x_{2}^{2}\\)</td>\n",
       "</tr>\n",
       "<tr class =\"row-b\">\n",
       "<td style=\"text-align:left\">\\(x_{2}\\cdot x_{1}\\cdot x_{0}\\cdot x_{2}\\)</td>\n",
       "<td style=\"text-align:left\">\\(x_{1}\\cdot x_{2}\\cdot x_{1}\\cdot x_{0}\\)</td>\n",
       "</tr>\n",
       "<tr class =\"row-a\">\n",
       "<td style=\"text-align:left\">\\(x_{2}\\cdot x_{1}^{2}\\cdot x_{2}\\)</td>\n",
       "<td style=\"text-align:left\">\\(x_{1}^{2}\\)</td>\n",
       "</tr>\n",
       "<tr class =\"row-b\">\n",
       "<td style=\"text-align:left\">\\(x_{2}^{2}\\cdot x_{1}^{2}\\)</td>\n",
       "<td style=\"text-align:left\">\\(x_{1}^{2}\\cdot x_{2}^{2}\\)</td>\n",
       "</tr>\n",
       "<tr class =\"row-a\">\n",
       "<td style=\"text-align:left\">\\(x_{2}^{4}\\)</td>\n",
       "<td style=\"text-align:left\">\\(1\\)</td>\n",
       "</tr>\n",
       "<tr class =\"row-b\">\n",
       "<td style=\"text-align:left\">\\((x_{3}\\cdot x_{2})^{2}\\)</td>\n",
       "<td style=\"text-align:left\">\\((x_{2}\\cdot x_{3})^{2}\\)</td>\n",
       "</tr>\n",
       "</tbody>\n",
       "</table>\n",
       "</div>"
      ],
      "text/plain": [
       "  x2*x0         x0*x2\n",
       "  x3*x0         x0*x3\n",
       "  x3*x1         x1*x3\n",
       "  x3^2          1\n",
       "  x1*x0*x1      x0*x1*x0\n",
       "  x2*x1*x2      x1*x2*x1\n",
       "  x3*x2^2       x2^2*x3\n",
       "  x0^4          1\n",
       "  x0*x1^2*x0    x1^2\n",
       "  x1*x0^2*x1    x0^2\n",
       "  x1^2*x0^2     x0^2*x1^2\n",
       "  x1^4          1\n",
       "  x1*x2^2*x1    x2^2\n",
       "  x2*x1*x0*x2   x1*x2*x1*x0\n",
       "  x2*x1^2*x2    x1^2\n",
       "  x2^2*x1^2     x1^2*x2^2\n",
       "  x2^4          1\n",
       "  (x3*x2)^2     (x2*x3)^2"
      ]
     },
     "execution_count": 17,
     "metadata": {},
     "output_type": "execute_result"
    }
   ],
   "source": [
    "s,n = \"B\",4\n",
    "gens = Thetas(s,n)\n",
    "G = MatrixGroup(gens)\n",
    "\n",
    "# 计算结果\n",
    "k = 4\n",
    "_,_,relations = UniversalPropertyOfGroup(G,k)\n",
    "print(\"前%d层导出关系\"%k,relations, sep=\"\\n\")\n",
    "print()\n",
    "# 定义商群\n",
    "FG = FreeGroup(n)\n",
    "elements = [(relation2element(a,FG.gens()),relation2element(b,FG.gens())) for a,b in relations]\n",
    "table(elements)"
   ]
  },
  {
   "cell_type": "code",
   "execution_count": 14,
   "metadata": {
    "hidden": true
   },
   "outputs": [
    {
     "name": "stdout",
     "output_type": "stream",
     "text": [
      "B 4\n",
      "获取群树用时29.224\n",
      "各层数目 [1, 4, 12, 32, 70]\n",
      "用时：0.264\n",
      "修改后的各层数目 [1, 4, 12, 32, 70] \n",
      "是否相等 True\n"
     ]
    }
   ],
   "source": [
    "# 初始化\n",
    "s,k = \"B\",4\n",
    "for n in range(2,7):\n",
    "    print(s,n)\n",
    "    mgens = Thetas(s,n)\n",
    "    G = MatrixGroup(mgens)\n",
    "    # 计时\n",
    "    tic()\n",
    "    tree = GroupTreeOfMaxDepth(G,k)\n",
    "    toc(\"获取群树用时\")\n",
    "    record_len = [len(i) for i in tree] # 记录各层长度数据\n",
    "    print(\"各层数目\",record_len)\n",
    "\n",
    "    # 测试\n",
    "    FG = FreeGroup(n)\n",
    "    gens = FG.gens()\n",
    "    # 对角线\n",
    "    type_1 = [(gens[i]^(4 if i!=(n-1) else 2),FG.one()) for i in range(n)]\n",
    "    # 次对角线\n",
    "    type_21 = [(gens[i]*gens[i+1]*gens[i],gens[i+1]*gens[i]*gens[i+1]) for i in range(n-2)]\n",
    "    type_22 = [((gens[-1]*gens[-2])^2,(gens[-2]*gens[-1])^2)]\n",
    "    # 对角线外\n",
    "    type_3 = [(gens[i]*gens[j],gens[j]*gens[i]) for i in range(n) for j in range(n) if i-j>1]\n",
    "    # 补充元素\n",
    "    type_4 = [(gens[i]*gens[i+1]^2*gens[i],gens[i+1]^2) for i in range(n-2)]\n",
    "    # 特殊元素\n",
    "    type_5 = [(gens[-1]*gens[-2]^2,gens[-2]^2*gens[-1])]\n",
    "    elements = type_1 + type_21 + type_22 + type_3 + type_4 + type_5\n",
    "    QG = FG / [a/b for a,b in elements] # 商群\n",
    "    tic()\n",
    "    tree = GroupTreeOfMaxDepth(QG,k)\n",
    "    toc()\n",
    "    tree_len = [len(i) for i in tree]\n",
    "    print(\"修改后的各层数目\",tree_len,\"\\n是否相等\",tree_len==record_len)"
   ]
  },
  {
   "cell_type": "markdown",
   "metadata": {},
   "source": [
    "## C型"
   ]
  },
  {
   "cell_type": "code",
   "execution_count": 5,
   "metadata": {},
   "outputs": [
    {
     "data": {
      "text/plain": [
       "[2 3 2]\n",
       "[3 2 8]\n",
       "[2 8 2]"
      ]
     },
     "execution_count": 5,
     "metadata": {},
     "output_type": "execute_result"
    }
   ],
   "source": [
    "OrderMatrixOfGens(Thetas(\"C\",3))"
   ]
  },
  {
   "cell_type": "code",
   "execution_count": null,
   "metadata": {},
   "outputs": [],
   "source": [
    "s,n = \"C\",5\n",
    "gens = Thetas(s,n)\n",
    "G = MatrixGroup(gens)\n",
    "\n",
    "# 计算结果\n",
    "k = 4\n",
    "_,_,relations = UniversalPropertyOfGroup(G,k)\n",
    "print(\"前%d层导出关系\"%k,relations, sep=\"\\n\")\n",
    "print()\n",
    "# 定义商群\n",
    "FG = FreeGroup(n)\n",
    "elements = [(relation2element(a,FG.gens()),relation2element(b,FG.gens())) for a,b in relations]\n",
    "table(elements)"
   ]
  },
  {
   "cell_type": "code",
   "execution_count": 20,
   "metadata": {},
   "outputs": [
    {
     "name": "stdout",
     "output_type": "stream",
     "text": [
      "前4层导出关系\n",
      "[('2-0', '0-2'), ('2-2', '0-0'), ('3-0', '0-3'), ('3-1', '1-3'), ('1-0-1', '0-1-0'), ('2-1-2', '1-2-1'), ('0-0-0-0', ''), ('0-1-1-0', '1-1'), ('1-0-0-1', '0-0'), ('1-1-0-0', '0-0-1-1'), ('1-1-0-2', '0-2-1-1'), ('1-1-1-1', ''), ('1-2-1-1', '0-0-1-2'), ('2-1-0-0', '1-1-2-1'), ('2-1-0-2', '1-2-1-0'), ('2-1-1-0', '0-1-1-2'), ('2-1-1-2', '1-1'), ('2-3-3-2', '3-3'), ('3-2-3-2', '2-3-2-3'), ('3-3-3-3', '')]\n",
      "\n"
     ]
    },
    {
     "data": {
      "text/html": [
       "<div class=\"notruncate\">\n",
       "<table  class=\"table_form\">\n",
       "<tbody>\n",
       "<tr class =\"row-a\">\n",
       "<td style=\"text-align:left\">\\(x_{2}\\cdot x_{0}\\)</td>\n",
       "<td style=\"text-align:left\">\\(x_{0}\\cdot x_{2}\\)</td>\n",
       "</tr>\n",
       "<tr class =\"row-b\">\n",
       "<td style=\"text-align:left\">\\(x_{2}^{2}\\)</td>\n",
       "<td style=\"text-align:left\">\\(x_{0}^{2}\\)</td>\n",
       "</tr>\n",
       "<tr class =\"row-a\">\n",
       "<td style=\"text-align:left\">\\(x_{3}\\cdot x_{0}\\)</td>\n",
       "<td style=\"text-align:left\">\\(x_{0}\\cdot x_{3}\\)</td>\n",
       "</tr>\n",
       "<tr class =\"row-b\">\n",
       "<td style=\"text-align:left\">\\(x_{3}\\cdot x_{1}\\)</td>\n",
       "<td style=\"text-align:left\">\\(x_{1}\\cdot x_{3}\\)</td>\n",
       "</tr>\n",
       "<tr class =\"row-a\">\n",
       "<td style=\"text-align:left\">\\(x_{1}\\cdot x_{0}\\cdot x_{1}\\)</td>\n",
       "<td style=\"text-align:left\">\\(x_{0}\\cdot x_{1}\\cdot x_{0}\\)</td>\n",
       "</tr>\n",
       "<tr class =\"row-b\">\n",
       "<td style=\"text-align:left\">\\(x_{2}\\cdot x_{1}\\cdot x_{2}\\)</td>\n",
       "<td style=\"text-align:left\">\\(x_{1}\\cdot x_{2}\\cdot x_{1}\\)</td>\n",
       "</tr>\n",
       "<tr class =\"row-a\">\n",
       "<td style=\"text-align:left\">\\(x_{0}^{4}\\)</td>\n",
       "<td style=\"text-align:left\">\\(1\\)</td>\n",
       "</tr>\n",
       "<tr class =\"row-b\">\n",
       "<td style=\"text-align:left\">\\(x_{0}\\cdot x_{1}^{2}\\cdot x_{0}\\)</td>\n",
       "<td style=\"text-align:left\">\\(x_{1}^{2}\\)</td>\n",
       "</tr>\n",
       "<tr class =\"row-a\">\n",
       "<td style=\"text-align:left\">\\(x_{1}\\cdot x_{0}^{2}\\cdot x_{1}\\)</td>\n",
       "<td style=\"text-align:left\">\\(x_{0}^{2}\\)</td>\n",
       "</tr>\n",
       "<tr class =\"row-b\">\n",
       "<td style=\"text-align:left\">\\(x_{1}^{2}\\cdot x_{0}^{2}\\)</td>\n",
       "<td style=\"text-align:left\">\\(x_{0}^{2}\\cdot x_{1}^{2}\\)</td>\n",
       "</tr>\n",
       "<tr class =\"row-a\">\n",
       "<td style=\"text-align:left\">\\(x_{1}^{2}\\cdot x_{0}\\cdot x_{2}\\)</td>\n",
       "<td style=\"text-align:left\">\\(x_{0}\\cdot x_{2}\\cdot x_{1}^{2}\\)</td>\n",
       "</tr>\n",
       "<tr class =\"row-b\">\n",
       "<td style=\"text-align:left\">\\(x_{1}^{4}\\)</td>\n",
       "<td style=\"text-align:left\">\\(1\\)</td>\n",
       "</tr>\n",
       "<tr class =\"row-a\">\n",
       "<td style=\"text-align:left\">\\(x_{1}\\cdot x_{2}\\cdot x_{1}^{2}\\)</td>\n",
       "<td style=\"text-align:left\">\\(x_{0}^{2}\\cdot x_{1}\\cdot x_{2}\\)</td>\n",
       "</tr>\n",
       "<tr class =\"row-b\">\n",
       "<td style=\"text-align:left\">\\(x_{2}\\cdot x_{1}\\cdot x_{0}^{2}\\)</td>\n",
       "<td style=\"text-align:left\">\\(x_{1}^{2}\\cdot x_{2}\\cdot x_{1}\\)</td>\n",
       "</tr>\n",
       "<tr class =\"row-a\">\n",
       "<td style=\"text-align:left\">\\(x_{2}\\cdot x_{1}\\cdot x_{0}\\cdot x_{2}\\)</td>\n",
       "<td style=\"text-align:left\">\\(x_{1}\\cdot x_{2}\\cdot x_{1}\\cdot x_{0}\\)</td>\n",
       "</tr>\n",
       "<tr class =\"row-b\">\n",
       "<td style=\"text-align:left\">\\(x_{2}\\cdot x_{1}^{2}\\cdot x_{0}\\)</td>\n",
       "<td style=\"text-align:left\">\\(x_{0}\\cdot x_{1}^{2}\\cdot x_{2}\\)</td>\n",
       "</tr>\n",
       "<tr class =\"row-a\">\n",
       "<td style=\"text-align:left\">\\(x_{2}\\cdot x_{1}^{2}\\cdot x_{2}\\)</td>\n",
       "<td style=\"text-align:left\">\\(x_{1}^{2}\\)</td>\n",
       "</tr>\n",
       "<tr class =\"row-b\">\n",
       "<td style=\"text-align:left\">\\(x_{2}\\cdot x_{3}^{2}\\cdot x_{2}\\)</td>\n",
       "<td style=\"text-align:left\">\\(x_{3}^{2}\\)</td>\n",
       "</tr>\n",
       "<tr class =\"row-a\">\n",
       "<td style=\"text-align:left\">\\((x_{3}\\cdot x_{2})^{2}\\)</td>\n",
       "<td style=\"text-align:left\">\\((x_{2}\\cdot x_{3})^{2}\\)</td>\n",
       "</tr>\n",
       "<tr class =\"row-b\">\n",
       "<td style=\"text-align:left\">\\(x_{3}^{4}\\)</td>\n",
       "<td style=\"text-align:left\">\\(1\\)</td>\n",
       "</tr>\n",
       "</tbody>\n",
       "</table>\n",
       "</div>"
      ],
      "text/plain": [
       "  x2*x0         x0*x2\n",
       "  x2^2          x0^2\n",
       "  x3*x0         x0*x3\n",
       "  x3*x1         x1*x3\n",
       "  x1*x0*x1      x0*x1*x0\n",
       "  x2*x1*x2      x1*x2*x1\n",
       "  x0^4          1\n",
       "  x0*x1^2*x0    x1^2\n",
       "  x1*x0^2*x1    x0^2\n",
       "  x1^2*x0^2     x0^2*x1^2\n",
       "  x1^2*x0*x2    x0*x2*x1^2\n",
       "  x1^4          1\n",
       "  x1*x2*x1^2    x0^2*x1*x2\n",
       "  x2*x1*x0^2    x1^2*x2*x1\n",
       "  x2*x1*x0*x2   x1*x2*x1*x0\n",
       "  x2*x1^2*x0    x0*x1^2*x2\n",
       "  x2*x1^2*x2    x1^2\n",
       "  x2*x3^2*x2    x3^2\n",
       "  (x3*x2)^2     (x2*x3)^2\n",
       "  x3^4          1"
      ]
     },
     "execution_count": 20,
     "metadata": {},
     "output_type": "execute_result"
    }
   ],
   "source": []
  },
  {
   "cell_type": "code",
   "execution_count": 15,
   "metadata": {},
   "outputs": [
    {
     "name": "stdout",
     "output_type": "stream",
     "text": [
      "前4层导出关系\n",
      "[('2-0', '0-2'), ('2-2', '0-0'), ('1-0-1', '0-1-0'), ('2-1-1', '1-1-2'), ('0-0-0-0', ''), ('0-1-1-0', '1-1'), ('1-0-0-1', '0-0'), ('1-1-0-0', '0-0-1-1'), ('1-1-1-1', ''), ('2-1-2-1', '1-2-1-2')]\n",
      "\n"
     ]
    },
    {
     "data": {
      "text/html": [
       "<div class=\"notruncate\">\n",
       "<table  class=\"table_form\">\n",
       "<tbody>\n",
       "<tr class =\"row-a\">\n",
       "<td style=\"text-align:left\">\\(x_{2}\\cdot x_{0}\\)</td>\n",
       "<td style=\"text-align:left\">\\(x_{0}\\cdot x_{2}\\)</td>\n",
       "</tr>\n",
       "<tr class =\"row-b\">\n",
       "<td style=\"text-align:left\">\\(x_{2}^{2}\\)</td>\n",
       "<td style=\"text-align:left\">\\(x_{0}^{2}\\)</td>\n",
       "</tr>\n",
       "<tr class =\"row-a\">\n",
       "<td style=\"text-align:left\">\\(x_{1}\\cdot x_{0}\\cdot x_{1}\\)</td>\n",
       "<td style=\"text-align:left\">\\(x_{0}\\cdot x_{1}\\cdot x_{0}\\)</td>\n",
       "</tr>\n",
       "<tr class =\"row-b\">\n",
       "<td style=\"text-align:left\">\\(x_{2}\\cdot x_{1}^{2}\\)</td>\n",
       "<td style=\"text-align:left\">\\(x_{1}^{2}\\cdot x_{2}\\)</td>\n",
       "</tr>\n",
       "<tr class =\"row-a\">\n",
       "<td style=\"text-align:left\">\\(x_{0}^{4}\\)</td>\n",
       "<td style=\"text-align:left\">\\(1\\)</td>\n",
       "</tr>\n",
       "<tr class =\"row-b\">\n",
       "<td style=\"text-align:left\">\\(x_{0}\\cdot x_{1}^{2}\\cdot x_{0}\\)</td>\n",
       "<td style=\"text-align:left\">\\(x_{1}^{2}\\)</td>\n",
       "</tr>\n",
       "<tr class =\"row-a\">\n",
       "<td style=\"text-align:left\">\\(x_{1}\\cdot x_{0}^{2}\\cdot x_{1}\\)</td>\n",
       "<td style=\"text-align:left\">\\(x_{0}^{2}\\)</td>\n",
       "</tr>\n",
       "<tr class =\"row-b\">\n",
       "<td style=\"text-align:left\">\\(x_{1}^{2}\\cdot x_{0}^{2}\\)</td>\n",
       "<td style=\"text-align:left\">\\(x_{0}^{2}\\cdot x_{1}^{2}\\)</td>\n",
       "</tr>\n",
       "<tr class =\"row-a\">\n",
       "<td style=\"text-align:left\">\\(x_{1}^{4}\\)</td>\n",
       "<td style=\"text-align:left\">\\(1\\)</td>\n",
       "</tr>\n",
       "<tr class =\"row-b\">\n",
       "<td style=\"text-align:left\">\\((x_{2}\\cdot x_{1})^{2}\\)</td>\n",
       "<td style=\"text-align:left\">\\((x_{1}\\cdot x_{2})^{2}\\)</td>\n",
       "</tr>\n",
       "</tbody>\n",
       "</table>\n",
       "</div>"
      ],
      "text/plain": [
       "  x2*x0        x0*x2\n",
       "  x2^2         x0^2\n",
       "  x1*x0*x1     x0*x1*x0\n",
       "  x2*x1^2      x1^2*x2\n",
       "  x0^4         1\n",
       "  x0*x1^2*x0   x1^2\n",
       "  x1*x0^2*x1   x0^2\n",
       "  x1^2*x0^2    x0^2*x1^2\n",
       "  x1^4         1\n",
       "  (x2*x1)^2    (x1*x2)^2"
      ]
     },
     "execution_count": 15,
     "metadata": {},
     "output_type": "execute_result"
    }
   ],
   "source": []
  },
  {
   "cell_type": "code",
   "execution_count": 16,
   "metadata": {},
   "outputs": [
    {
     "name": "stdout",
     "output_type": "stream",
     "text": [
      "C 3\n",
      "获取群树用时2.139\n",
      "各层数目 [1, 3, 7, 15, 24]\n",
      "用时：0.080\n",
      "修改后的各层数目 [1, 3, 8, 19, 36] \n",
      "是否相等 False\n"
     ]
    }
   ],
   "source": [
    "print(s,n)\n",
    "mgens = Thetas(s,n)\n",
    "G = MatrixGroup(mgens)\n",
    "# 计时\n",
    "tic()\n",
    "tree = GroupTreeOfMaxDepth(G,k)\n",
    "toc(\"获取群树用时\")\n",
    "record_len = [len(i) for i in tree] # 记录各层长度数据\n",
    "print(\"各层数目\",record_len)\n",
    "\n",
    "# 测试\n",
    "FG = FreeGroup(n)\n",
    "gens = FG.gens()\n",
    "# 对角线\n",
    "type_1 = [(gens[i]^4,FG.one()) for i in range(n)]\n",
    "# 次对角线\n",
    "type_21 = [(gens[i]*gens[i+1]*gens[i],gens[i+1]*gens[i]*gens[i+1]) for i in range(n-2)]\n",
    "type_22 = [((gens[-1]*gens[-2])^2,(gens[-2]*gens[-1])^2)]\n",
    "# 对角线外\n",
    "type_3 = [(gens[i]*gens[j],gens[j]*gens[i]) for i in range(n) for j in range(n) if i-j>1]\n",
    "# 补充元素\n",
    "type_4 = [(gens[i]*gens[i+1]^2*gens[i],gens[i+1]^2) for i in range(n-2)]\n",
    "# type_5 = [(gens[-1]*gens[-2]^2,gens[-2]^2*gens[-1])]\n",
    "elements = type_1 + type_21 + type_22 + type_3 + type_4 + type_5\n",
    "QG = FG / [a/b for a,b in elements] # 商群\n",
    "tic()\n",
    "tree = GroupTreeOfMaxDepth(QG,k)\n",
    "toc()\n",
    "tree_len = [len(i) for i in tree]\n",
    "print(\"修改后的各层数目\",tree_len,\"\\n是否相等\",tree_len==record_len)"
   ]
  },
  {
   "cell_type": "markdown",
   "metadata": {
    "heading_collapsed": true
   },
   "source": [
    "## 收纳"
   ]
  },
  {
   "cell_type": "code",
   "execution_count": 60,
   "metadata": {
    "hidden": true
   },
   "outputs": [
    {
     "name": "stdout",
     "output_type": "stream",
     "text": [
      "各层数目 [1, 2, 4, 7, 7]\n",
      "修改后的各层数目 [1, 2, 4, 7, 7] \n",
      "是否相等 True\n",
      "用时0.123\n"
     ]
    },
    {
     "data": {
      "text/html": [
       "<div class=\"notruncate\">\n",
       "<table  class=\"table_form\">\n",
       "<tbody>\n",
       "<tr class =\"row-a\">\n",
       "<td style=\"text-align:left\">\\(x_{0}^{4}\\)</td>\n",
       "<td style=\"text-align:left\">\\(1\\)</td>\n",
       "</tr>\n",
       "<tr class =\"row-b\">\n",
       "<td style=\"text-align:left\">\\(x_{0}\\cdot x_{1}^{2}\\cdot x_{0}\\)</td>\n",
       "<td style=\"text-align:left\">\\(x_{1}^{2}\\)</td>\n",
       "</tr>\n",
       "<tr class =\"row-a\">\n",
       "<td style=\"text-align:left\">\\(x_{1}\\cdot x_{0}^{2}\\cdot x_{1}\\)</td>\n",
       "<td style=\"text-align:left\">\\(x_{0}^{2}\\)</td>\n",
       "</tr>\n",
       "<tr class =\"row-b\">\n",
       "<td style=\"text-align:left\">\\(x_{1}\\cdot x_{0}\\cdot x_{1}\\)</td>\n",
       "<td style=\"text-align:left\">\\(x_{0}\\cdot x_{1}\\cdot x_{0}\\)</td>\n",
       "</tr>\n",
       "<tr class =\"row-a\">\n",
       "<td style=\"text-align:left\">\\(x_{1}^{2}\\cdot x_{0}^{2}\\)</td>\n",
       "<td style=\"text-align:left\">\\(x_{0}^{2}\\cdot x_{1}^{2}\\)</td>\n",
       "</tr>\n",
       "<tr class =\"row-b\">\n",
       "<td style=\"text-align:left\">\\(x_{1}^{4}\\)</td>\n",
       "<td style=\"text-align:left\">\\(1\\)</td>\n",
       "</tr>\n",
       "</tbody>\n",
       "</table>\n",
       "</div>"
      ],
      "text/plain": [
       "  x0^4         1\n",
       "  x0*x1^2*x0   x1^2\n",
       "  x1*x0^2*x1   x0^2\n",
       "  x1*x0*x1     x0*x1*x0\n",
       "  x1^2*x0^2    x0^2*x1^2\n",
       "  x1^4         1"
      ]
     },
     "execution_count": 60,
     "metadata": {},
     "output_type": "execute_result"
    }
   ],
   "source": [
    "t = time.time()\n",
    "elements = main(\"A\",2,4)\n",
    "print(\"用时%.3f\"%(time.time()-t))\n",
    "table(elements)"
   ]
  },
  {
   "cell_type": "code",
   "execution_count": 61,
   "metadata": {
    "hidden": true
   },
   "outputs": [
    {
     "name": "stdout",
     "output_type": "stream",
     "text": [
      "各层数目 [1, 3, 7, 15, 21]\n",
      "修改后的各层数目 [1, 3, 7, 15, 21] \n",
      "是否相等 True\n",
      "用时0.998\n"
     ]
    },
    {
     "data": {
      "text/html": [
       "<div class=\"notruncate\">\n",
       "<table  class=\"table_form\">\n",
       "<tbody>\n",
       "<tr class =\"row-a\">\n",
       "<td style=\"text-align:left\">\\(x_{0}^{4}\\)</td>\n",
       "<td style=\"text-align:left\">\\(1\\)</td>\n",
       "</tr>\n",
       "<tr class =\"row-b\">\n",
       "<td style=\"text-align:left\">\\(x_{0}\\cdot x_{1}^{2}\\cdot x_{0}\\)</td>\n",
       "<td style=\"text-align:left\">\\(x_{1}^{2}\\)</td>\n",
       "</tr>\n",
       "<tr class =\"row-a\">\n",
       "<td style=\"text-align:left\">\\(x_{1}\\cdot x_{0}^{2}\\cdot x_{1}\\)</td>\n",
       "<td style=\"text-align:left\">\\(x_{0}^{2}\\)</td>\n",
       "</tr>\n",
       "<tr class =\"row-b\">\n",
       "<td style=\"text-align:left\">\\(x_{1}\\cdot x_{0}\\cdot x_{1}\\)</td>\n",
       "<td style=\"text-align:left\">\\(x_{0}\\cdot x_{1}\\cdot x_{0}\\)</td>\n",
       "</tr>\n",
       "<tr class =\"row-a\">\n",
       "<td style=\"text-align:left\">\\(x_{1}^{2}\\cdot x_{0}^{2}\\)</td>\n",
       "<td style=\"text-align:left\">\\(x_{0}^{2}\\cdot x_{1}^{2}\\)</td>\n",
       "</tr>\n",
       "<tr class =\"row-b\">\n",
       "<td style=\"text-align:left\">\\(x_{1}^{4}\\)</td>\n",
       "<td style=\"text-align:left\">\\(1\\)</td>\n",
       "</tr>\n",
       "<tr class =\"row-a\">\n",
       "<td style=\"text-align:left\">\\(x_{1}\\cdot x_{2}\\cdot x_{1}^{2}\\)</td>\n",
       "<td style=\"text-align:left\">\\(x_{0}^{2}\\cdot x_{1}\\cdot x_{2}\\)</td>\n",
       "</tr>\n",
       "<tr class =\"row-b\">\n",
       "<td style=\"text-align:left\">\\(x_{2}\\cdot x_{0}\\)</td>\n",
       "<td style=\"text-align:left\">\\(x_{0}\\cdot x_{2}\\)</td>\n",
       "</tr>\n",
       "<tr class =\"row-a\">\n",
       "<td style=\"text-align:left\">\\(x_{2}\\cdot x_{1}^{2}\\cdot x_{2}\\)</td>\n",
       "<td style=\"text-align:left\">\\(x_{1}^{2}\\)</td>\n",
       "</tr>\n",
       "<tr class =\"row-b\">\n",
       "<td style=\"text-align:left\">\\(x_{2}\\cdot x_{1}\\cdot x_{2}\\)</td>\n",
       "<td style=\"text-align:left\">\\(x_{1}\\cdot x_{2}\\cdot x_{1}\\)</td>\n",
       "</tr>\n",
       "<tr class =\"row-a\">\n",
       "<td style=\"text-align:left\">\\(x_{2}^{2}\\)</td>\n",
       "<td style=\"text-align:left\">\\(x_{0}^{2}\\)</td>\n",
       "</tr>\n",
       "</tbody>\n",
       "</table>\n",
       "</div>"
      ],
      "text/plain": [
       "  x0^4         1\n",
       "  x0*x1^2*x0   x1^2\n",
       "  x1*x0^2*x1   x0^2\n",
       "  x1*x0*x1     x0*x1*x0\n",
       "  x1^2*x0^2    x0^2*x1^2\n",
       "  x1^4         1\n",
       "  x1*x2*x1^2   x0^2*x1*x2\n",
       "  x2*x0        x0*x2\n",
       "  x2*x1^2*x2   x1^2\n",
       "  x2*x1*x2     x1*x2*x1\n",
       "  x2^2         x0^2"
      ]
     },
     "execution_count": 61,
     "metadata": {},
     "output_type": "execute_result"
    }
   ],
   "source": [
    "t = time.time()\n",
    "elements = main(\"A\",3,4)\n",
    "print(\"用时%.3f\"%(time.time()-t))\n",
    "table(elements)"
   ]
  },
  {
   "cell_type": "code",
   "execution_count": 62,
   "metadata": {
    "hidden": true
   },
   "outputs": [
    {
     "name": "stdout",
     "output_type": "stream",
     "text": [
      "各层数目 [1, 4, 13, 37, 86]\n",
      "修改后的各层数目 [1, 4, 13, 37, 86] \n",
      "是否相等 True\n",
      "用时17.440\n"
     ]
    },
    {
     "data": {
      "text/html": [
       "<div class=\"notruncate\">\n",
       "<table  class=\"table_form\">\n",
       "<tbody>\n",
       "<tr class =\"row-a\">\n",
       "<td style=\"text-align:left\">\\(x_{0}^{4}\\)</td>\n",
       "<td style=\"text-align:left\">\\(1\\)</td>\n",
       "</tr>\n",
       "<tr class =\"row-b\">\n",
       "<td style=\"text-align:left\">\\(x_{0}\\cdot x_{1}^{2}\\cdot x_{0}\\)</td>\n",
       "<td style=\"text-align:left\">\\(x_{1}^{2}\\)</td>\n",
       "</tr>\n",
       "<tr class =\"row-a\">\n",
       "<td style=\"text-align:left\">\\(x_{1}\\cdot x_{0}^{2}\\cdot x_{1}\\)</td>\n",
       "<td style=\"text-align:left\">\\(x_{0}^{2}\\)</td>\n",
       "</tr>\n",
       "<tr class =\"row-b\">\n",
       "<td style=\"text-align:left\">\\(x_{1}\\cdot x_{0}\\cdot x_{1}\\)</td>\n",
       "<td style=\"text-align:left\">\\(x_{0}\\cdot x_{1}\\cdot x_{0}\\)</td>\n",
       "</tr>\n",
       "<tr class =\"row-a\">\n",
       "<td style=\"text-align:left\">\\(x_{1}^{2}\\cdot x_{0}^{2}\\)</td>\n",
       "<td style=\"text-align:left\">\\(x_{0}^{2}\\cdot x_{1}^{2}\\)</td>\n",
       "</tr>\n",
       "<tr class =\"row-b\">\n",
       "<td style=\"text-align:left\">\\(x_{1}^{4}\\)</td>\n",
       "<td style=\"text-align:left\">\\(1\\)</td>\n",
       "</tr>\n",
       "<tr class =\"row-a\">\n",
       "<td style=\"text-align:left\">\\(x_{1}\\cdot x_{2}^{2}\\cdot x_{1}\\)</td>\n",
       "<td style=\"text-align:left\">\\(x_{2}^{2}\\)</td>\n",
       "</tr>\n",
       "<tr class =\"row-b\">\n",
       "<td style=\"text-align:left\">\\(x_{2}\\cdot x_{0}\\)</td>\n",
       "<td style=\"text-align:left\">\\(x_{0}\\cdot x_{2}\\)</td>\n",
       "</tr>\n",
       "<tr class =\"row-a\">\n",
       "<td style=\"text-align:left\">\\(x_{2}\\cdot x_{1}^{2}\\cdot x_{2}\\)</td>\n",
       "<td style=\"text-align:left\">\\(x_{1}^{2}\\)</td>\n",
       "</tr>\n",
       "<tr class =\"row-b\">\n",
       "<td style=\"text-align:left\">\\(x_{2}\\cdot x_{1}\\cdot x_{2}\\)</td>\n",
       "<td style=\"text-align:left\">\\(x_{1}\\cdot x_{2}\\cdot x_{1}\\)</td>\n",
       "</tr>\n",
       "<tr class =\"row-a\">\n",
       "<td style=\"text-align:left\">\\(x_{2}^{2}\\cdot x_{1}^{2}\\)</td>\n",
       "<td style=\"text-align:left\">\\(x_{1}^{2}\\cdot x_{2}^{2}\\)</td>\n",
       "</tr>\n",
       "<tr class =\"row-b\">\n",
       "<td style=\"text-align:left\">\\(x_{2}^{4}\\)</td>\n",
       "<td style=\"text-align:left\">\\(1\\)</td>\n",
       "</tr>\n",
       "<tr class =\"row-a\">\n",
       "<td style=\"text-align:left\">\\(x_{2}\\cdot x_{3}^{2}\\cdot x_{2}\\)</td>\n",
       "<td style=\"text-align:left\">\\(x_{3}^{2}\\)</td>\n",
       "</tr>\n",
       "<tr class =\"row-b\">\n",
       "<td style=\"text-align:left\">\\(x_{3}\\cdot x_{0}\\)</td>\n",
       "<td style=\"text-align:left\">\\(x_{0}\\cdot x_{3}\\)</td>\n",
       "</tr>\n",
       "<tr class =\"row-a\">\n",
       "<td style=\"text-align:left\">\\(x_{3}\\cdot x_{1}\\)</td>\n",
       "<td style=\"text-align:left\">\\(x_{1}\\cdot x_{3}\\)</td>\n",
       "</tr>\n",
       "<tr class =\"row-b\">\n",
       "<td style=\"text-align:left\">\\(x_{3}\\cdot x_{2}^{2}\\cdot x_{3}\\)</td>\n",
       "<td style=\"text-align:left\">\\(x_{2}^{2}\\)</td>\n",
       "</tr>\n",
       "<tr class =\"row-a\">\n",
       "<td style=\"text-align:left\">\\(x_{3}\\cdot x_{2}\\cdot x_{3}\\)</td>\n",
       "<td style=\"text-align:left\">\\(x_{2}\\cdot x_{3}\\cdot x_{2}\\)</td>\n",
       "</tr>\n",
       "<tr class =\"row-b\">\n",
       "<td style=\"text-align:left\">\\(x_{3}^{2}\\cdot x_{2}^{2}\\)</td>\n",
       "<td style=\"text-align:left\">\\(x_{2}^{2}\\cdot x_{3}^{2}\\)</td>\n",
       "</tr>\n",
       "<tr class =\"row-a\">\n",
       "<td style=\"text-align:left\">\\(x_{3}^{4}\\)</td>\n",
       "<td style=\"text-align:left\">\\(1\\)</td>\n",
       "</tr>\n",
       "</tbody>\n",
       "</table>\n",
       "</div>"
      ],
      "text/plain": [
       "  x0^4         1\n",
       "  x0*x1^2*x0   x1^2\n",
       "  x1*x0^2*x1   x0^2\n",
       "  x1*x0*x1     x0*x1*x0\n",
       "  x1^2*x0^2    x0^2*x1^2\n",
       "  x1^4         1\n",
       "  x1*x2^2*x1   x2^2\n",
       "  x2*x0        x0*x2\n",
       "  x2*x1^2*x2   x1^2\n",
       "  x2*x1*x2     x1*x2*x1\n",
       "  x2^2*x1^2    x1^2*x2^2\n",
       "  x2^4         1\n",
       "  x2*x3^2*x2   x3^2\n",
       "  x3*x0        x0*x3\n",
       "  x3*x1        x1*x3\n",
       "  x3*x2^2*x3   x2^2\n",
       "  x3*x2*x3     x2*x3*x2\n",
       "  x3^2*x2^2    x2^2*x3^2\n",
       "  x3^4         1"
      ]
     },
     "execution_count": 62,
     "metadata": {},
     "output_type": "execute_result"
    }
   ],
   "source": [
    "t = time.time()\n",
    "elements = main(\"A\",4,4)\n",
    "print(\"用时%.3f\"%(time.time()-t))\n",
    "table(elements)"
   ]
  },
  {
   "cell_type": "code",
   "execution_count": 63,
   "metadata": {
    "hidden": true
   },
   "outputs": [
    {
     "name": "stdout",
     "output_type": "stream",
     "text": [
      "各层数目 [1, 5, 19, 62, 167]\n",
      "修改后的各层数目 [1, 5, 19, 62, 167] \n",
      "是否相等 True\n",
      "用时120.611\n"
     ]
    },
    {
     "data": {
      "text/html": [
       "<div class=\"notruncate\">\n",
       "<table  class=\"table_form\">\n",
       "<tbody>\n",
       "<tr class =\"row-a\">\n",
       "<td style=\"text-align:left\">\\(x_{0}^{4}\\)</td>\n",
       "<td style=\"text-align:left\">\\(1\\)</td>\n",
       "</tr>\n",
       "<tr class =\"row-b\">\n",
       "<td style=\"text-align:left\">\\(x_{0}^{2}\\cdot x_{2}^{2}\\)</td>\n",
       "<td style=\"text-align:left\">\\(x_{4}^{2}\\)</td>\n",
       "</tr>\n",
       "<tr class =\"row-a\">\n",
       "<td style=\"text-align:left\">\\(x_{0}^{2}\\cdot x_{4}^{2}\\)</td>\n",
       "<td style=\"text-align:left\">\\(x_{2}^{2}\\)</td>\n",
       "</tr>\n",
       "<tr class =\"row-b\">\n",
       "<td style=\"text-align:left\">\\(x_{0}\\cdot x_{1}^{2}\\cdot x_{0}\\)</td>\n",
       "<td style=\"text-align:left\">\\(x_{1}^{2}\\)</td>\n",
       "</tr>\n",
       "<tr class =\"row-a\">\n",
       "<td style=\"text-align:left\">\\(x_{1}\\cdot x_{0}^{2}\\cdot x_{1}\\)</td>\n",
       "<td style=\"text-align:left\">\\(x_{0}^{2}\\)</td>\n",
       "</tr>\n",
       "<tr class =\"row-b\">\n",
       "<td style=\"text-align:left\">\\(x_{1}\\cdot x_{0}\\cdot x_{1}\\)</td>\n",
       "<td style=\"text-align:left\">\\(x_{0}\\cdot x_{1}\\cdot x_{0}\\)</td>\n",
       "</tr>\n",
       "<tr class =\"row-a\">\n",
       "<td style=\"text-align:left\">\\(x_{1}^{2}\\cdot x_{0}^{2}\\)</td>\n",
       "<td style=\"text-align:left\">\\(x_{0}^{2}\\cdot x_{1}^{2}\\)</td>\n",
       "</tr>\n",
       "<tr class =\"row-b\">\n",
       "<td style=\"text-align:left\">\\(x_{1}^{4}\\)</td>\n",
       "<td style=\"text-align:left\">\\(1\\)</td>\n",
       "</tr>\n",
       "<tr class =\"row-a\">\n",
       "<td style=\"text-align:left\">\\(x_{1}\\cdot x_{2}^{2}\\cdot x_{1}\\)</td>\n",
       "<td style=\"text-align:left\">\\(x_{2}^{2}\\)</td>\n",
       "</tr>\n",
       "<tr class =\"row-b\">\n",
       "<td style=\"text-align:left\">\\(x_{2}\\cdot x_{0}\\)</td>\n",
       "<td style=\"text-align:left\">\\(x_{0}\\cdot x_{2}\\)</td>\n",
       "</tr>\n",
       "<tr class =\"row-a\">\n",
       "<td style=\"text-align:left\">\\(x_{2}\\cdot x_{1}^{2}\\cdot x_{2}\\)</td>\n",
       "<td style=\"text-align:left\">\\(x_{1}^{2}\\)</td>\n",
       "</tr>\n",
       "<tr class =\"row-b\">\n",
       "<td style=\"text-align:left\">\\(x_{2}\\cdot x_{1}\\cdot x_{2}\\)</td>\n",
       "<td style=\"text-align:left\">\\(x_{1}\\cdot x_{2}\\cdot x_{1}\\)</td>\n",
       "</tr>\n",
       "<tr class =\"row-a\">\n",
       "<td style=\"text-align:left\">\\(x_{2}^{2}\\cdot x_{1}^{2}\\)</td>\n",
       "<td style=\"text-align:left\">\\(x_{1}^{2}\\cdot x_{2}^{2}\\)</td>\n",
       "</tr>\n",
       "<tr class =\"row-b\">\n",
       "<td style=\"text-align:left\">\\(x_{2}^{4}\\)</td>\n",
       "<td style=\"text-align:left\">\\(1\\)</td>\n",
       "</tr>\n",
       "<tr class =\"row-a\">\n",
       "<td style=\"text-align:left\">\\(x_{2}^{2}\\cdot x_{4}^{2}\\)</td>\n",
       "<td style=\"text-align:left\">\\(x_{0}^{2}\\)</td>\n",
       "</tr>\n",
       "<tr class =\"row-b\">\n",
       "<td style=\"text-align:left\">\\(x_{2}\\cdot x_{3}^{2}\\cdot x_{2}\\)</td>\n",
       "<td style=\"text-align:left\">\\(x_{3}^{2}\\)</td>\n",
       "</tr>\n",
       "<tr class =\"row-a\">\n",
       "<td style=\"text-align:left\">\\(x_{3}\\cdot x_{0}\\)</td>\n",
       "<td style=\"text-align:left\">\\(x_{0}\\cdot x_{3}\\)</td>\n",
       "</tr>\n",
       "<tr class =\"row-b\">\n",
       "<td style=\"text-align:left\">\\(x_{3}\\cdot x_{1}\\)</td>\n",
       "<td style=\"text-align:left\">\\(x_{1}\\cdot x_{3}\\)</td>\n",
       "</tr>\n",
       "<tr class =\"row-a\">\n",
       "<td style=\"text-align:left\">\\(x_{3}\\cdot x_{2}^{2}\\cdot x_{3}\\)</td>\n",
       "<td style=\"text-align:left\">\\(x_{2}^{2}\\)</td>\n",
       "</tr>\n",
       "<tr class =\"row-b\">\n",
       "<td style=\"text-align:left\">\\(x_{3}\\cdot x_{2}\\cdot x_{3}\\)</td>\n",
       "<td style=\"text-align:left\">\\(x_{2}\\cdot x_{3}\\cdot x_{2}\\)</td>\n",
       "</tr>\n",
       "<tr class =\"row-a\">\n",
       "<td style=\"text-align:left\">\\(x_{3}^{2}\\cdot x_{2}^{2}\\)</td>\n",
       "<td style=\"text-align:left\">\\(x_{2}^{2}\\cdot x_{3}^{2}\\)</td>\n",
       "</tr>\n",
       "<tr class =\"row-b\">\n",
       "<td style=\"text-align:left\">\\(x_{3}^{4}\\)</td>\n",
       "<td style=\"text-align:left\">\\(1\\)</td>\n",
       "</tr>\n",
       "<tr class =\"row-a\">\n",
       "<td style=\"text-align:left\">\\(x_{3}\\cdot x_{4}^{2}\\cdot x_{3}\\)</td>\n",
       "<td style=\"text-align:left\">\\(x_{4}^{2}\\)</td>\n",
       "</tr>\n",
       "<tr class =\"row-b\">\n",
       "<td style=\"text-align:left\">\\(x_{4}\\cdot x_{0}\\)</td>\n",
       "<td style=\"text-align:left\">\\(x_{0}\\cdot x_{4}\\)</td>\n",
       "</tr>\n",
       "<tr class =\"row-a\">\n",
       "<td style=\"text-align:left\">\\(x_{4}\\cdot x_{1}\\)</td>\n",
       "<td style=\"text-align:left\">\\(x_{1}\\cdot x_{4}\\)</td>\n",
       "</tr>\n",
       "<tr class =\"row-b\">\n",
       "<td style=\"text-align:left\">\\(x_{4}\\cdot x_{2}\\)</td>\n",
       "<td style=\"text-align:left\">\\(x_{2}\\cdot x_{4}\\)</td>\n",
       "</tr>\n",
       "<tr class =\"row-a\">\n",
       "<td style=\"text-align:left\">\\(x_{4}\\cdot x_{3}^{2}\\cdot x_{4}\\)</td>\n",
       "<td style=\"text-align:left\">\\(x_{3}^{2}\\)</td>\n",
       "</tr>\n",
       "<tr class =\"row-b\">\n",
       "<td style=\"text-align:left\">\\(x_{4}\\cdot x_{3}\\cdot x_{4}\\)</td>\n",
       "<td style=\"text-align:left\">\\(x_{3}\\cdot x_{4}\\cdot x_{3}\\)</td>\n",
       "</tr>\n",
       "<tr class =\"row-a\">\n",
       "<td style=\"text-align:left\">\\(x_{4}^{2}\\cdot x_{3}^{2}\\)</td>\n",
       "<td style=\"text-align:left\">\\(x_{3}^{2}\\cdot x_{4}^{2}\\)</td>\n",
       "</tr>\n",
       "<tr class =\"row-b\">\n",
       "<td style=\"text-align:left\">\\(x_{4}^{4}\\)</td>\n",
       "<td style=\"text-align:left\">\\(1\\)</td>\n",
       "</tr>\n",
       "</tbody>\n",
       "</table>\n",
       "</div>"
      ],
      "text/plain": [
       "  x0^4         1\n",
       "  x0^2*x2^2    x4^2\n",
       "  x0^2*x4^2    x2^2\n",
       "  x0*x1^2*x0   x1^2\n",
       "  x1*x0^2*x1   x0^2\n",
       "  x1*x0*x1     x0*x1*x0\n",
       "  x1^2*x0^2    x0^2*x1^2\n",
       "  x1^4         1\n",
       "  x1*x2^2*x1   x2^2\n",
       "  x2*x0        x0*x2\n",
       "  x2*x1^2*x2   x1^2\n",
       "  x2*x1*x2     x1*x2*x1\n",
       "  x2^2*x1^2    x1^2*x2^2\n",
       "  x2^4         1\n",
       "  x2^2*x4^2    x0^2\n",
       "  x2*x3^2*x2   x3^2\n",
       "  x3*x0        x0*x3\n",
       "  x3*x1        x1*x3\n",
       "  x3*x2^2*x3   x2^2\n",
       "  x3*x2*x3     x2*x3*x2\n",
       "  x3^2*x2^2    x2^2*x3^2\n",
       "  x3^4         1\n",
       "  x3*x4^2*x3   x4^2\n",
       "  x4*x0        x0*x4\n",
       "  x4*x1        x1*x4\n",
       "  x4*x2        x2*x4\n",
       "  x4*x3^2*x4   x3^2\n",
       "  x4*x3*x4     x3*x4*x3\n",
       "  x4^2*x3^2    x3^2*x4^2\n",
       "  x4^4         1"
      ]
     },
     "execution_count": 63,
     "metadata": {},
     "output_type": "execute_result"
    }
   ],
   "source": [
    "t = time.time()\n",
    "elements = main(\"A\",5,4)\n",
    "print(\"用时%.3f\"%(time.time()-t))\n",
    "table(elements)"
   ]
  },
  {
   "cell_type": "code",
   "execution_count": 4,
   "metadata": {
    "hidden": true
   },
   "outputs": [],
   "source": [
    "# 弃用-极小性不可用\n",
    "def MinimalUniversalProperty(G,max_depth=4):\n",
    "    \"\"\"\n",
    "    1. 求群的极小泛性质\n",
    "    2. max_depth 根据规律拟定\n",
    "    \"\"\"\n",
    "    # 初始化\n",
    "    tree,relations = UniversalPropertyOfGroup(G,max_depth)[1:]\n",
    "    layer_len = [len(i) for i in tree] # 记录各层长度数据\n",
    "    FG = FreeGroup(n) # 自由群\n",
    "    elements = relations2elements(relations,FG.gens()) # 初始商集\n",
    "    necessary = []\n",
    "    # 逐步化归\n",
    "    while len(elements):\n",
    "        print(\"当前长度\",len(elements),len(necessary))\n",
    "        ele = elements.pop(-1)\n",
    "        test_elements = elements + necessary\n",
    "        QG = FG/test_elements # 商群\n",
    "        tree = GroupTreeOfMaxDepth(QG,max_depth)\n",
    "        if [len(i) for i in tree] != layer_len: # 个数增多 \n",
    "            necessary.append(ele)\n",
    "    necessary.reverse()\n",
    "    return necessary"
   ]
  }
 ],
 "metadata": {
  "kernelspec": {
   "display_name": "SageMath 9.4",
   "language": "sage",
   "name": "sagemath"
  },
  "language_info": {
   "codemirror_mode": {
    "name": "ipython",
    "version": 3
   },
   "file_extension": ".py",
   "mimetype": "text/x-python",
   "name": "python",
   "nbconvert_exporter": "python",
   "pygments_lexer": "ipython3",
   "version": "3.9.5"
  }
 },
 "nbformat": 4,
 "nbformat_minor": 4
}
