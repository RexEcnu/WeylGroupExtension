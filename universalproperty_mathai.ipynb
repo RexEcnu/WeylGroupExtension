{
 "cells": [
  {
   "cell_type": "markdown",
   "metadata": {},
   "source": [
    "# Weyl 群扩张群的泛性质 "
   ]
  },
  {
   "cell_type": "code",
   "execution_count": 2,
   "metadata": {
    "collapsed": true
   },
   "outputs": [
    {
     "data": {
      "text/plain": [
       "'/home/zhwang/Documents/jupyter/0-items/WeylGroupExtension'"
      ]
     },
     "execution_count": 2,
     "metadata": {},
     "output_type": "execute_result"
    }
   ],
   "source": [
    "pwd"
   ]
  },
  {
   "cell_type": "code",
   "execution_count": 3,
   "metadata": {
    "collapsed": true
   },
   "outputs": [
    {
     "name": "stdout",
     "output_type": "stream",
     "text": [
      "[Errno 2] No such file or directory: 'Documents/jupyter/0-items/WeylGroupExtension/'\n",
      "/home/zhwang/Documents/jupyter/0-items/WeylGroupExtension\n"
     ]
    }
   ],
   "source": [
    "cd Documents/jupyter/0-items/WeylGroupExtension/"
   ]
  },
  {
   "cell_type": "code",
   "execution_count": 21,
   "metadata": {},
   "outputs": [],
   "source": [
    "load(\"weyl_group_extension.sage\")"
   ]
  },
  {
   "cell_type": "code",
   "execution_count": 44,
   "metadata": {},
   "outputs": [],
   "source": [
    "import time\n",
    "from pprint import pprint"
   ]
  },
  {
   "cell_type": "markdown",
   "metadata": {},
   "source": [
    "目前已有函数\n",
    "1. ExpOfNilpotentMat(mat, max_depth=36, base_ring=ZZ) # 返回幂零阵的指数矩阵\n",
    "2. Thetas(s,n) 返回生成元集合 \\{\\theta_i\\}_{i=1}^n\n",
    "3. OrderMatrixOfGens(gens) 返回生成元的群阶矩阵\n",
    "4. GroupByOrderMathix(order_mat) 群阶矩阵作为泛性质，生成群\n",
    "5. GroupTreeOfMaxDepth(G,depth) 生成群树（BFS）\n",
    "6. UniversalPropertyOfGroup(G,max_depth=-1) 求群生成元的泛性质\n",
    "7. relations2elements(relations,gens) 生成元通过 gens 转为群的子集"
   ]
  },
  {
   "cell_type": "markdown",
   "metadata": {
    "heading_collapsed": true
   },
   "source": [
    "## 知识背景"
   ]
  },
  {
   "cell_type": "markdown",
   "metadata": {
    "heading_collapsed": true,
    "hidden": true
   },
   "source": [
    "### 极小泛性质"
   ]
  },
  {
   "cell_type": "markdown",
   "metadata": {
    "hidden": true
   },
   "source": [
    "1. 上边算法求生成元泛性质，给出的是相对粗糙的刻画；\n",
    "2. 一般地，很难有直接构造的算法，求“最精细”的刻画；\n",
    "3. 难处可以归结为：对任意自由群商群，判断表示式是否等于1\n",
    "4. 一些特殊情形，比如 Coxeter 群，Humphreys 书给出了判断等于1的充要方法；\n",
    "5. 但就一般情形来说，这很难做到的，以至于专业研究群论的工具 GAP 有时都判断不了"
   ]
  },
  {
   "cell_type": "markdown",
   "metadata": {
    "heading_collapsed": true,
    "hidden": true
   },
   "source": [
    "### 函数说明及相关性质"
   ]
  },
  {
   "cell_type": "markdown",
   "metadata": {
    "hidden": true
   },
   "source": [
    "1. 函数说明：\n",
    "   - GroupTreeOfMaxDepth(G,depth) 群的 0-depth 层\n",
    "   - UniversalPropertyOfGroup(G,max_depth=-1) 返回值有三个（默认生成整树）：\n",
    "      - tree 群 G 的 0-max_depth 层\n",
    "      - tree_str 群 G 的 0-max_depth 层，元素用 reduced expression  \n",
    "      - relations 字典，**能够生成 0-max_depth 层，且键值 <= max_depth 的泛性质**\n",
    "2. 泛性质等价\n",
    "   - relations 给出的是粗刻画，需进一步加细\n",
    "   - relations 可以将 0-max_depth 所有的 expression 简约化\n",
    "   - 反之，如果 0-max_depth 所有的 expression 简约化已知，可导出 relations\n",
    "   - 等价关系：若 relaitons1 和 relations2 的键值均在 0-max_depth 层，且将 0-max_depth 层的所有 expression 简约化，则二者等价\n",
    "   - 等价的两个泛性质关系可相互生成\n",
    "3. 基于上边的讨论，从泛性质的粗刻画出发，逐步细化"
   ]
  },
  {
   "cell_type": "markdown",
   "metadata": {
    "heading_collapsed": true,
    "hidden": true
   },
   "source": [
    "### Weyl 群及其扩张群的相关结论"
   ]
  },
  {
   "cell_type": "markdown",
   "metadata": {
    "hidden": true
   },
   "source": [
    "观察前几阶的测试结论，易得性质猜想:\n",
    "1. 确定 Weyl 群的泛性质，需获取前 n 层：\n",
    "   - A,D,E 型：前 3 层\n",
    "   - B,C,F 型：前 4 层\n",
    "   - G 型：前 6 层\n",
    "2. 确定 Weyl 扩张群的泛性质，需要获取前 n 层：\n",
    "   - A,D,E 型：前 4 层\n",
    "   - B,C,F 型：前 4 层\n",
    "   - G 型：前 6 层\n",
    "3. 此外，二者泛性质可以只用包含两元素的情形"
   ]
  },
  {
   "cell_type": "markdown",
   "metadata": {},
   "source": [
    "## A 型 Weyl 扩张群的泛性质"
   ]
  },
  {
   "cell_type": "code",
   "execution_count": 57,
   "metadata": {},
   "outputs": [],
   "source": [
    "def main(s,n,k):\n",
    "    \"\"\"函数打包\"\"\"\n",
    "    # 初始化\n",
    "    gens = Thetas(s,n)\n",
    "    G = MatrixGroup(gens)\n",
    "    tree,relations = UniversalPropertyOfGroup(G,k)[1:]\n",
    "    layer_len = [len(i) for i in tree] # 记录各层长度数据\n",
    "    print(\"各层数目\",layer_len)\n",
    "    \n",
    "    #### 修改 relations ####\n",
    "    relations = [r for r in relations if len(set(r[0].replace(\"-\",\"\")))<=2]\n",
    "    \n",
    "    #### 测试区域 ####\n",
    "    FG = FreeGroup(n)\n",
    "    gens = FG.gens()\n",
    "    test_elements = relations2elements(relations,gens)\n",
    "    QG = FG/test_elements # 商群\n",
    "    tree = GroupTreeOfMaxDepth(QG,k)\n",
    "    tree_len = [len(i) for i in tree]\n",
    "    print(\"修改后的各层数目\",layer_len,\"\\n是否相等\",tree_len==layer_len)\n",
    "    \n",
    "    # 导出结果\n",
    "    relations.sort()\n",
    "    elements = [(relation2element(a,gens),relation2element(b,gens)) for a,b in relations]\n",
    "    return elements"
   ]
  },
  {
   "cell_type": "code",
   "execution_count": 60,
   "metadata": {},
   "outputs": [
    {
     "name": "stdout",
     "output_type": "stream",
     "text": [
      "各层数目 [1, 2, 4, 7, 7]\n",
      "修改后的各层数目 [1, 2, 4, 7, 7] \n",
      "是否相等 True\n",
      "用时0.123\n"
     ]
    },
    {
     "data": {
      "text/html": [
       "<div class=\"notruncate\">\n",
       "<table  class=\"table_form\">\n",
       "<tbody>\n",
       "<tr class =\"row-a\">\n",
       "<td style=\"text-align:left\">\\(x_{0}^{4}\\)</td>\n",
       "<td style=\"text-align:left\">\\(1\\)</td>\n",
       "</tr>\n",
       "<tr class =\"row-b\">\n",
       "<td style=\"text-align:left\">\\(x_{0}\\cdot x_{1}^{2}\\cdot x_{0}\\)</td>\n",
       "<td style=\"text-align:left\">\\(x_{1}^{2}\\)</td>\n",
       "</tr>\n",
       "<tr class =\"row-a\">\n",
       "<td style=\"text-align:left\">\\(x_{1}\\cdot x_{0}^{2}\\cdot x_{1}\\)</td>\n",
       "<td style=\"text-align:left\">\\(x_{0}^{2}\\)</td>\n",
       "</tr>\n",
       "<tr class =\"row-b\">\n",
       "<td style=\"text-align:left\">\\(x_{1}\\cdot x_{0}\\cdot x_{1}\\)</td>\n",
       "<td style=\"text-align:left\">\\(x_{0}\\cdot x_{1}\\cdot x_{0}\\)</td>\n",
       "</tr>\n",
       "<tr class =\"row-a\">\n",
       "<td style=\"text-align:left\">\\(x_{1}^{2}\\cdot x_{0}^{2}\\)</td>\n",
       "<td style=\"text-align:left\">\\(x_{0}^{2}\\cdot x_{1}^{2}\\)</td>\n",
       "</tr>\n",
       "<tr class =\"row-b\">\n",
       "<td style=\"text-align:left\">\\(x_{1}^{4}\\)</td>\n",
       "<td style=\"text-align:left\">\\(1\\)</td>\n",
       "</tr>\n",
       "</tbody>\n",
       "</table>\n",
       "</div>"
      ],
      "text/plain": [
       "  x0^4         1\n",
       "  x0*x1^2*x0   x1^2\n",
       "  x1*x0^2*x1   x0^2\n",
       "  x1*x0*x1     x0*x1*x0\n",
       "  x1^2*x0^2    x0^2*x1^2\n",
       "  x1^4         1"
      ]
     },
     "execution_count": 60,
     "metadata": {},
     "output_type": "execute_result"
    }
   ],
   "source": [
    "t = time.time()\n",
    "elements = main(\"A\",2,4)\n",
    "print(\"用时%.3f\"%(time.time()-t))\n",
    "table(elements)"
   ]
  },
  {
   "cell_type": "code",
   "execution_count": 61,
   "metadata": {},
   "outputs": [
    {
     "name": "stdout",
     "output_type": "stream",
     "text": [
      "各层数目 [1, 3, 7, 15, 21]\n",
      "修改后的各层数目 [1, 3, 7, 15, 21] \n",
      "是否相等 True\n",
      "用时0.998\n"
     ]
    },
    {
     "data": {
      "text/html": [
       "<div class=\"notruncate\">\n",
       "<table  class=\"table_form\">\n",
       "<tbody>\n",
       "<tr class =\"row-a\">\n",
       "<td style=\"text-align:left\">\\(x_{0}^{4}\\)</td>\n",
       "<td style=\"text-align:left\">\\(1\\)</td>\n",
       "</tr>\n",
       "<tr class =\"row-b\">\n",
       "<td style=\"text-align:left\">\\(x_{0}\\cdot x_{1}^{2}\\cdot x_{0}\\)</td>\n",
       "<td style=\"text-align:left\">\\(x_{1}^{2}\\)</td>\n",
       "</tr>\n",
       "<tr class =\"row-a\">\n",
       "<td style=\"text-align:left\">\\(x_{1}\\cdot x_{0}^{2}\\cdot x_{1}\\)</td>\n",
       "<td style=\"text-align:left\">\\(x_{0}^{2}\\)</td>\n",
       "</tr>\n",
       "<tr class =\"row-b\">\n",
       "<td style=\"text-align:left\">\\(x_{1}\\cdot x_{0}\\cdot x_{1}\\)</td>\n",
       "<td style=\"text-align:left\">\\(x_{0}\\cdot x_{1}\\cdot x_{0}\\)</td>\n",
       "</tr>\n",
       "<tr class =\"row-a\">\n",
       "<td style=\"text-align:left\">\\(x_{1}^{2}\\cdot x_{0}^{2}\\)</td>\n",
       "<td style=\"text-align:left\">\\(x_{0}^{2}\\cdot x_{1}^{2}\\)</td>\n",
       "</tr>\n",
       "<tr class =\"row-b\">\n",
       "<td style=\"text-align:left\">\\(x_{1}^{4}\\)</td>\n",
       "<td style=\"text-align:left\">\\(1\\)</td>\n",
       "</tr>\n",
       "<tr class =\"row-a\">\n",
       "<td style=\"text-align:left\">\\(x_{1}\\cdot x_{2}\\cdot x_{1}^{2}\\)</td>\n",
       "<td style=\"text-align:left\">\\(x_{0}^{2}\\cdot x_{1}\\cdot x_{2}\\)</td>\n",
       "</tr>\n",
       "<tr class =\"row-b\">\n",
       "<td style=\"text-align:left\">\\(x_{2}\\cdot x_{0}\\)</td>\n",
       "<td style=\"text-align:left\">\\(x_{0}\\cdot x_{2}\\)</td>\n",
       "</tr>\n",
       "<tr class =\"row-a\">\n",
       "<td style=\"text-align:left\">\\(x_{2}\\cdot x_{1}^{2}\\cdot x_{2}\\)</td>\n",
       "<td style=\"text-align:left\">\\(x_{1}^{2}\\)</td>\n",
       "</tr>\n",
       "<tr class =\"row-b\">\n",
       "<td style=\"text-align:left\">\\(x_{2}\\cdot x_{1}\\cdot x_{2}\\)</td>\n",
       "<td style=\"text-align:left\">\\(x_{1}\\cdot x_{2}\\cdot x_{1}\\)</td>\n",
       "</tr>\n",
       "<tr class =\"row-a\">\n",
       "<td style=\"text-align:left\">\\(x_{2}^{2}\\)</td>\n",
       "<td style=\"text-align:left\">\\(x_{0}^{2}\\)</td>\n",
       "</tr>\n",
       "</tbody>\n",
       "</table>\n",
       "</div>"
      ],
      "text/plain": [
       "  x0^4         1\n",
       "  x0*x1^2*x0   x1^2\n",
       "  x1*x0^2*x1   x0^2\n",
       "  x1*x0*x1     x0*x1*x0\n",
       "  x1^2*x0^2    x0^2*x1^2\n",
       "  x1^4         1\n",
       "  x1*x2*x1^2   x0^2*x1*x2\n",
       "  x2*x0        x0*x2\n",
       "  x2*x1^2*x2   x1^2\n",
       "  x2*x1*x2     x1*x2*x1\n",
       "  x2^2         x0^2"
      ]
     },
     "execution_count": 61,
     "metadata": {},
     "output_type": "execute_result"
    }
   ],
   "source": [
    "t = time.time()\n",
    "elements = main(\"A\",3,4)\n",
    "print(\"用时%.3f\"%(time.time()-t))\n",
    "table(elements)"
   ]
  },
  {
   "cell_type": "code",
   "execution_count": 62,
   "metadata": {},
   "outputs": [
    {
     "name": "stdout",
     "output_type": "stream",
     "text": [
      "各层数目 [1, 4, 13, 37, 86]\n",
      "修改后的各层数目 [1, 4, 13, 37, 86] \n",
      "是否相等 True\n",
      "用时17.440\n"
     ]
    },
    {
     "data": {
      "text/html": [
       "<div class=\"notruncate\">\n",
       "<table  class=\"table_form\">\n",
       "<tbody>\n",
       "<tr class =\"row-a\">\n",
       "<td style=\"text-align:left\">\\(x_{0}^{4}\\)</td>\n",
       "<td style=\"text-align:left\">\\(1\\)</td>\n",
       "</tr>\n",
       "<tr class =\"row-b\">\n",
       "<td style=\"text-align:left\">\\(x_{0}\\cdot x_{1}^{2}\\cdot x_{0}\\)</td>\n",
       "<td style=\"text-align:left\">\\(x_{1}^{2}\\)</td>\n",
       "</tr>\n",
       "<tr class =\"row-a\">\n",
       "<td style=\"text-align:left\">\\(x_{1}\\cdot x_{0}^{2}\\cdot x_{1}\\)</td>\n",
       "<td style=\"text-align:left\">\\(x_{0}^{2}\\)</td>\n",
       "</tr>\n",
       "<tr class =\"row-b\">\n",
       "<td style=\"text-align:left\">\\(x_{1}\\cdot x_{0}\\cdot x_{1}\\)</td>\n",
       "<td style=\"text-align:left\">\\(x_{0}\\cdot x_{1}\\cdot x_{0}\\)</td>\n",
       "</tr>\n",
       "<tr class =\"row-a\">\n",
       "<td style=\"text-align:left\">\\(x_{1}^{2}\\cdot x_{0}^{2}\\)</td>\n",
       "<td style=\"text-align:left\">\\(x_{0}^{2}\\cdot x_{1}^{2}\\)</td>\n",
       "</tr>\n",
       "<tr class =\"row-b\">\n",
       "<td style=\"text-align:left\">\\(x_{1}^{4}\\)</td>\n",
       "<td style=\"text-align:left\">\\(1\\)</td>\n",
       "</tr>\n",
       "<tr class =\"row-a\">\n",
       "<td style=\"text-align:left\">\\(x_{1}\\cdot x_{2}^{2}\\cdot x_{1}\\)</td>\n",
       "<td style=\"text-align:left\">\\(x_{2}^{2}\\)</td>\n",
       "</tr>\n",
       "<tr class =\"row-b\">\n",
       "<td style=\"text-align:left\">\\(x_{2}\\cdot x_{0}\\)</td>\n",
       "<td style=\"text-align:left\">\\(x_{0}\\cdot x_{2}\\)</td>\n",
       "</tr>\n",
       "<tr class =\"row-a\">\n",
       "<td style=\"text-align:left\">\\(x_{2}\\cdot x_{1}^{2}\\cdot x_{2}\\)</td>\n",
       "<td style=\"text-align:left\">\\(x_{1}^{2}\\)</td>\n",
       "</tr>\n",
       "<tr class =\"row-b\">\n",
       "<td style=\"text-align:left\">\\(x_{2}\\cdot x_{1}\\cdot x_{2}\\)</td>\n",
       "<td style=\"text-align:left\">\\(x_{1}\\cdot x_{2}\\cdot x_{1}\\)</td>\n",
       "</tr>\n",
       "<tr class =\"row-a\">\n",
       "<td style=\"text-align:left\">\\(x_{2}^{2}\\cdot x_{1}^{2}\\)</td>\n",
       "<td style=\"text-align:left\">\\(x_{1}^{2}\\cdot x_{2}^{2}\\)</td>\n",
       "</tr>\n",
       "<tr class =\"row-b\">\n",
       "<td style=\"text-align:left\">\\(x_{2}^{4}\\)</td>\n",
       "<td style=\"text-align:left\">\\(1\\)</td>\n",
       "</tr>\n",
       "<tr class =\"row-a\">\n",
       "<td style=\"text-align:left\">\\(x_{2}\\cdot x_{3}^{2}\\cdot x_{2}\\)</td>\n",
       "<td style=\"text-align:left\">\\(x_{3}^{2}\\)</td>\n",
       "</tr>\n",
       "<tr class =\"row-b\">\n",
       "<td style=\"text-align:left\">\\(x_{3}\\cdot x_{0}\\)</td>\n",
       "<td style=\"text-align:left\">\\(x_{0}\\cdot x_{3}\\)</td>\n",
       "</tr>\n",
       "<tr class =\"row-a\">\n",
       "<td style=\"text-align:left\">\\(x_{3}\\cdot x_{1}\\)</td>\n",
       "<td style=\"text-align:left\">\\(x_{1}\\cdot x_{3}\\)</td>\n",
       "</tr>\n",
       "<tr class =\"row-b\">\n",
       "<td style=\"text-align:left\">\\(x_{3}\\cdot x_{2}^{2}\\cdot x_{3}\\)</td>\n",
       "<td style=\"text-align:left\">\\(x_{2}^{2}\\)</td>\n",
       "</tr>\n",
       "<tr class =\"row-a\">\n",
       "<td style=\"text-align:left\">\\(x_{3}\\cdot x_{2}\\cdot x_{3}\\)</td>\n",
       "<td style=\"text-align:left\">\\(x_{2}\\cdot x_{3}\\cdot x_{2}\\)</td>\n",
       "</tr>\n",
       "<tr class =\"row-b\">\n",
       "<td style=\"text-align:left\">\\(x_{3}^{2}\\cdot x_{2}^{2}\\)</td>\n",
       "<td style=\"text-align:left\">\\(x_{2}^{2}\\cdot x_{3}^{2}\\)</td>\n",
       "</tr>\n",
       "<tr class =\"row-a\">\n",
       "<td style=\"text-align:left\">\\(x_{3}^{4}\\)</td>\n",
       "<td style=\"text-align:left\">\\(1\\)</td>\n",
       "</tr>\n",
       "</tbody>\n",
       "</table>\n",
       "</div>"
      ],
      "text/plain": [
       "  x0^4         1\n",
       "  x0*x1^2*x0   x1^2\n",
       "  x1*x0^2*x1   x0^2\n",
       "  x1*x0*x1     x0*x1*x0\n",
       "  x1^2*x0^2    x0^2*x1^2\n",
       "  x1^4         1\n",
       "  x1*x2^2*x1   x2^2\n",
       "  x2*x0        x0*x2\n",
       "  x2*x1^2*x2   x1^2\n",
       "  x2*x1*x2     x1*x2*x1\n",
       "  x2^2*x1^2    x1^2*x2^2\n",
       "  x2^4         1\n",
       "  x2*x3^2*x2   x3^2\n",
       "  x3*x0        x0*x3\n",
       "  x3*x1        x1*x3\n",
       "  x3*x2^2*x3   x2^2\n",
       "  x3*x2*x3     x2*x3*x2\n",
       "  x3^2*x2^2    x2^2*x3^2\n",
       "  x3^4         1"
      ]
     },
     "execution_count": 62,
     "metadata": {},
     "output_type": "execute_result"
    }
   ],
   "source": [
    "t = time.time()\n",
    "elements = main(\"A\",4,4)\n",
    "print(\"用时%.3f\"%(time.time()-t))\n",
    "table(elements)"
   ]
  },
  {
   "cell_type": "code",
   "execution_count": 63,
   "metadata": {},
   "outputs": [
    {
     "name": "stdout",
     "output_type": "stream",
     "text": [
      "各层数目 [1, 5, 19, 62, 167]\n",
      "修改后的各层数目 [1, 5, 19, 62, 167] \n",
      "是否相等 True\n",
      "用时120.611\n"
     ]
    },
    {
     "data": {
      "text/html": [
       "<div class=\"notruncate\">\n",
       "<table  class=\"table_form\">\n",
       "<tbody>\n",
       "<tr class =\"row-a\">\n",
       "<td style=\"text-align:left\">\\(x_{0}^{4}\\)</td>\n",
       "<td style=\"text-align:left\">\\(1\\)</td>\n",
       "</tr>\n",
       "<tr class =\"row-b\">\n",
       "<td style=\"text-align:left\">\\(x_{0}^{2}\\cdot x_{2}^{2}\\)</td>\n",
       "<td style=\"text-align:left\">\\(x_{4}^{2}\\)</td>\n",
       "</tr>\n",
       "<tr class =\"row-a\">\n",
       "<td style=\"text-align:left\">\\(x_{0}^{2}\\cdot x_{4}^{2}\\)</td>\n",
       "<td style=\"text-align:left\">\\(x_{2}^{2}\\)</td>\n",
       "</tr>\n",
       "<tr class =\"row-b\">\n",
       "<td style=\"text-align:left\">\\(x_{0}\\cdot x_{1}^{2}\\cdot x_{0}\\)</td>\n",
       "<td style=\"text-align:left\">\\(x_{1}^{2}\\)</td>\n",
       "</tr>\n",
       "<tr class =\"row-a\">\n",
       "<td style=\"text-align:left\">\\(x_{1}\\cdot x_{0}^{2}\\cdot x_{1}\\)</td>\n",
       "<td style=\"text-align:left\">\\(x_{0}^{2}\\)</td>\n",
       "</tr>\n",
       "<tr class =\"row-b\">\n",
       "<td style=\"text-align:left\">\\(x_{1}\\cdot x_{0}\\cdot x_{1}\\)</td>\n",
       "<td style=\"text-align:left\">\\(x_{0}\\cdot x_{1}\\cdot x_{0}\\)</td>\n",
       "</tr>\n",
       "<tr class =\"row-a\">\n",
       "<td style=\"text-align:left\">\\(x_{1}^{2}\\cdot x_{0}^{2}\\)</td>\n",
       "<td style=\"text-align:left\">\\(x_{0}^{2}\\cdot x_{1}^{2}\\)</td>\n",
       "</tr>\n",
       "<tr class =\"row-b\">\n",
       "<td style=\"text-align:left\">\\(x_{1}^{4}\\)</td>\n",
       "<td style=\"text-align:left\">\\(1\\)</td>\n",
       "</tr>\n",
       "<tr class =\"row-a\">\n",
       "<td style=\"text-align:left\">\\(x_{1}\\cdot x_{2}^{2}\\cdot x_{1}\\)</td>\n",
       "<td style=\"text-align:left\">\\(x_{2}^{2}\\)</td>\n",
       "</tr>\n",
       "<tr class =\"row-b\">\n",
       "<td style=\"text-align:left\">\\(x_{2}\\cdot x_{0}\\)</td>\n",
       "<td style=\"text-align:left\">\\(x_{0}\\cdot x_{2}\\)</td>\n",
       "</tr>\n",
       "<tr class =\"row-a\">\n",
       "<td style=\"text-align:left\">\\(x_{2}\\cdot x_{1}^{2}\\cdot x_{2}\\)</td>\n",
       "<td style=\"text-align:left\">\\(x_{1}^{2}\\)</td>\n",
       "</tr>\n",
       "<tr class =\"row-b\">\n",
       "<td style=\"text-align:left\">\\(x_{2}\\cdot x_{1}\\cdot x_{2}\\)</td>\n",
       "<td style=\"text-align:left\">\\(x_{1}\\cdot x_{2}\\cdot x_{1}\\)</td>\n",
       "</tr>\n",
       "<tr class =\"row-a\">\n",
       "<td style=\"text-align:left\">\\(x_{2}^{2}\\cdot x_{1}^{2}\\)</td>\n",
       "<td style=\"text-align:left\">\\(x_{1}^{2}\\cdot x_{2}^{2}\\)</td>\n",
       "</tr>\n",
       "<tr class =\"row-b\">\n",
       "<td style=\"text-align:left\">\\(x_{2}^{4}\\)</td>\n",
       "<td style=\"text-align:left\">\\(1\\)</td>\n",
       "</tr>\n",
       "<tr class =\"row-a\">\n",
       "<td style=\"text-align:left\">\\(x_{2}^{2}\\cdot x_{4}^{2}\\)</td>\n",
       "<td style=\"text-align:left\">\\(x_{0}^{2}\\)</td>\n",
       "</tr>\n",
       "<tr class =\"row-b\">\n",
       "<td style=\"text-align:left\">\\(x_{2}\\cdot x_{3}^{2}\\cdot x_{2}\\)</td>\n",
       "<td style=\"text-align:left\">\\(x_{3}^{2}\\)</td>\n",
       "</tr>\n",
       "<tr class =\"row-a\">\n",
       "<td style=\"text-align:left\">\\(x_{3}\\cdot x_{0}\\)</td>\n",
       "<td style=\"text-align:left\">\\(x_{0}\\cdot x_{3}\\)</td>\n",
       "</tr>\n",
       "<tr class =\"row-b\">\n",
       "<td style=\"text-align:left\">\\(x_{3}\\cdot x_{1}\\)</td>\n",
       "<td style=\"text-align:left\">\\(x_{1}\\cdot x_{3}\\)</td>\n",
       "</tr>\n",
       "<tr class =\"row-a\">\n",
       "<td style=\"text-align:left\">\\(x_{3}\\cdot x_{2}^{2}\\cdot x_{3}\\)</td>\n",
       "<td style=\"text-align:left\">\\(x_{2}^{2}\\)</td>\n",
       "</tr>\n",
       "<tr class =\"row-b\">\n",
       "<td style=\"text-align:left\">\\(x_{3}\\cdot x_{2}\\cdot x_{3}\\)</td>\n",
       "<td style=\"text-align:left\">\\(x_{2}\\cdot x_{3}\\cdot x_{2}\\)</td>\n",
       "</tr>\n",
       "<tr class =\"row-a\">\n",
       "<td style=\"text-align:left\">\\(x_{3}^{2}\\cdot x_{2}^{2}\\)</td>\n",
       "<td style=\"text-align:left\">\\(x_{2}^{2}\\cdot x_{3}^{2}\\)</td>\n",
       "</tr>\n",
       "<tr class =\"row-b\">\n",
       "<td style=\"text-align:left\">\\(x_{3}^{4}\\)</td>\n",
       "<td style=\"text-align:left\">\\(1\\)</td>\n",
       "</tr>\n",
       "<tr class =\"row-a\">\n",
       "<td style=\"text-align:left\">\\(x_{3}\\cdot x_{4}^{2}\\cdot x_{3}\\)</td>\n",
       "<td style=\"text-align:left\">\\(x_{4}^{2}\\)</td>\n",
       "</tr>\n",
       "<tr class =\"row-b\">\n",
       "<td style=\"text-align:left\">\\(x_{4}\\cdot x_{0}\\)</td>\n",
       "<td style=\"text-align:left\">\\(x_{0}\\cdot x_{4}\\)</td>\n",
       "</tr>\n",
       "<tr class =\"row-a\">\n",
       "<td style=\"text-align:left\">\\(x_{4}\\cdot x_{1}\\)</td>\n",
       "<td style=\"text-align:left\">\\(x_{1}\\cdot x_{4}\\)</td>\n",
       "</tr>\n",
       "<tr class =\"row-b\">\n",
       "<td style=\"text-align:left\">\\(x_{4}\\cdot x_{2}\\)</td>\n",
       "<td style=\"text-align:left\">\\(x_{2}\\cdot x_{4}\\)</td>\n",
       "</tr>\n",
       "<tr class =\"row-a\">\n",
       "<td style=\"text-align:left\">\\(x_{4}\\cdot x_{3}^{2}\\cdot x_{4}\\)</td>\n",
       "<td style=\"text-align:left\">\\(x_{3}^{2}\\)</td>\n",
       "</tr>\n",
       "<tr class =\"row-b\">\n",
       "<td style=\"text-align:left\">\\(x_{4}\\cdot x_{3}\\cdot x_{4}\\)</td>\n",
       "<td style=\"text-align:left\">\\(x_{3}\\cdot x_{4}\\cdot x_{3}\\)</td>\n",
       "</tr>\n",
       "<tr class =\"row-a\">\n",
       "<td style=\"text-align:left\">\\(x_{4}^{2}\\cdot x_{3}^{2}\\)</td>\n",
       "<td style=\"text-align:left\">\\(x_{3}^{2}\\cdot x_{4}^{2}\\)</td>\n",
       "</tr>\n",
       "<tr class =\"row-b\">\n",
       "<td style=\"text-align:left\">\\(x_{4}^{4}\\)</td>\n",
       "<td style=\"text-align:left\">\\(1\\)</td>\n",
       "</tr>\n",
       "</tbody>\n",
       "</table>\n",
       "</div>"
      ],
      "text/plain": [
       "  x0^4         1\n",
       "  x0^2*x2^2    x4^2\n",
       "  x0^2*x4^2    x2^2\n",
       "  x0*x1^2*x0   x1^2\n",
       "  x1*x0^2*x1   x0^2\n",
       "  x1*x0*x1     x0*x1*x0\n",
       "  x1^2*x0^2    x0^2*x1^2\n",
       "  x1^4         1\n",
       "  x1*x2^2*x1   x2^2\n",
       "  x2*x0        x0*x2\n",
       "  x2*x1^2*x2   x1^2\n",
       "  x2*x1*x2     x1*x2*x1\n",
       "  x2^2*x1^2    x1^2*x2^2\n",
       "  x2^4         1\n",
       "  x2^2*x4^2    x0^2\n",
       "  x2*x3^2*x2   x3^2\n",
       "  x3*x0        x0*x3\n",
       "  x3*x1        x1*x3\n",
       "  x3*x2^2*x3   x2^2\n",
       "  x3*x2*x3     x2*x3*x2\n",
       "  x3^2*x2^2    x2^2*x3^2\n",
       "  x3^4         1\n",
       "  x3*x4^2*x3   x4^2\n",
       "  x4*x0        x0*x4\n",
       "  x4*x1        x1*x4\n",
       "  x4*x2        x2*x4\n",
       "  x4*x3^2*x4   x3^2\n",
       "  x4*x3*x4     x3*x4*x3\n",
       "  x4^2*x3^2    x3^2*x4^2\n",
       "  x4^4         1"
      ]
     },
     "execution_count": 63,
     "metadata": {},
     "output_type": "execute_result"
    }
   ],
   "source": [
    "t = time.time()\n",
    "elements = main(\"A\",5,4)\n",
    "print(\"用时%.3f\"%(time.time()-t))\n",
    "table(elements)"
   ]
  },
  {
   "cell_type": "code",
   "execution_count": 4,
   "metadata": {},
   "outputs": [],
   "source": [
    "# 弃用-极小性不可用\n",
    "def MinimalUniversalProperty(G,max_depth=4):\n",
    "    \"\"\"\n",
    "    1. 求群的极小泛性质\n",
    "    2. max_depth 根据规律拟定\n",
    "    \"\"\"\n",
    "    # 初始化\n",
    "    tree,relations = UniversalPropertyOfGroup(G,max_depth)[1:]\n",
    "    layer_len = [len(i) for i in tree] # 记录各层长度数据\n",
    "    FG = FreeGroup(n) # 自由群\n",
    "    elements = relations2elements(relations,FG.gens()) # 初始商集\n",
    "    necessary = []\n",
    "    # 逐步化归\n",
    "    while len(elements):\n",
    "        print(\"当前长度\",len(elements),len(necessary))\n",
    "        ele = elements.pop(-1)\n",
    "        test_elements = elements + necessary\n",
    "        QG = FG/test_elements # 商群\n",
    "        tree = GroupTreeOfMaxDepth(QG,max_depth)\n",
    "        if [len(i) for i in tree] != layer_len: # 个数增多 \n",
    "            necessary.append(ele)\n",
    "    necessary.reverse()\n",
    "    return necessary"
   ]
  }
 ],
 "metadata": {
  "kernelspec": {
   "display_name": "SageMath 9.4",
   "language": "sage",
   "name": "sagemath"
  },
  "language_info": {
   "codemirror_mode": {
    "name": "ipython",
    "version": 3
   },
   "file_extension": ".py",
   "mimetype": "text/x-python",
   "name": "python",
   "nbconvert_exporter": "python",
   "pygments_lexer": "ipython3",
   "version": "3.9.5"
  }
 },
 "nbformat": 4,
 "nbformat_minor": 4
}
