{
 "cells": [
  {
   "cell_type": "markdown",
   "metadata": {},
   "source": [
    "### Initialize"
   ]
  },
  {
   "cell_type": "code",
   "execution_count": 1,
   "metadata": {
    "scrolled": true
   },
   "outputs": [
    {
     "data": {
      "text/plain": [
       "'/home/rex/work_space/1 jupyter/0 项目/04 WeylGroupExtension/demo'"
      ]
     },
     "execution_count": 1,
     "metadata": {},
     "output_type": "execute_result"
    }
   ],
   "source": [
    "pwd"
   ]
  },
  {
   "cell_type": "code",
   "execution_count": null,
   "metadata": {},
   "outputs": [],
   "source": [
    "load(\"../src/weyl_group_extension.sage\")"
   ]
  },
  {
   "cell_type": "code",
   "execution_count": null,
   "metadata": {},
   "outputs": [],
   "source": [
    "load(\"./0-items/WeylGroupExtension/src/weyl_group_extension.sage\")"
   ]
  },
  {
   "cell_type": "code",
   "execution_count": null,
   "metadata": {},
   "outputs": [],
   "source": [
    "LieDatas = [[\"A\",range(1,9)],[\"B\",range(2,9)],[\"C\",range(3,9)],[\"D\",range(4,9)],\n",
    "            [\"E\",range(6,9)],[\"F\",[4]],[\"G\",[2]]]"
   ]
  },
  {
   "cell_type": "code",
   "execution_count": null,
   "metadata": {
    "code_folding": []
   },
   "outputs": [],
   "source": [
    "################ debug/test tools #################\n",
    "from pprint import pprint\n",
    "class Time():\n",
    "    import time\n",
    "    def tic(self):\n",
    "        self.time = time.time()\n",
    "    def toc(self,text='time cost:'):\n",
    "        t = self.time\n",
    "        self.tic()\n",
    "        print(text+'%.3f'%(self.time-t))\n",
    "tt = Time()\n",
    "tic = tt.tic\n",
    "toc = tt.toc\n",
    "\n",
    "def save_vari(v,name):\n",
    "    '''save variables'''\n",
    "    import pickle\n",
    "    fout = open(name,'wb')\n",
    "    pickle.dump(v,fout)\n",
    "    fout.close()\n",
    "    return\n",
    "\n",
    "def read_vari(name):\n",
    "    '''read variables'''\n",
    "    import pickle\n",
    "    fin = open(name,'rb')\n",
    "    a = pickle.load(fin)\n",
    "    fin.close()\n",
    "    return a"
   ]
  },
  {
   "cell_type": "markdown",
   "metadata": {},
   "source": [
    "### Group structure\n",
    "e.g. Type A"
   ]
  },
  {
   "cell_type": "code",
   "execution_count": null,
   "metadata": {},
   "outputs": [],
   "source": [
    "gap2tex = lambda s:str(s).replace(\"x\",\"\\\\times\").replace(\"C2\",\"C_2\")\n",
    "gap2tex(gap.StructureDescription(G)), W.structure_description(), gap2tex(gap.StructureDescription(K))])"
   ]
  },
  {
   "cell_type": "code",
   "execution_count": null,
   "metadata": {
    "scrolled": true
   },
   "outputs": [],
   "source": [
    "# compare G,W and K\n",
    "res = [['level','|G|','|W|','|K|','Structure of G','Structure of W','Structure of K']] \n",
    "s = \"A\" # lie algebra of Type A\n",
    "print(s)\n",
    "for n in range(1,8):\n",
    "    print(n,end=\"\\t\")\n",
    "    thetas = [gap(mat) for mat in Thetas(s,n,reduced=True)]\n",
    "    G = gap.Group(thetas)\n",
    "    K = gap.Group([x^2 for x in thetas])\n",
    "    W = WeylGroup([s,n])\n",
    "    res.append([n, gap.Size(G), W.order(), gap.Size(K),\n",
    "                gap.StructureDescription(G), W.structure_description(), gap.StructureDescription(K)])\n",
    "#                 gap2tex(gap.StructureDescription(G)), W.structure_description(), gap2tex(gap.StructureDescription(K))])\n",
    "table(res)"
   ]
  },
  {
   "cell_type": "markdown",
   "metadata": {},
   "source": [
    "### Universal property"
   ]
  },
  {
   "cell_type": "code",
   "execution_count": null,
   "metadata": {},
   "outputs": [],
   "source": [
    "reshape = lambda l,count=3:[flatten(l[count*i : count*(i+1)]) for i in range(ceil(len(l)/count))]"
   ]
  },
  {
   "cell_type": "code",
   "execution_count": null,
   "metadata": {
    "scrolled": true
   },
   "outputs": [],
   "source": [
    "# Universal property of Weyl group\n",
    "s,n = \"A\",5\n",
    "G = WeylGroup([s,n])\n",
    "relations = UniversalPropertyOfGroup(G,s=\"\")\n",
    "relations_1 = [rel for rel in relations if len(rel[0])<2*4]\n",
    "relations_2 = [rel for rel in relations_1 if len(set(rel[0]+rel[1]))<3]\n",
    "relations_print = relations2element(relations_2,FreeGroup(n,\"s\").gens())\n",
    "table(reshape(relations_print))"
   ]
  },
  {
   "cell_type": "code",
   "execution_count": null,
   "metadata": {},
   "outputs": [],
   "source": [
    "# Universal property of Weyl group extension\n",
    "s,n = \"A\",3\n",
    "G = MatrixGroup(Thetas(s,n))\n",
    "relations = UniversalPropertyOfGroup(G,s=\"\")\n",
    "relations_2 = [rel for rel in relations if len(rel[0])<2*4]\n",
    "relations_3 = [rel for rel in relations_2 if len(set(rel[0]+rel[1]))<3]\n",
    "relations_print = relations2element(relations_3,FreeGroup(n,\"x\").gens())\n",
    "table(reshape(relations_print))"
   ]
  },
  {
   "cell_type": "markdown",
   "metadata": {},
   "source": [
    "### Equalities by Coxeter relations"
   ]
  },
  {
   "cell_type": "code",
   "execution_count": null,
   "metadata": {},
   "outputs": [],
   "source": [
    "# e.g. Type A\n",
    "\n",
    "# initialize\n",
    "s,n = \"D\",5\n",
    "print(DynkinDiagram([s,n]))\n",
    "M = matrix(CoxeterMatrix([s,n]))\n",
    "thetas = Thetas(s,n,reduced=True)\n",
    "thetas_square = [t^2 for t in thetas] # generators of K\n",
    "K = MatrixGroup(thetas_square)\n",
    "_,_,hash2str = GroupTree(K,s=\"\",check=False)\n",
    "gens = FreeGroup(n,\"t\").gens()\n",
    "\n",
    "# experiment\n",
    "res = [[\"\"]+list(range(n))]\n",
    "for i,t1 in enumerate(thetas):\n",
    "    res.append([i])\n",
    "    for j,t2 in enumerate(thetas):\n",
    "        t = (t1*t2)^M[i,j]\n",
    "        res[-1].append(word2element(hash2str[myhash(t)],gens))\n",
    "table(res)"
   ]
  },
  {
   "cell_type": "markdown",
   "metadata": {},
   "source": [
    "### Chevalley basis"
   ]
  },
  {
   "cell_type": "code",
   "execution_count": null,
   "metadata": {},
   "outputs": [],
   "source": [
    "def check(s,n):\n",
    "    \"检验系数是否恒为 1,-1,0\"\n",
    "    L = LieAlgebra(ZZ,cartan_type=[s,n])\n",
    "    pos_num = (len(L.basis())-n)/2\n",
    "    thetas = Thetas(s,n,reduced=True)\n",
    "    for mat in MatrixGroup(thetas):\n",
    "        mat = matrix(mat)\n",
    "        if max(max(mat)) > 1 or min(min(mat)) < -1:\n",
    "            return False\n",
    "    return True"
   ]
  },
  {
   "cell_type": "code",
   "execution_count": null,
   "metadata": {},
   "outputs": [],
   "source": [
    "test_data = [[\"G\",[2]],[\"A\",range(1,6)],[\"F\",[4]],[\"B\",range(2,6)],[\"C\",range(2,6)],[\"D\",range(4,6)]]\n",
    "for s,l in test_data:\n",
    "    print(s)\n",
    "    for n in l:\n",
    "        print(check(s,n),end=\"\\t\")\n",
    "    print()"
   ]
  },
  {
   "cell_type": "markdown",
   "metadata": {},
   "source": [
    "### tex tools"
   ]
  },
  {
   "cell_type": "code",
   "execution_count": null,
   "metadata": {},
   "outputs": [],
   "source": [
    "latex(table(res))"
   ]
  },
  {
   "cell_type": "code",
   "execution_count": null,
   "metadata": {},
   "outputs": [],
   "source": [
    "latex(DynkinDiagram([s,n]))"
   ]
  },
  {
   "cell_type": "markdown",
   "metadata": {},
   "source": [
    "### geometry presentation"
   ]
  },
  {
   "cell_type": "code",
   "execution_count": null,
   "metadata": {},
   "outputs": [],
   "source": [
    "Va = RootSystem([\"A\",2,1]).ambient_space() # 仿射型根系\n",
    "Va3 = RootSystem([\"A\",3,1]).ambient_space() # 仿射型根系"
   ]
  },
  {
   "cell_type": "code",
   "execution_count": null,
   "metadata": {},
   "outputs": [],
   "source": [
    "p = Va.plot(affine=False,level=1)\n",
    "p.show(aspect_ratio=[1,1,2], frame=False) # 去除边框"
   ]
  },
  {
   "cell_type": "code",
   "execution_count": null,
   "metadata": {
    "code_folding": [
     1
    ]
   },
   "outputs": [],
   "source": [
    "W = Va3.weyl_group()\n",
    "Va3.plot(reflection_hyperplanes=False,\n",
    "       alcoves=[W.one()], bounding_box=2)"
   ]
  }
 ],
 "metadata": {
  "kernelspec": {
   "display_name": "SageMath 9.0",
   "language": "sage",
   "name": "sagemath"
  },
  "language_info": {
   "codemirror_mode": {
    "name": "ipython",
    "version": 3
   },
   "file_extension": ".py",
   "mimetype": "text/x-python",
   "name": "python",
   "nbconvert_exporter": "python",
   "pygments_lexer": "ipython3",
   "version": "3.8.10"
  }
 },
 "nbformat": 4,
 "nbformat_minor": 4
}
