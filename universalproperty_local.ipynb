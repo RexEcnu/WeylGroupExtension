{
 "cells": [
  {
   "cell_type": "markdown",
   "metadata": {},
   "source": [
    "# Weyl 群扩张群的泛性质 "
   ]
  },
  {
   "cell_type": "code",
   "execution_count": 1,
   "metadata": {},
   "outputs": [
    {
     "data": {
      "text/plain": [
       "'/home/rex'"
      ]
     },
     "execution_count": 1,
     "metadata": {},
     "output_type": "execute_result"
    }
   ],
   "source": [
    "pwd"
   ]
  },
  {
   "cell_type": "code",
   "execution_count": 2,
   "metadata": {},
   "outputs": [
    {
     "name": "stdout",
     "output_type": "stream",
     "text": [
      "/home/rex/work_space/1 jupyter/0 项目/04 WeylGroupExtension\n"
     ]
    }
   ],
   "source": [
    "cd work_space/1\\ jupyter/0\\ 项目/04\\ WeylGroupExtension/"
   ]
  },
  {
   "cell_type": "code",
   "execution_count": 3,
   "metadata": {},
   "outputs": [],
   "source": [
    "load(\"weyl_group_extension.sage\")"
   ]
  },
  {
   "cell_type": "code",
   "execution_count": 4,
   "metadata": {},
   "outputs": [],
   "source": [
    "import time\n",
    "from pprint import pprint\n",
    "class Time():\n",
    "    '''\n",
    "    计时器\n",
    "    输入：tic()开始\n",
    "    输出：toc()结束\n",
    "    误差：0.01s\n",
    "    '''\n",
    "    def tic(self):\n",
    "        self.time = time.time()\n",
    "    def toc(self,text='用时：'):\n",
    "        t = self.time\n",
    "        self.tic()\n",
    "        print(text+'%.3f'%(self.time-t))\n",
    "tt = Time()\n",
    "tic = tt.tic\n",
    "toc = tt.toc"
   ]
  },
  {
   "cell_type": "markdown",
   "metadata": {},
   "source": [
    "目前已有函数\n",
    "1. ExpOfNilpotentMat(mat, max_depth=36, base_ring=ZZ) # 返回幂零阵的指数矩阵\n",
    "2. Thetas(s,n) 返回生成元集合 \\{\\theta_i\\}_{i=1}^n\n",
    "3. OrderMatrixOfGens(gens) 返回生成元的群阶矩阵\n",
    "4. GroupByOrderMathix(order_mat) 群阶矩阵作为泛性质，生成群\n",
    "5. GroupTreeOfMaxDepth(G,depth) 生成群树（BFS）\n",
    "6. UniversalPropertyOfGroup(G,max_depth=-1) 求群生成元的泛性质\n",
    "7. relations2elements(relations,gens) 生成元通过 gens 转为群的子集"
   ]
  },
  {
   "cell_type": "markdown",
   "metadata": {
    "heading_collapsed": true
   },
   "source": [
    "## 知识背景"
   ]
  },
  {
   "cell_type": "markdown",
   "metadata": {
    "heading_collapsed": true,
    "hidden": true
   },
   "source": [
    "### 极小泛性质"
   ]
  },
  {
   "cell_type": "markdown",
   "metadata": {
    "hidden": true
   },
   "source": [
    "1. 上边算法求生成元泛性质，给出的是相对粗糙的刻画；\n",
    "2. 一般地，很难有直接构造的算法，求“最精细”的刻画；\n",
    "3. 难处可以归结为：对任意自由群商群，判断表示式是否等于1\n",
    "4. 一些特殊情形，比如 Coxeter 群，Humphreys 书给出了判断等于1的充要方法；\n",
    "5. 但就一般情形来说，这很难做到的，以至于专业研究群论的工具 GAP 有时都判断不了"
   ]
  },
  {
   "cell_type": "markdown",
   "metadata": {
    "heading_collapsed": true,
    "hidden": true
   },
   "source": [
    "### 函数说明及相关性质"
   ]
  },
  {
   "cell_type": "markdown",
   "metadata": {
    "hidden": true
   },
   "source": [
    "1. 函数说明：\n",
    "   - GroupTreeOfMaxDepth(G,depth) 群的 0-depth 层\n",
    "   - UniversalPropertyOfGroup(G,max_depth=-1) 返回值有三个（默认生成整树）：\n",
    "      - tree 群 G 的 0-max_depth 层\n",
    "      - tree_str 群 G 的 0-max_depth 层，元素用 reduced expression  \n",
    "      - relations 字典，**能够生成 0-max_depth 层，且键值 <= max_depth 的泛性质**\n",
    "2. 泛性质等价\n",
    "   - relations 给出的是粗刻画，需进一步加细\n",
    "   - relations 可以将 0-max_depth 所有的 expression 简约化\n",
    "   - 反之，如果 0-max_depth 所有的 expression 简约化已知，可导出 relations\n",
    "   - 等价关系：若 relaitons1 和 relations2 的键值均在 0-max_depth 层，且将 0-max_depth 层的所有 expression 简约化，则二者等价\n",
    "   - 等价的两个泛性质关系可相互生成\n",
    "3. 基于上边的讨论，从泛性质的粗刻画出发，逐步细化"
   ]
  },
  {
   "cell_type": "markdown",
   "metadata": {
    "heading_collapsed": true,
    "hidden": true
   },
   "source": [
    "### Weyl 群及其扩张群的相关结论"
   ]
  },
  {
   "cell_type": "markdown",
   "metadata": {
    "hidden": true
   },
   "source": [
    "观察前几阶的测试结论，易得性质猜想:\n",
    "1. 确定 Weyl 群的泛性质，需获取前 n 层：\n",
    "   - A,D,E 型：前 3 层\n",
    "   - B,C,F 型：前 4 层\n",
    "   - G 型：前 6 层\n",
    "2. 确定 Weyl 扩张群的泛性质，需要获取前 n 层：\n",
    "   - A,D,E 型：前 4 层\n",
    "   - B,C,F 型：前 4 层\n",
    "   - G 型：前 6 层\n",
    "3. 此外，二者泛性质可以只用包含两元素的情形"
   ]
  },
  {
   "cell_type": "markdown",
   "metadata": {},
   "source": [
    "## A 型 Weyl 扩张群的泛性质"
   ]
  },
  {
   "cell_type": "code",
   "execution_count": 7,
   "metadata": {},
   "outputs": [
    {
     "name": "stdout",
     "output_type": "stream",
     "text": [
      "A 5\n",
      "获取群树用时89.638\n",
      "各层数目 [1, 5, 19, 62, 167]\n",
      "用时：0.962\n",
      "修改后的各层数目 [1, 5, 19, 62, 167] \n",
      "是否相等 True\n"
     ]
    }
   ],
   "source": [
    "# 初始化\n",
    "s,n,k = \"A\",5,4\n",
    "print(s,n)\n",
    "gens = Thetas(s,n)\n",
    "G = MatrixGroup(gens)\n",
    "# 计时\n",
    "tic()\n",
    "tree = GroupTreeOfMaxDepth(G,k)\n",
    "toc(\"获取群树用时\")\n",
    "record_len = [len(i) for i in tree] # 记录各层长度数据\n",
    "print(\"各层数目\",record_len)\n",
    "\n",
    "# 测试\n",
    "FG = FreeGroup(n)\n",
    "gens = FG.gens()\n",
    "# type_1 = [(gens[i]^4,FG.one()) for i in range(n)]\n",
    "type_2 = [(gens[i]*gens[i+1]*gens[i],gens[i+1]*gens[i]*gens[i+1]) for i in range(n-1)]\n",
    "type_3 = [(gens[i]*gens[j],gens[j]*gens[i]) for i in range(n) for j in range(n) if i-j>1]\n",
    "type_4 = [(gens[i]*gens[i+1]^2*gens[i],gens[i+1]^2) for i in range(n-1)]\n",
    "odd = FG.one()\n",
    "for i in range((n+1)//2):\n",
    "    odd *= gens[2*i]^2\n",
    "type_5 = [(odd,FG.one())] if n%2 else []\n",
    "elements = type_1 + type_2 + type_3 + type_4 + type_5\n",
    "QG = FG / [a/b for a,b in elements] # 商群\n",
    "tic()\n",
    "tree = GroupTreeOfMaxDepth(QG,k)\n",
    "toc()\n",
    "tree_len = [len(i) for i in tree]\n",
    "print(\"修改后的各层数目\",tree_len,\"\\n是否相等\",tree_len==record_len)"
   ]
  },
  {
   "cell_type": "code",
   "execution_count": null,
   "metadata": {},
   "outputs": [],
   "source": []
  }
 ],
 "metadata": {
  "kernelspec": {
   "display_name": "SageMath 9.0",
   "language": "sage",
   "name": "sagemath"
  },
  "language_info": {
   "codemirror_mode": {
    "name": "ipython",
    "version": 3
   },
   "file_extension": ".py",
   "mimetype": "text/x-python",
   "name": "python",
   "nbconvert_exporter": "python",
   "pygments_lexer": "ipython3",
   "version": "3.8.10"
  }
 },
 "nbformat": 4,
 "nbformat_minor": 4
}
