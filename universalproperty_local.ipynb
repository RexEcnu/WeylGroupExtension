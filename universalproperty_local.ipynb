{
 "cells": [
  {
   "cell_type": "markdown",
   "metadata": {},
   "source": [
    "# Weyl 群扩张群的泛性质 "
   ]
  },
  {
   "cell_type": "code",
   "execution_count": 13,
   "metadata": {},
   "outputs": [
    {
     "data": {
      "text/plain": [
       "'/home/rex/work_space/1 jupyter/0 项目/04 WeylGroupExtension'"
      ]
     },
     "execution_count": 13,
     "metadata": {},
     "output_type": "execute_result"
    }
   ],
   "source": [
    "pwd"
   ]
  },
  {
   "cell_type": "code",
   "execution_count": 2,
   "metadata": {},
   "outputs": [
    {
     "name": "stdout",
     "output_type": "stream",
     "text": [
      "/home/rex/work_space/1 jupyter/0 项目/04 WeylGroupExtension\n"
     ]
    }
   ],
   "source": [
    "cd work_space/1\\ jupyter/0\\ 项目/04\\ WeylGroupExtension/"
   ]
  },
  {
   "cell_type": "code",
   "execution_count": null,
   "metadata": {},
   "outputs": [],
   "source": [
    "cd Documents/jupyter/0-items/WeylGroupExtension/"
   ]
  },
  {
   "cell_type": "code",
   "execution_count": 14,
   "metadata": {},
   "outputs": [],
   "source": [
    "load(\"weyl_group_extension.sage\")"
   ]
  },
  {
   "cell_type": "code",
   "execution_count": 15,
   "metadata": {},
   "outputs": [],
   "source": [
    "import time\n",
    "from pprint import pprint\n",
    "class Time():\n",
    "    '''\n",
    "    计时器\n",
    "    输入：tic()开始\n",
    "    输出：toc()结束\n",
    "    误差：0.01s\n",
    "    '''\n",
    "    def tic(self):\n",
    "        self.time = time.time()\n",
    "    def toc(self,text='用时：'):\n",
    "        t = self.time\n",
    "        self.tic()\n",
    "        print(text+'%.3f'%(self.time-t))\n",
    "tt = Time()\n",
    "tic = tt.tic\n",
    "toc = tt.toc"
   ]
  },
  {
   "cell_type": "markdown",
   "metadata": {},
   "source": [
    "目前已有函数\n",
    "1. ExpOfNilpotentMat(mat, max_depth=36, base_ring=ZZ) # 返回幂零阵的指数矩阵\n",
    "2. Thetas(s,n) 返回生成元集合 \\{\\theta_i\\}_{i=1}^n\n",
    "3. OrderMatrixOfGens(gens) 返回生成元的群阶矩阵\n",
    "4. GroupByOrderMathix(order_mat) 群阶矩阵作为泛性质，生成群\n",
    "5. GroupTreeOfMaxDepth(G,depth) 生成群树（BFS）\n",
    "6. UniversalPropertyOfGroup(G,max_depth=-1) 求群生成元的泛性质\n",
    "7. relations2elements(relations,gens) 生成元通过 gens 转为群的子集"
   ]
  },
  {
   "cell_type": "markdown",
   "metadata": {
    "heading_collapsed": true
   },
   "source": [
    "## 知识背景"
   ]
  },
  {
   "cell_type": "markdown",
   "metadata": {
    "heading_collapsed": true,
    "hidden": true
   },
   "source": [
    "### 极小泛性质"
   ]
  },
  {
   "cell_type": "markdown",
   "metadata": {
    "hidden": true
   },
   "source": [
    "1. 上边算法求生成元泛性质，给出的是相对粗糙的刻画；\n",
    "2. 一般地，很难有直接构造的算法，求“最精细”的刻画；\n",
    "3. 难处可以归结为：对任意自由群商群，判断表示式是否等于1\n",
    "4. 一些特殊情形，比如 Coxeter 群，Humphreys 书给出了判断等于1的充要方法；\n",
    "5. 但就一般情形来说，这很难做到的，以至于专业研究群论的工具 GAP 有时都判断不了"
   ]
  },
  {
   "cell_type": "markdown",
   "metadata": {
    "heading_collapsed": true,
    "hidden": true
   },
   "source": [
    "### 函数说明及相关性质"
   ]
  },
  {
   "cell_type": "markdown",
   "metadata": {
    "hidden": true
   },
   "source": [
    "1. 函数说明：\n",
    "   - GroupTreeOfMaxDepth(G,depth) 群的 0-depth 层\n",
    "   - UniversalPropertyOfGroup(G,max_depth=-1) 返回值有三个（默认生成整树）：\n",
    "      - tree 群 G 的 0-max_depth 层\n",
    "      - tree_str 群 G 的 0-max_depth 层，元素用 reduced expression  \n",
    "      - relations 字典，**能够生成 0-max_depth 层，且键值 <= max_depth 的泛性质**\n",
    "2. 泛性质等价\n",
    "   - relations 给出的是粗刻画，需进一步加细\n",
    "   - relations 可以将 0-max_depth 所有的 expression 简约化\n",
    "   - 反之，如果 0-max_depth 所有的 expression 简约化已知，可导出 relations\n",
    "   - 等价关系：若 relaitons1 和 relations2 的键值均在 0-max_depth 层，且将 0-max_depth 层的所有 expression 简约化，则二者等价\n",
    "   - 等价的两个泛性质关系可相互生成\n",
    "3. 基于上边的讨论，从泛性质的粗刻画出发，逐步细化"
   ]
  },
  {
   "cell_type": "markdown",
   "metadata": {
    "heading_collapsed": true,
    "hidden": true
   },
   "source": [
    "### Weyl 群及其扩张群的相关结论"
   ]
  },
  {
   "cell_type": "markdown",
   "metadata": {
    "hidden": true
   },
   "source": [
    "观察前几阶的测试结论，易得性质猜想:\n",
    "1. 确定 Weyl 群的泛性质，需获取前 n 层：\n",
    "   - A,D,E 型：前 3 层\n",
    "   - B,C,F 型：前 4 层\n",
    "   - G 型：前 6 层\n",
    "2. 确定 Weyl 扩张群的泛性质，需要获取前 n 层：\n",
    "   - A,D,E 型：前 4 层\n",
    "   - B,C,F 型：前 4 层\n",
    "   - G 型：前 6 层\n",
    "3. 此外，二者泛性质可以只用包含两元素的情形"
   ]
  },
  {
   "cell_type": "markdown",
   "metadata": {},
   "source": [
    "## A 型 Weyl 扩张群的泛性质"
   ]
  },
  {
   "cell_type": "code",
   "execution_count": null,
   "metadata": {},
   "outputs": [],
   "source": [
    "fgens = FreeGroup(5).gens()\n",
    "show_relations = lambda relations:table([(relation2element(a,fgens),relation2element(b,fgens)) for a,b in relations])\n",
    "str2set = lambda r:set(r.replace(\"-\",\"\"))"
   ]
  },
  {
   "cell_type": "code",
   "execution_count": 33,
   "metadata": {},
   "outputs": [
    {
     "name": "stdout",
     "output_type": "stream",
     "text": [
      "A 3\n",
      "获取群树用时0.718\n",
      "各层数目 [1, 3, 7, 15, 21]\n",
      "修改后的各层数目 [1, 3, 8, 19, 34] \n",
      "是否相等 False\n"
     ]
    }
   ],
   "source": [
    "# 初始化\n",
    "s,n,k = \"A\",3,4\n",
    "print(s,n)\n",
    "gens = Thetas(s,n)\n",
    "G = MatrixGroup(gens)\n",
    "# 计时\n",
    "tic()\n",
    "tree = GroupTreeOfMaxDepth(G,k)\n",
    "toc(\"获取群树用时\")\n",
    "record_len = [len(i) for i in tree] # 记录各层长度数据\n",
    "print(\"各层数目\",record_len)\n",
    "\n",
    "# 测试\n",
    "FG = FreeGroup(n)\n",
    "gens = FG.gens()\n",
    "type_1 = [(gens[i]^4,FG.one()) for i in range(n)]\n",
    "type_2 = [(gens[i]*gens[i+1]*gens[i],gens[i+1]*gens[i]*gens[i+1]) for i in range(n-1)]\n",
    "type_3 = [(gens[i]*gens[j],gens[j]*gens[i]) for i in range(n) for j in range(n) if i-j>1]\n",
    "type_4 = [(gens[i]^2*gens[i+1]^2,gens[i+1]^2*gens[i]^2) for i in range(n-1)]\n",
    "type_5 = [(gens[i]*gens[i+1]^2*gens[i],gens[i+1]^2) for i in range(n-1)]\n",
    "\n",
    "elements = type_1 + type_2 + type_3 + type_5 + type_4\n",
    "QG = FG / [a/b for a,b in elements] # 商群\n",
    "tree = GroupTreeOfMaxDepth(QG,k)\n",
    "tree_len = [len(i) for i in tree]\n",
    "print(\"修改后的各层数目\",tree_len,\"\\n是否相等\",tree_len==record_len)\n"
   ]
  },
  {
   "cell_type": "code",
   "execution_count": 23,
   "metadata": {},
   "outputs": [
    {
     "data": {
      "text/html": [
       "<div class=\"notruncate\">\n",
       "<table  class=\"table_form\">\n",
       "<tbody>\n",
       "<tr class =\"row-a\">\n",
       "<td><script type=\"math/tex\">x_{0}^{4}</script></td>\n",
       "<td><script type=\"math/tex\">1</script></td>\n",
       "</tr>\n",
       "<tr class =\"row-b\">\n",
       "<td><script type=\"math/tex\">x_{1}^{4}</script></td>\n",
       "<td><script type=\"math/tex\">1</script></td>\n",
       "</tr>\n",
       "<tr class =\"row-a\">\n",
       "<td><script type=\"math/tex\">x_{0}\\cdot x_{1}\\cdot x_{0}</script></td>\n",
       "<td><script type=\"math/tex\">x_{1}\\cdot x_{0}\\cdot x_{1}</script></td>\n",
       "</tr>\n",
       "<tr class =\"row-b\">\n",
       "<td><script type=\"math/tex\">x_{0}^{2}</script></td>\n",
       "<td><script type=\"math/tex\">x_{1}^{2}</script></td>\n",
       "</tr>\n",
       "</tbody>\n",
       "</table>\n",
       "</div>"
      ],
      "text/plain": [
       "  x0^4       1\n",
       "  x1^4       1\n",
       "  x0*x1*x0   x1*x0*x1\n",
       "  x0^2       x1^2"
      ]
     },
     "execution_count": 23,
     "metadata": {},
     "output_type": "execute_result"
    }
   ],
   "source": [
    "table(elements)"
   ]
  },
  {
   "cell_type": "code",
   "execution_count": 8,
   "metadata": {
    "scrolled": false
   },
   "outputs": [
    {
     "name": "stdout",
     "output_type": "stream",
     "text": [
      "A 2\n",
      "获取群树用时0.045\n",
      "各层数目 [1, 2, 4, 7, 7]\n",
      "修改后的各层数目 [1, 2, 4, 7, 7] \n",
      "是否相等 True\n"
     ]
    },
    {
     "data": {
      "text/html": [
       "<div class=\"notruncate\">\n",
       "<table  class=\"table_form\">\n",
       "<tbody>\n",
       "<tr class =\"row-a\">\n",
       "<td><script type=\"math/tex\">x_{0}^{4}</script></td>\n",
       "<td><script type=\"math/tex\">1</script></td>\n",
       "</tr>\n",
       "<tr class =\"row-b\">\n",
       "<td><script type=\"math/tex\">x_{1}^{4}</script></td>\n",
       "<td><script type=\"math/tex\">1</script></td>\n",
       "</tr>\n",
       "<tr class =\"row-a\">\n",
       "<td><script type=\"math/tex\">x_{0}\\cdot x_{1}\\cdot x_{0}</script></td>\n",
       "<td><script type=\"math/tex\">x_{1}\\cdot x_{0}\\cdot x_{1}</script></td>\n",
       "</tr>\n",
       "<tr class =\"row-b\">\n",
       "<td><script type=\"math/tex\">x_{0}\\cdot x_{1}^{2}\\cdot x_{0}</script></td>\n",
       "<td><script type=\"math/tex\">x_{1}^{2}</script></td>\n",
       "</tr>\n",
       "</tbody>\n",
       "</table>\n",
       "</div>"
      ],
      "text/plain": [
       "  x0^4         1\n",
       "  x1^4         1\n",
       "  x0*x1*x0     x1*x0*x1\n",
       "  x0*x1^2*x0   x1^2"
      ]
     },
     "execution_count": 8,
     "metadata": {},
     "output_type": "execute_result"
    }
   ],
   "source": [
    "table(main(\"A\",2))"
   ]
  },
  {
   "cell_type": "code",
   "execution_count": 9,
   "metadata": {},
   "outputs": [
    {
     "name": "stdout",
     "output_type": "stream",
     "text": [
      "A 3\n",
      "获取群树用时0.632\n",
      "各层数目 [1, 3, 7, 15, 21]\n",
      "修改后的各层数目 [1, 3, 8, 19, 34] \n",
      "是否相等 False\n"
     ]
    },
    {
     "data": {
      "text/html": [
       "<div class=\"notruncate\">\n",
       "<table  class=\"table_form\">\n",
       "<tbody>\n",
       "<tr class =\"row-a\">\n",
       "<td><script type=\"math/tex\">x_{0}^{4}</script></td>\n",
       "<td><script type=\"math/tex\">1</script></td>\n",
       "</tr>\n",
       "<tr class =\"row-b\">\n",
       "<td><script type=\"math/tex\">x_{1}^{4}</script></td>\n",
       "<td><script type=\"math/tex\">1</script></td>\n",
       "</tr>\n",
       "<tr class =\"row-a\">\n",
       "<td><script type=\"math/tex\">x_{2}^{4}</script></td>\n",
       "<td><script type=\"math/tex\">1</script></td>\n",
       "</tr>\n",
       "<tr class =\"row-b\">\n",
       "<td><script type=\"math/tex\">x_{0}\\cdot x_{1}\\cdot x_{0}</script></td>\n",
       "<td><script type=\"math/tex\">x_{1}\\cdot x_{0}\\cdot x_{1}</script></td>\n",
       "</tr>\n",
       "<tr class =\"row-a\">\n",
       "<td><script type=\"math/tex\">x_{1}\\cdot x_{2}\\cdot x_{1}</script></td>\n",
       "<td><script type=\"math/tex\">x_{2}\\cdot x_{1}\\cdot x_{2}</script></td>\n",
       "</tr>\n",
       "<tr class =\"row-b\">\n",
       "<td><script type=\"math/tex\">x_{2}\\cdot x_{0}</script></td>\n",
       "<td><script type=\"math/tex\">x_{0}\\cdot x_{2}</script></td>\n",
       "</tr>\n",
       "<tr class =\"row-a\">\n",
       "<td><script type=\"math/tex\">x_{0}\\cdot x_{1}^{2}\\cdot x_{0}</script></td>\n",
       "<td><script type=\"math/tex\">x_{1}^{2}</script></td>\n",
       "</tr>\n",
       "<tr class =\"row-b\">\n",
       "<td><script type=\"math/tex\">x_{1}\\cdot x_{2}^{2}\\cdot x_{1}</script></td>\n",
       "<td><script type=\"math/tex\">x_{2}^{2}</script></td>\n",
       "</tr>\n",
       "</tbody>\n",
       "</table>\n",
       "</div>"
      ],
      "text/plain": [
       "  x0^4         1\n",
       "  x1^4         1\n",
       "  x2^4         1\n",
       "  x0*x1*x0     x1*x0*x1\n",
       "  x1*x2*x1     x2*x1*x2\n",
       "  x2*x0        x0*x2\n",
       "  x0*x1^2*x0   x1^2\n",
       "  x1*x2^2*x1   x2^2"
      ]
     },
     "execution_count": 9,
     "metadata": {},
     "output_type": "execute_result"
    }
   ],
   "source": [
    "table(main(\"A\",3))"
   ]
  },
  {
   "cell_type": "code",
   "execution_count": 10,
   "metadata": {},
   "outputs": [
    {
     "name": "stdout",
     "output_type": "stream",
     "text": [
      "A 4\n",
      "获取群树用时12.255\n",
      "各层数目 [1, 4, 13, 37, 86]\n",
      "修改后的各层数目 [1, 4, 13, 37, 86] \n",
      "是否相等 True\n"
     ]
    },
    {
     "data": {
      "text/html": [
       "<div class=\"notruncate\">\n",
       "<table  class=\"table_form\">\n",
       "<tbody>\n",
       "<tr class =\"row-a\">\n",
       "<td><script type=\"math/tex\">x_{0}^{4}</script></td>\n",
       "<td><script type=\"math/tex\">1</script></td>\n",
       "</tr>\n",
       "<tr class =\"row-b\">\n",
       "<td><script type=\"math/tex\">x_{1}^{4}</script></td>\n",
       "<td><script type=\"math/tex\">1</script></td>\n",
       "</tr>\n",
       "<tr class =\"row-a\">\n",
       "<td><script type=\"math/tex\">x_{2}^{4}</script></td>\n",
       "<td><script type=\"math/tex\">1</script></td>\n",
       "</tr>\n",
       "<tr class =\"row-b\">\n",
       "<td><script type=\"math/tex\">x_{3}^{4}</script></td>\n",
       "<td><script type=\"math/tex\">1</script></td>\n",
       "</tr>\n",
       "<tr class =\"row-a\">\n",
       "<td><script type=\"math/tex\">x_{0}\\cdot x_{1}\\cdot x_{0}</script></td>\n",
       "<td><script type=\"math/tex\">x_{1}\\cdot x_{0}\\cdot x_{1}</script></td>\n",
       "</tr>\n",
       "<tr class =\"row-b\">\n",
       "<td><script type=\"math/tex\">x_{1}\\cdot x_{2}\\cdot x_{1}</script></td>\n",
       "<td><script type=\"math/tex\">x_{2}\\cdot x_{1}\\cdot x_{2}</script></td>\n",
       "</tr>\n",
       "<tr class =\"row-a\">\n",
       "<td><script type=\"math/tex\">x_{2}\\cdot x_{3}\\cdot x_{2}</script></td>\n",
       "<td><script type=\"math/tex\">x_{3}\\cdot x_{2}\\cdot x_{3}</script></td>\n",
       "</tr>\n",
       "<tr class =\"row-b\">\n",
       "<td><script type=\"math/tex\">x_{2}\\cdot x_{0}</script></td>\n",
       "<td><script type=\"math/tex\">x_{0}\\cdot x_{2}</script></td>\n",
       "</tr>\n",
       "<tr class =\"row-a\">\n",
       "<td><script type=\"math/tex\">x_{3}\\cdot x_{0}</script></td>\n",
       "<td><script type=\"math/tex\">x_{0}\\cdot x_{3}</script></td>\n",
       "</tr>\n",
       "<tr class =\"row-b\">\n",
       "<td><script type=\"math/tex\">x_{3}\\cdot x_{1}</script></td>\n",
       "<td><script type=\"math/tex\">x_{1}\\cdot x_{3}</script></td>\n",
       "</tr>\n",
       "<tr class =\"row-a\">\n",
       "<td><script type=\"math/tex\">x_{0}\\cdot x_{1}^{2}\\cdot x_{0}</script></td>\n",
       "<td><script type=\"math/tex\">x_{1}^{2}</script></td>\n",
       "</tr>\n",
       "<tr class =\"row-b\">\n",
       "<td><script type=\"math/tex\">x_{1}\\cdot x_{2}^{2}\\cdot x_{1}</script></td>\n",
       "<td><script type=\"math/tex\">x_{2}^{2}</script></td>\n",
       "</tr>\n",
       "<tr class =\"row-a\">\n",
       "<td><script type=\"math/tex\">x_{2}\\cdot x_{3}^{2}\\cdot x_{2}</script></td>\n",
       "<td><script type=\"math/tex\">x_{3}^{2}</script></td>\n",
       "</tr>\n",
       "</tbody>\n",
       "</table>\n",
       "</div>"
      ],
      "text/plain": [
       "  x0^4         1\n",
       "  x1^4         1\n",
       "  x2^4         1\n",
       "  x3^4         1\n",
       "  x0*x1*x0     x1*x0*x1\n",
       "  x1*x2*x1     x2*x1*x2\n",
       "  x2*x3*x2     x3*x2*x3\n",
       "  x2*x0        x0*x2\n",
       "  x3*x0        x0*x3\n",
       "  x3*x1        x1*x3\n",
       "  x0*x1^2*x0   x1^2\n",
       "  x1*x2^2*x1   x2^2\n",
       "  x2*x3^2*x2   x3^2"
      ]
     },
     "execution_count": 10,
     "metadata": {},
     "output_type": "execute_result"
    }
   ],
   "source": [
    "table(main(\"A\",4))"
   ]
  },
  {
   "cell_type": "markdown",
   "metadata": {},
   "source": [
    "### A2"
   ]
  },
  {
   "cell_type": "code",
   "execution_count": null,
   "metadata": {},
   "outputs": [],
   "source": [
    "#### 修改 A2 情形\n",
    "s,n,k = \"A\",2,4\n",
    "gens = Thetas(s,n)\n",
    "G = MatrixGroup(gens)\n",
    "\n",
    "tic()\n",
    "tree,relations = UniversalPropertyOfGroup(G,k)[1:]\n",
    "toc()\n",
    "layer_len = [len(i) for i in tree] # 记录各层长度数据\n",
    "print(\"各层数目\",layer_len)\n",
    "\n",
    "## 初始 relations\n",
    "### 去除单个幂次\n",
    "# relations = [r for r in relations if len(str2set(r[0]))!=1]\n",
    "\n",
    "m = len(relations)\n",
    "print(\"生成关系个数\",m)\n",
    "show_relations(relations)"
   ]
  },
  {
   "cell_type": "code",
   "execution_count": null,
   "metadata": {},
   "outputs": [],
   "source": [
    "pop = [3]\n",
    "new_relations = [a for i,a in enumerate(relations) if i not in pop]\n",
    "show_relations(new_relations)"
   ]
  },
  {
   "cell_type": "code",
   "execution_count": null,
   "metadata": {},
   "outputs": [],
   "source": [
    "#### 测试区域 ####\n",
    "FG = FreeGroup(n)\n",
    "gens = FG.gens()\n",
    "test_elements = relations2elements(new_relations,gens)\n",
    "QG = FG/test_elements # 商群\n",
    "tree = GroupTreeOfMaxDepth(QG,k)\n",
    "tree_len = [len(i) for i in tree]\n",
    "print(\"修改后的各层数目\",tree_len,\"\\n是否相等\",tree_len==layer_len)"
   ]
  },
  {
   "cell_type": "markdown",
   "metadata": {},
   "source": [
    "### A3"
   ]
  },
  {
   "cell_type": "code",
   "execution_count": null,
   "metadata": {},
   "outputs": [],
   "source": [
    "s,n,k = \"A\",3,4\n",
    "gens = Thetas(s,n)\n",
    "G = MatrixGroup(gens)\n",
    "\n",
    "tic()\n",
    "tree,relations = UniversalPropertyOfGroup(G,k)[1:]\n",
    "toc()\n",
    "\n",
    "layer_len = [len(i) for i in tree] # 记录各层长度数据\n",
    "print(\"各层数目\",layer_len)\n",
    "\n",
    "## 初始 relations\n",
    "### 去除单个幂次\n",
    "relations = [r for r in relations if len(str2set(r[0]))!=1]\n",
    "\n",
    "\n",
    "m = len(relations)\n",
    "print(\"生成关系个数\",m)\n",
    "show_relations(relations)"
   ]
  },
  {
   "cell_type": "code",
   "execution_count": null,
   "metadata": {},
   "outputs": [],
   "source": [
    "#### 修改 A3 情形\n",
    "pop = [m-2,m-2,m-3] + [4,5]\n",
    "new_relations = [a for i,a in enumerate(relations) if i not in pop]\n",
    "show_relations(new_relations)"
   ]
  },
  {
   "cell_type": "code",
   "execution_count": null,
   "metadata": {},
   "outputs": [],
   "source": [
    "#### 测试区域 ####\n",
    "FG = FreeGroup(n)\n",
    "gens = FG.gens()\n",
    "test_elements = relations2elements(new_relations,gens)\n",
    "QG = FG/test_elements # 商群\n",
    "tree = GroupTreeOfMaxDepth(QG,k)\n",
    "tree_len = [len(i) for i in tree]\n",
    "print(\"修改后的各层数目\",tree_len,\"\\n是否相等\",tree_len==layer_len)"
   ]
  },
  {
   "cell_type": "markdown",
   "metadata": {},
   "source": [
    "## 收纳"
   ]
  },
  {
   "cell_type": "code",
   "execution_count": null,
   "metadata": {},
   "outputs": [],
   "source": [
    "# 弃用-极小性不可用\n",
    "def MinimalUniversalProperty(G,max_depth=4):\n",
    "    \"\"\"\n",
    "    1. 求群的极小泛性质\n",
    "    2. max_depth 根据规律拟定\n",
    "    \"\"\"\n",
    "    # 初始化\n",
    "    tree,relations = UniversalPropertyOfGroup(G,max_depth)[1:]\n",
    "    layer_len = [len(i) for i in tree] # 记录各层长度数据\n",
    "    FG = FreeGroup(n) # 自由群\n",
    "    elements = relations2elements(relations,FG.gens()) # 初始商集\n",
    "    necessary = []\n",
    "    # 逐步化归\n",
    "    while len(elements):\n",
    "        print(\"当前长度\",len(elements),len(necessary))\n",
    "        ele = elements.pop(-1)\n",
    "        test_elements = elements + necessary\n",
    "        QG = FG/test_elements # 商群\n",
    "        tree = GroupTreeOfMaxDepth(QG,max_depth)\n",
    "        if [len(i) for i in tree] != layer_len: # 个数增多 \n",
    "            necessary.append(ele)\n",
    "    necessary.reverse()\n",
    "    return necessary"
   ]
  }
 ],
 "metadata": {
  "kernelspec": {
   "display_name": "SageMath 9.0",
   "language": "sage",
   "name": "sagemath"
  },
  "language_info": {
   "codemirror_mode": {
    "name": "ipython",
    "version": 3
   },
   "file_extension": ".py",
   "mimetype": "text/x-python",
   "name": "python",
   "nbconvert_exporter": "python",
   "pygments_lexer": "ipython3",
   "version": "3.8.10"
  }
 },
 "nbformat": 4,
 "nbformat_minor": 4
}
