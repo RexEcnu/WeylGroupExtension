{
 "cells": [
  {
   "cell_type": "markdown",
   "metadata": {},
   "source": [
    "## 函数包测试"
   ]
  },
  {
   "cell_type": "code",
   "execution_count": 26,
   "metadata": {},
   "outputs": [
    {
     "data": {
      "text/plain": [
       "'/home/zhwang/Documents/jupyter/0-items/WeylGroupExtension'"
      ]
     },
     "execution_count": 26,
     "metadata": {},
     "output_type": "execute_result"
    }
   ],
   "source": [
    "pwd"
   ]
  },
  {
   "cell_type": "code",
   "execution_count": 2,
   "metadata": {},
   "outputs": [
    {
     "name": "stdout",
     "output_type": "stream",
     "text": [
      "/home/zhwang/Documents/jupyter/0-items/WeylGroupExtension\n"
     ]
    }
   ],
   "source": [
    "cd Documents/jupyter/0-items/WeylGroupExtension/"
   ]
  },
  {
   "cell_type": "code",
   "execution_count": 27,
   "metadata": {},
   "outputs": [],
   "source": [
    "load(\"weyl_group_extension.sage\")"
   ]
  },
  {
   "cell_type": "code",
   "execution_count": 4,
   "metadata": {
    "code_folding": [
     3
    ]
   },
   "outputs": [],
   "source": [
    "def show_tree(tree):\n",
    "    \"\"\"打印群树\"\"\"\n",
    "    for i in tree_str:\n",
    "        for j in i:\n",
    "            print(j,end=\"\\t\")\n",
    "        print()\n",
    "    return"
   ]
  },
  {
   "cell_type": "markdown",
   "metadata": {
    "heading_collapsed": true
   },
   "source": [
    "### 测试一 反射群"
   ]
  },
  {
   "cell_type": "code",
   "execution_count": 37,
   "metadata": {
    "hidden": true
   },
   "outputs": [
    {
     "name": "stdout",
     "output_type": "stream",
     "text": [
      "Coxeter 矩阵\n",
      "[1 3 2]\n",
      "[3 1 3]\n",
      "[2 3 1]\n",
      "两种方法是否相等\n",
      "True\n",
      "打印群树\n",
      "\t\n",
      "0\t1\t2\t\n",
      "0-1\t0-2\t1-0\t1-2\t2-1\t\n",
      "0-1-0\t0-1-2\t0-2-1\t1-0-2\t1-2-1\t2-1-0\t\n",
      "0-1-0-2\t0-1-2-1\t0-2-1-0\t1-0-2-1\t1-2-1-0\t\n",
      "0-1-0-2-1\t0-1-2-1-0\t1-0-2-1-0\t\n",
      "0-1-0-2-1-0\t\n"
     ]
    },
    {
     "data": {
      "text/plain": [
       "[('0-0', ''),\n",
       " ('1-1', ''),\n",
       " ('2-0', '0-2'),\n",
       " ('2-2', ''),\n",
       " ('1-0-1', '0-1-0'),\n",
       " ('2-1-2', '1-2-1'),\n",
       " ('2-1-0-2', '1-2-1-0')]"
      ]
     },
     "execution_count": 37,
     "metadata": {},
     "output_type": "execute_result"
    }
   ],
   "source": [
    "# 初始化\n",
    "s,n = \"A\",3\n",
    "mat = matrix(CoxeterMatrix([s,n]))\n",
    "print(\"Coxeter 矩阵\",mat,sep=\"\\n\")\n",
    "G = GroupByOrderMatrix(mat)\n",
    "\n",
    "# 计算结果\n",
    "tree1 = GroupTreeOfMaxDepth(G)\n",
    "tree,tree_str,relations = UniversalPropertyOfGroup(G)\n",
    "print(\"两种方法是否相等\",tree1[:-1] == tree, sep=\"\\n\")\n",
    "print(\"打印群树\")\n",
    "show_tree(tree)\n",
    "relations"
   ]
  },
  {
   "cell_type": "markdown",
   "metadata": {
    "heading_collapsed": true
   },
   "source": [
    "### 测试二 无限群"
   ]
  },
  {
   "cell_type": "code",
   "execution_count": 38,
   "metadata": {
    "hidden": true
   },
   "outputs": [
    {
     "name": "stdout",
     "output_type": "stream",
     "text": [
      "群阶矩阵（泛性质）\n",
      "[2 3]\n",
      "[3 2]\n",
      "两种方法是否相等\n",
      "True\n"
     ]
    },
    {
     "data": {
      "text/plain": [
       "[('0-0-0-0', ''),\n",
       " ('1-1-1-1', ''),\n",
       " ('0-1-0-1-0', '1-1-1'),\n",
       " ('1-0-1-0-1', '0-0-0'),\n",
       " ('0-0-0-1-1-1', '1-0-1-0'),\n",
       " ('1-1-1-0-0-0', '0-1-0-1'),\n",
       " ('1-0-1-0-0-1-0-1', '0-0-0-1-1-0-0-0'),\n",
       " ('1-1-1-0-0-1-1-1', '0-1-0-1-1-0-1-0')]"
      ]
     },
     "execution_count": 38,
     "metadata": {},
     "output_type": "execute_result"
    }
   ],
   "source": [
    "# 初始化\n",
    "s,n = \"A\",2\n",
    "gens = Thetas(s,n)\n",
    "order_mat = OrderMatrixOfGens(gens)\n",
    "print(\"群阶矩阵（泛性质）\",order_mat, sep=\"\\n\")\n",
    "G = GroupByOrderMatrix(order_mat)\n",
    "\n",
    "# 计算结果\n",
    "k = 8 # 取前 k 层\n",
    "tree1 = GroupTreeOfMaxDepth(G,k)\n",
    "tree,tree_str,relations = UniversalPropertyOfGroup(G,k)\n",
    "print(\"两种方法是否相等\",tree1 == tree, sep=\"\\n\")\n",
    "relations"
   ]
  },
  {
   "cell_type": "markdown",
   "metadata": {
    "heading_collapsed": true
   },
   "source": [
    "### 测试三 Coxeter 群 I 型"
   ]
  },
  {
   "cell_type": "code",
   "execution_count": 39,
   "metadata": {
    "hidden": true
   },
   "outputs": [
    {
     "name": "stdout",
     "output_type": "stream",
     "text": [
      "Coxeter 矩阵\n",
      "[ 1 20]\n",
      "[20  1]\n",
      "两种方法是否相等 True\n"
     ]
    },
    {
     "data": {
      "text/plain": [
       "[('0-0', ''), ('1-1', '')]"
      ]
     },
     "execution_count": 39,
     "metadata": {},
     "output_type": "execute_result"
    }
   ],
   "source": [
    "# I型 Coxeter 群，仅当全部遍历时，泛性质才完整\n",
    "# 初始化\n",
    "mat = matrix([[1,20],[20,1]])\n",
    "print(\"Coxeter 矩阵\",mat,sep=\"\\n\")\n",
    "G = GroupByOrderMatrix(mat)\n",
    "\n",
    "# 打印结果\n",
    "k = 10\n",
    "tree1 = GroupTreeOfMaxDepth(G,k)\n",
    "tree,tree_str,relations = UniversalPropertyOfGroup(G,k)\n",
    "print(\"两种方法是否相等\",tree1 == tree)\n",
    "relations"
   ]
  },
  {
   "cell_type": "markdown",
   "metadata": {
    "heading_collapsed": true
   },
   "source": [
    "### 测试四 多余泛性质的规律"
   ]
  },
  {
   "cell_type": "code",
   "execution_count": 41,
   "metadata": {
    "hidden": true
   },
   "outputs": [
    {
     "name": "stdout",
     "output_type": "stream",
     "text": [
      "A1 型 Coxeter 矩阵：\n",
      "[1]\n",
      "多余内容： []\n",
      "\n",
      "A2 型 Coxeter 矩阵：\n",
      "[1 3]\n",
      "[3 1]\n",
      "多余内容： []\n",
      "\n",
      "A3 型 Coxeter 矩阵：\n",
      "[1 3 2]\n",
      "[3 1 3]\n",
      "[2 3 1]\n",
      "多余内容： [('2-1-0-2', '1-2-1-0')]\n",
      "\n",
      "A4 型 Coxeter 矩阵：\n",
      "[1 3 2 2]\n",
      "[3 1 3 2]\n",
      "[2 3 1 3]\n",
      "[2 2 3 1]\n",
      "多余内容： [('2-1-0-2', '1-2-1-0'), ('3-2-1-3', '2-3-2-1'), ('3-2-1-0-3', '2-3-2-1-0')]\n",
      "\n",
      "A5 型 Coxeter 矩阵：\n",
      "[1 3 2 2 2]\n",
      "[3 1 3 2 2]\n",
      "[2 3 1 3 2]\n",
      "[2 2 3 1 3]\n",
      "[2 2 2 3 1]\n",
      "多余内容： [('2-1-0-2', '1-2-1-0'), ('3-2-1-3', '2-3-2-1'), ('4-3-2-4', '3-4-3-2'), ('3-2-1-0-3', '2-3-2-1-0'), ('4-3-2-1-4', '3-4-3-2-1'), ('4-3-2-1-0-4', '3-4-3-2-1-0')]\n",
      "\n"
     ]
    }
   ],
   "source": [
    "# 测试 A 型\n",
    "for n in range(5):\n",
    "    print(\"A%d 型 Coxeter 矩阵：\"%(n+1))\n",
    "    mat = matrix(CoxeterMatrix([\"A\",n+1]))\n",
    "    print(mat)\n",
    "    G = GroupByOrderMatrix(mat)\n",
    "    _,_,relations = UniversalPropertyOfGroup(G)\n",
    "    print(\"多余内容：\",[r for r in relations if len(set(r[0].replace(\"-\",\"\")))>2])\n",
    "    print()"
   ]
  },
  {
   "cell_type": "markdown",
   "metadata": {},
   "source": [
    "### 测试五 “局部泛性质”"
   ]
  },
  {
   "cell_type": "code",
   "execution_count": 45,
   "metadata": {},
   "outputs": [],
   "source": [
    "def relations2elements(relations,gens):\n",
    "    \"\"\"将生成元转为群元素\"\"\"\n",
    "    one = gens[0]/gens[0]\n",
    "    def str2element(s):\n",
    "        if not s:return one\n",
    "        new = one\n",
    "        for i in s.split(\"-\"):\n",
    "            new *= gens[int(i)]\n",
    "        return new\n",
    "    elements = [str2element(a)/str2element(b) for a,b in relations]\n",
    "    return elements"
   ]
  },
  {
   "cell_type": "code",
   "execution_count": 46,
   "metadata": {
    "scrolled": true
   },
   "outputs": [
    {
     "name": "stdout",
     "output_type": "stream",
     "text": [
      "泛性质矩阵\n",
      "[2 3]\n",
      "[3 2]\n",
      "前8层导出关系\n",
      "[('0-0-0-0', ''), ('1-1-1-1', ''), ('0-1-0-1-0', '1-1-1'), ('1-0-1-0-1', '0-0-0'), ('0-0-0-1-1-1', '1-0-1-0'), ('1-1-1-0-0-0', '0-1-0-1'), ('1-0-1-0-0-1-0-1', '0-0-0-1-1-0-0-0'), ('1-1-1-0-0-1-1-1', '0-1-0-1-1-0-1-0')]\n",
      "商集\n",
      "[x0^4, x1^4, (x0*x1)^2*x0*x1^-3, (x1*x0)^2*x1*x0^-3, x0^3*x1^3*(x0^-1*x1^-1)^2, x1^3*x0^3*(x1^-1*x0^-1)^2, x1*(x0*x1*x0)^2*x1*x0^-3*x1^-2*x0^-3, x1^3*x0^2*x1^3*x0^-1*(x1^-1*x0^-1*x1^-1)^2*x0^-1]\n"
     ]
    },
    {
     "data": {
      "text/plain": [
       "True"
      ]
     },
     "execution_count": 46,
     "metadata": {},
     "output_type": "execute_result"
    }
   ],
   "source": [
    "# 用前 k 阶泛性质生成商群 -->> 前 k 层元素“相同” （至少）\n",
    "# 实际计算时，前 k 层的泛性质，可能已经是完整的泛性质了\n",
    "\n",
    "# 初始化\n",
    "s,n = \"A\",2\n",
    "gens = Thetas(s,n)\n",
    "order_mat = OrderMatrixOfGens(gens)\n",
    "print(\"泛性质矩阵\",order_mat,sep=\"\\n\")\n",
    "G = GroupByOrderMatrix(order_mat)\n",
    "\n",
    "# 计算结果\n",
    "k = 8\n",
    "_,_,relations = UniversalPropertyOfGroup(G,k)\n",
    "print(\"前%d层导出关系\"%k,relations, sep=\"\\n\")\n",
    "# 定义商群\n",
    "FG = FreeGroup(n)\n",
    "elements = relations2elements(relations,FG.gens())\n",
    "print(\"商集\",elements,sep=\"\\n\")\n",
    "newG = FG/elements\n",
    "[len(i) for i in GroupTreeOfMaxDepth(newG,k)]==[len(i) for i in GroupTreeOfMaxDepth(G,k)]"
   ]
  },
  {
   "cell_type": "code",
   "execution_count": null,
   "metadata": {},
   "outputs": [],
   "source": [
    "# 实际上，检验前 13 层仍然正确\n",
    "[len(i) for i in GroupTreeOfMaxDepth(newG,13)]==[len(i) for i in GroupTreeOfMaxDepth(G,13)]"
   ]
  },
  {
   "cell_type": "markdown",
   "metadata": {},
   "source": [
    "### 测试六 weyl 群的极小泛性质"
   ]
  },
  {
   "cell_type": "markdown",
   "metadata": {},
   "source": [
    "#### ADE型-取前 3 层"
   ]
  },
  {
   "cell_type": "code",
   "execution_count": null,
   "metadata": {},
   "outputs": [],
   "source": [
    "# 初始化\n",
    "s,n = \"E\",6\n",
    "mat = matrix(CoxeterMatrix([s,n]))\n",
    "print(\"Coxeter 矩阵\",mat,sep=\"\\n\")\n",
    "G = GroupByOrderMatrix(mat)\n",
    "\n",
    "# 计算结果\n",
    "k = 3\n",
    "_,_,relations = UniversalPropertyOfGroup(G,k)\n",
    "print(\"前%d层导出关系\"%k,relations, sep=\"\\n\")\n",
    "print()\n",
    "# 定义商群\n",
    "FG = FreeGroup(n)\n",
    "elements = relations2elements(relations,FG.gens())\n",
    "print(\"商集\",elements,sep=\"\\n\")\n",
    "newG = FG/elements\n",
    "\n",
    "# 打印结果\n",
    "n1 = [len(i) for i in GroupTreeOfMaxDepth(newG,k+1)]\n",
    "n2 = [len(i) for i in GroupTreeOfMaxDepth(G,k+1)]\n",
    "print(\"前%d层元素个数是否相同\"%(k+1),n1==n2)\n",
    "print(\"总元素个数是否相同\",len(newG)==len(G),len(G))"
   ]
  },
  {
   "cell_type": "markdown",
   "metadata": {},
   "source": [
    "#### B,C,F 型-取前 4 层"
   ]
  },
  {
   "cell_type": "code",
   "execution_count": null,
   "metadata": {},
   "outputs": [],
   "source": [
    "# 初始化\n",
    "s,n = \"F\",4\n",
    "mat = matrix(CoxeterMatrix([s,n]))\n",
    "print(\"Coxeter 矩阵\",mat,sep=\"\\n\")\n",
    "G = GroupByOrderMatrix(mat)\n",
    "\n",
    "# 计算结果\n",
    "k = 4\n",
    "_,_,relations = UniversalPropertyOfGroup(G,k)\n",
    "print(\"前%d层导出关系\"%k,relations, sep=\"\\n\")\n",
    "print()\n",
    "# 定义商群\n",
    "FG = FreeGroup(n)\n",
    "elements = relations2elements(relations,FG.gens())\n",
    "print(\"商集\",elements,sep=\"\\n\")\n",
    "newG = FG/elements\n",
    "\n",
    "# 打印结果\n",
    "n1 = [len(i) for i in GroupTreeOfMaxDepth(newG,k+1)]\n",
    "n2 = [len(i) for i in GroupTreeOfMaxDepth(G,k+1)]\n",
    "print(\"前%d层元素个数是否相同\"%(k+1),n1==n2)\n",
    "# print(\"群元素是否相同\",len(newG)==len(G),len(G))"
   ]
  },
  {
   "cell_type": "markdown",
   "metadata": {},
   "source": [
    "#### G 型-取前 6 层"
   ]
  },
  {
   "cell_type": "code",
   "execution_count": null,
   "metadata": {},
   "outputs": [],
   "source": [
    "# 初始化\n",
    "s,n = \"G\",2\n",
    "mat = matrix(CoxeterMatrix([s,n]))\n",
    "print(\"Coxeter 矩阵\",mat,sep=\"\\n\")\n",
    "G = GroupByOrderMatrix(mat)\n",
    "\n",
    "# 计算结果\n",
    "k = 6\n",
    "_,_,relations = UniversalPropertyOfGroup(G,k)\n",
    "print(\"前%d层导出关系\"%k,relations, sep=\"\\n\")\n",
    "print()\n",
    "# 定义商群\n",
    "FG = FreeGroup(n)\n",
    "elements = relations2elements(relations,FG.gens())\n",
    "print(\"商集\",elements,sep=\"\\n\")\n",
    "newG = FG/elements\n",
    "\n",
    "# 打印结果\n",
    "n1 = [len(i) for i in GroupTreeOfMaxDepth(newG,k+1)]\n",
    "n2 = [len(i) for i in GroupTreeOfMaxDepth(G,k+1)]\n",
    "print(\"前%d层元素个数是否相同\"%(k+1),n1==n2)\n",
    "print(\"群元素是否相同\",len(newG)==len(G),len(G))"
   ]
  },
  {
   "cell_type": "markdown",
   "metadata": {},
   "source": [
    "### 测试七 Weyl 群扩张群的极小泛性质"
   ]
  },
  {
   "cell_type": "markdown",
   "metadata": {},
   "source": [
    "#### A 型-筛减"
   ]
  },
  {
   "cell_type": "code",
   "execution_count": null,
   "metadata": {},
   "outputs": [],
   "source": [
    "# 初始化\n",
    "s,n = \"A\",4\n",
    "gens = Thetas(s,n)\n",
    "G = MatrixGroup(gens)\n",
    "\n",
    "# 计算结果\n",
    "k = 4\n",
    "_,_,relations = UniversalPropertyOfGroup(G,k)\n",
    "relations = {key:relations[key] for key in relations.keys() if len(set(list(key.replace(\"-\",\"\"))))<=2}\n",
    "print(\"前%d层导出关系\"%k,relations, sep=\"\\n\")\n",
    "print()\n",
    "# 定义商群\n",
    "FG = FreeGroup(n)\n",
    "elements = relations2elements(relations,FG.gens())\n",
    "print(\"商集\",elements,sep=\"\\n\")\n",
    "newG = FG/elements"
   ]
  },
  {
   "cell_type": "code",
   "execution_count": null,
   "metadata": {},
   "outputs": [],
   "source": [
    "# 打印结果\n",
    "n1 = [len(i) for i in GroupTreeOfMaxDepth(newG,k+1)]\n",
    "n2 = [len(i) for i in GroupTreeOfMaxDepth(G,k+1)]\n",
    "print(\"前%d层元素个数是否相同\"%(k+1),n1==n2)\n",
    "print(\"群元素是否相同\",len(newG)==len(G),len(G))"
   ]
  },
  {
   "cell_type": "markdown",
   "metadata": {},
   "source": [
    "#### ADE 型-取前 4 层 "
   ]
  },
  {
   "cell_type": "code",
   "execution_count": null,
   "metadata": {},
   "outputs": [],
   "source": [
    "# 初始化\n",
    "s,n = \"A\",3\n",
    "gens = Thetas(s,n)\n",
    "G = MatrixGroup(gens)\n",
    "\n",
    "# 计算结果\n",
    "k = 4\n",
    "_,_,relations = UniversalPropertyOfGroup(G,k)\n",
    "print(\"前%d层导出关系\"%k,relations, sep=\"\\n\")\n",
    "print()\n",
    "# 定义商群\n",
    "FG = FreeGroup(n)\n",
    "elements = relations2elements(relations,FG.gens())\n",
    "print(\"商集\",elements,sep=\"\\n\")\n",
    "newG = FG/elements"
   ]
  },
  {
   "cell_type": "code",
   "execution_count": null,
   "metadata": {},
   "outputs": [],
   "source": [
    "# 打印结果\n",
    "n1 = [len(i) for i in GroupTreeOfMaxDepth(newG,k+1)]\n",
    "n2 = [len(i) for i in GroupTreeOfMaxDepth(G,k+1)]\n",
    "print(\"前%d层元素个数是否相同\"%(k+1),n1==n2)\n",
    "print(\"群元素是否相同\",len(newG)==len(G),len(G))"
   ]
  },
  {
   "cell_type": "markdown",
   "metadata": {},
   "source": [
    "#### BCF 型-取前 4 层"
   ]
  },
  {
   "cell_type": "code",
   "execution_count": null,
   "metadata": {
    "scrolled": true
   },
   "outputs": [],
   "source": [
    "# 初始化\n",
    "s,n = \"F\",4\n",
    "gens = Thetas(s,n)\n",
    "G = MatrixGroup(gens)\n",
    "\n",
    "# 计算结果\n",
    "k = 4\n",
    "_,_,relations = UniversalPropertyOfGroup(G,k)\n",
    "print(\"前%d层导出关系\"%k,relations, sep=\"\\n\")\n",
    "print()\n",
    "# 定义商群\n",
    "FG = FreeGroup(n)\n",
    "elements = relations2elements(relations,FG.gens())\n",
    "print(\"商集\",elements,sep=\"\\n\")\n",
    "newG = FG/elements"
   ]
  },
  {
   "cell_type": "code",
   "execution_count": null,
   "metadata": {},
   "outputs": [],
   "source": [
    "# 打印结果\n",
    "n1 = [len(i) for i in GroupTreeOfMaxDepth(newG,k+1)]\n",
    "n2 = [len(i) for i in GroupTreeOfMaxDepth(G,k+1)]\n",
    "print(\"前%d层元素个数是否相同\"%(k+1),n1==n2)\n",
    "print(\"群元素是否相同\",len(newG)==len(G),len(G))"
   ]
  },
  {
   "cell_type": "markdown",
   "metadata": {},
   "source": [
    "#### G 型-取前 6 层"
   ]
  },
  {
   "cell_type": "code",
   "execution_count": null,
   "metadata": {},
   "outputs": [],
   "source": [
    "# 初始化\n",
    "s,n = \"G\",2\n",
    "gens = Thetas(s,n)\n",
    "G = MatrixGroup(gens)\n",
    "\n",
    "# 计算结果\n",
    "k = 6\n",
    "_,_,relations = UniversalPropertyOfGroup(G,k)\n",
    "print(\"前%d层导出关系\"%k,relations, sep=\"\\n\")\n",
    "print()\n",
    "# 定义商群\n",
    "FG = FreeGroup(n)\n",
    "elements = relations2elements(relations,FG.gens())\n",
    "print(\"商集\",elements,sep=\"\\n\")\n",
    "newG = FG/elements"
   ]
  },
  {
   "cell_type": "code",
   "execution_count": null,
   "metadata": {},
   "outputs": [],
   "source": [
    "# 打印结果\n",
    "n1 = [len(i) for i in GroupTreeOfMaxDepth(newG,k+1)]\n",
    "n2 = [len(i) for i in GroupTreeOfMaxDepth(G,k+1)]\n",
    "print(\"前%d层元素个数是否相同\"%(k+1),n1==n2)\n",
    "print(\"群元素是否相同\",len(newG)==len(G),len(G))"
   ]
  },
  {
   "cell_type": "code",
   "execution_count": null,
   "metadata": {},
   "outputs": [],
   "source": []
  }
 ],
 "metadata": {
  "kernelspec": {
   "display_name": "SageMath 9.4",
   "language": "sage",
   "name": "sagemath"
  },
  "language_info": {
   "codemirror_mode": {
    "name": "ipython",
    "version": 3
   },
   "file_extension": ".py",
   "mimetype": "text/x-python",
   "name": "python",
   "nbconvert_exporter": "python",
   "pygments_lexer": "ipython3",
   "version": "3.9.5"
  }
 },
 "nbformat": 4,
 "nbformat_minor": 4
}
