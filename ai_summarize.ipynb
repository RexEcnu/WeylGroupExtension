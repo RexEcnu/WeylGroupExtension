{
 "cells": [
  {
   "cell_type": "markdown",
   "metadata": {},
   "source": [
    "## 性质总结"
   ]
  },
  {
   "cell_type": "code",
   "execution_count": 1,
   "metadata": {},
   "outputs": [
    {
     "data": {
      "text/plain": [
       "'/home/zhwang'"
      ]
     },
     "execution_count": 1,
     "metadata": {},
     "output_type": "execute_result"
    }
   ],
   "source": [
    "pwd"
   ]
  },
  {
   "cell_type": "code",
   "execution_count": 2,
   "metadata": {},
   "outputs": [
    {
     "name": "stdout",
     "output_type": "stream",
     "text": [
      "/home/zhwang/Documents/jupyter/0-items/WeylGroupExtension\n"
     ]
    }
   ],
   "source": [
    "cd Documents/jupyter/0-items/WeylGroupExtension/"
   ]
  },
  {
   "cell_type": "code",
   "execution_count": 3,
   "metadata": {},
   "outputs": [],
   "source": [
    "load(\"weyl_group_extension.sage\")"
   ]
  },
  {
   "cell_type": "code",
   "execution_count": 13,
   "metadata": {},
   "outputs": [],
   "source": [
    "import time\n",
    "from pprint import pprint\n",
    "class Time():\n",
    "    '''\n",
    "    计时器\n",
    "    输入：tic()开始\n",
    "    输出：toc()结束\n",
    "    误差：0.01s\n",
    "    '''\n",
    "    def tic(self):\n",
    "        self.time = time.time()\n",
    "    def toc(self,text='用时：'):\n",
    "        t = self.time\n",
    "        self.tic()\n",
    "        print(text+'%.3f'%(self.time-t))\n",
    "tt = Time()\n",
    "tic = tt.tic\n",
    "toc = tt.toc"
   ]
  },
  {
   "cell_type": "markdown",
   "metadata": {},
   "source": [
    "### 检验泛性质"
   ]
  },
  {
   "cell_type": "markdown",
   "metadata": {},
   "source": [
    "#### ADE"
   ]
  },
  {
   "cell_type": "code",
   "execution_count": 20,
   "metadata": {
    "collapsed": true
   },
   "outputs": [
    {
     "name": "stdout",
     "output_type": "stream",
     "text": [
      "A 1\n",
      "用时：0.001\n",
      "True\n",
      "用时：0.014\n",
      "A 2\n",
      "用时：0.090\n",
      "True\n",
      "用时：0.069\n",
      "A 3\n",
      "用时：0.860\n",
      "True\n",
      "用时：0.089\n",
      "A 4\n",
      "用时：16.220\n",
      "True\n",
      "用时：0.191\n",
      "A 5\n",
      "用时：111.713\n",
      "True\n",
      "用时：0.645\n"
     ]
    }
   ],
   "source": [
    "# 初始化\n",
    "s,k = \"A\",4\n",
    "for n in range(1,6):\n",
    "    print(s,n)\n",
    "    gens = Thetas(s,n)\n",
    "    G = MatrixGroup(gens)\n",
    "    # 计算结果\n",
    "    tic()\n",
    "    _,_,relations = UniversalPropertyOfGroup(G,k)\n",
    "    toc()\n",
    "    # 定义商群\n",
    "    FG = FreeGroup(n)\n",
    "    elements = relations2elements(relations,FG.gens())\n",
    "    newG = FG/elements\n",
    "    tic()\n",
    "    len_newG = len(newG)\n",
    "    print(len(G)==len_newG)\n",
    "    toc()"
   ]
  },
  {
   "cell_type": "code",
   "execution_count": 21,
   "metadata": {
    "code_folding": [
     2
    ],
    "collapsed": true
   },
   "outputs": [
    {
     "name": "stdout",
     "output_type": "stream",
     "text": [
      "D 4\n",
      "用时：10.981\n",
      "True\n",
      "用时：0.170\n",
      "\n",
      "D 5\n",
      "用时：158.172\n",
      "True\n",
      "用时：0.905\n",
      "\n"
     ]
    }
   ],
   "source": [
    "# 初始化\n",
    "s,k = \"D\",4\n",
    "for n in range(4,6):\n",
    "    print(s,n)\n",
    "    gens = Thetas(s,n)\n",
    "    G = MatrixGroup(gens)\n",
    "    # 计算结果\n",
    "    tic()\n",
    "    _,_,relations = UniversalPropertyOfGroup(G,k)\n",
    "    toc()\n",
    "    # 定义商群\n",
    "    FG = FreeGroup(n)\n",
    "    elements = relations2elements(relations,FG.gens())\n",
    "    newG = FG/elements\n",
    "    tic()\n",
    "    len_newG = len(newG)\n",
    "    print(len(G)==len_newG)\n",
    "    toc()\n",
    "    print()"
   ]
  },
  {
   "cell_type": "code",
   "execution_count": null,
   "metadata": {},
   "outputs": [],
   "source": [
    "# 初始化\n",
    "s,k = \"E\",4\n",
    "for n in range(6,7):\n",
    "    print(s,n)\n",
    "    gens = Thetas(s,n)\n",
    "    G = MatrixGroup(gens)\n",
    "    # 计算结果\n",
    "    tic()\n",
    "    _,_,relations = UniversalPropertyOfGroup(G,k)\n",
    "    toc()\n",
    "    # 定义商群\n",
    "    FG = FreeGroup(n)\n",
    "    elements = relations2elements(relations,FG.gens())\n",
    "    newG = FG/elements\n",
    "    tic()\n",
    "    len_newG = len(newG)\n",
    "    print(len(G)==len_newG)\n",
    "    toc()\n",
    "    print()"
   ]
  },
  {
   "cell_type": "markdown",
   "metadata": {},
   "source": [
    "#### BCF"
   ]
  },
  {
   "cell_type": "code",
   "execution_count": null,
   "metadata": {},
   "outputs": [
    {
     "name": "stdout",
     "output_type": "stream",
     "text": [
      "B 2\n",
      "用时：0.056\n",
      "True\n",
      "用时：0.060\n",
      "\n",
      "B 3\n",
      "用时：1.734\n",
      "True\n",
      "用时：0.100\n",
      "\n",
      "B 4\n"
     ]
    }
   ],
   "source": [
    "# 初始化\n",
    "s,k = \"B\",4\n",
    "for n in range(2,6):\n",
    "    print(s,n)\n",
    "    gens = Thetas(s,n)\n",
    "    G = MatrixGroup(gens)\n",
    "    # 计算结果\n",
    "    tic()\n",
    "    _,_,relations = UniversalPropertyOfGroup(G,k)\n",
    "    toc()\n",
    "    # 定义商群\n",
    "    FG = FreeGroup(n)\n",
    "    elements = relations2elements(relations,FG.gens())\n",
    "    newG = FG/elements\n",
    "    tic()\n",
    "    len_newG = len(newG)\n",
    "    print(len(G)==len_newG)\n",
    "    toc()\n",
    "    print()"
   ]
  },
  {
   "cell_type": "code",
   "execution_count": null,
   "metadata": {},
   "outputs": [],
   "source": [
    "# 初始化\n",
    "s,k = \"C\",4\n",
    "for n in range(2,6):\n",
    "    print(s,n)\n",
    "    gens = Thetas(s,n)\n",
    "    G = MatrixGroup(gens)\n",
    "    # 计算结果\n",
    "    tic()\n",
    "    _,_,relations = UniversalPropertyOfGroup(G,k)\n",
    "    toc()\n",
    "    # 定义商群\n",
    "    FG = FreeGroup(n)\n",
    "    elements = relations2elements(relations,FG.gens())\n",
    "    newG = FG/elements\n",
    "    tic()\n",
    "    len_newG = len(newG)\n",
    "    print(len(G)==len_newG)\n",
    "    toc()\n",
    "    print()"
   ]
  },
  {
   "cell_type": "code",
   "execution_count": null,
   "metadata": {},
   "outputs": [],
   "source": [
    "# 初始化\n",
    "s,k = \"F\",4\n",
    "for n in range(4,5):\n",
    "    print(s,n)\n",
    "    gens = Thetas(s,n)\n",
    "    G = MatrixGroup(gens)\n",
    "    # 计算结果\n",
    "    tic()\n",
    "    _,_,relations = UniversalPropertyOfGroup(G,k)\n",
    "    toc()\n",
    "    # 定义商群\n",
    "    FG = FreeGroup(n)\n",
    "    elements = relations2elements(relations,FG.gens())\n",
    "    newG = FG/elements\n",
    "    tic()\n",
    "    len_newG = len(newG)\n",
    "    print(len(G)==len_newG)\n",
    "    toc()\n",
    "    print()"
   ]
  },
  {
   "cell_type": "code",
   "execution_count": null,
   "metadata": {},
   "outputs": [],
   "source": [
    "# 初始化\n",
    "s,k = \"G\",6\n",
    "for n in range(2,3):\n",
    "    print(s,n)\n",
    "    gens = Thetas(s,n)\n",
    "    G = MatrixGroup(gens)\n",
    "    # 计算结果\n",
    "    tic()\n",
    "    _,_,relations = UniversalPropertyOfGroup(G,k)\n",
    "    toc()\n",
    "    # 定义商群\n",
    "    FG = FreeGroup(n)\n",
    "    elements = relations2elements(relations,FG.gens())\n",
    "    newG = FG/elements\n",
    "    tic()\n",
    "    len_newG = len(newG)\n",
    "    print(len(G)==len_newG)\n",
    "    toc()\n",
    "    print()"
   ]
  },
  {
   "cell_type": "code",
   "execution_count": null,
   "metadata": {},
   "outputs": [],
   "source": []
  }
 ],
 "metadata": {
  "kernelspec": {
   "display_name": "SageMath 9.4",
   "language": "sage",
   "name": "sagemath"
  },
  "language_info": {
   "codemirror_mode": {
    "name": "ipython",
    "version": 3
   },
   "file_extension": ".py",
   "mimetype": "text/x-python",
   "name": "python",
   "nbconvert_exporter": "python",
   "pygments_lexer": "ipython3",
   "version": "3.9.5"
  }
 },
 "nbformat": 4,
 "nbformat_minor": 4
}
