{
 "cells": [
  {
   "cell_type": "markdown",
   "metadata": {},
   "source": [
    "# Weyl 群扩张群的泛性质 "
   ]
  },
  {
   "cell_type": "code",
   "execution_count": 3,
   "metadata": {},
   "outputs": [
    {
     "data": {
      "text/plain": [
       "'/home/zhwang'"
      ]
     },
     "execution_count": 3,
     "metadata": {},
     "output_type": "execute_result"
    }
   ],
   "source": [
    "pwd"
   ]
  },
  {
   "cell_type": "code",
   "execution_count": 4,
   "metadata": {
    "scrolled": true
   },
   "outputs": [
    {
     "name": "stdout",
     "output_type": "stream",
     "text": [
      "/home/zhwang/Documents/jupyter/0-items/WeylGroupExtension\n"
     ]
    }
   ],
   "source": [
    "cd Documents/jupyter/0-items/WeylGroupExtension/"
   ]
  },
  {
   "cell_type": "code",
   "execution_count": 5,
   "metadata": {},
   "outputs": [],
   "source": [
    "load(\"weyl_group_extension.sage\")"
   ]
  },
  {
   "cell_type": "markdown",
   "metadata": {},
   "source": [
    "目前已有函数\n",
    "1. ExpOfNilpotentMat(mat, max_depth=36, base_ring=ZZ) # 返回幂零阵的指数矩阵\n",
    "2. Thetas(s,n) 返回生成元集合 \\{\\theta_i\\}_{i=1}^n\n",
    "3. OrderMatrixOfGens(gens) 返回生成元的群阶矩阵\n",
    "4. GroupByOrderMathix(order_mat) 群阶矩阵作为泛性质，生成群\n",
    "5. GroupTreeOfMaxDepth(G,depth) 生成群树（BFS）\n",
    "6. UniversalPropertyOfGroup(G,max_depth=-1) 求群生成元的泛性质\n",
    "7. relations2elements(relations,gens) 生成元通过 gens 转为群的子集"
   ]
  },
  {
   "cell_type": "markdown",
   "metadata": {},
   "source": [
    "## 知识背景"
   ]
  },
  {
   "cell_type": "markdown",
   "metadata": {
    "heading_collapsed": true
   },
   "source": [
    "### 极小泛性质"
   ]
  },
  {
   "cell_type": "markdown",
   "metadata": {
    "hidden": true
   },
   "source": [
    "1. 上边算法求生成元泛性质，给出的是相对粗糙的刻画；\n",
    "2. 一般地，很难有直接构造的算法，求“最精细”的刻画；\n",
    "3. 难处可以归结为：对任意自由群商群，判断表示式是否等于1\n",
    "4. 一些特殊情形，比如 Coxeter 群，Humphreys 书给出了判断等于1的充要方法；\n",
    "5. 但就一般情形来说，这很难做到的，以至于专业研究群论的工具 GAP 有时都判断不了\n",
    "6. 然而，对于有限群，我们可以有间接方法给出极小泛性质：先粗刻画，再逐步细化"
   ]
  },
  {
   "cell_type": "markdown",
   "metadata": {
    "heading_collapsed": true
   },
   "source": [
    "### 函数说明及相关性质"
   ]
  },
  {
   "cell_type": "markdown",
   "metadata": {
    "hidden": true
   },
   "source": [
    "1. 函数说明：\n",
    "   - GroupTreeOfMaxDepth(G,depth) 群的 0-depth 层\n",
    "   - UniversalPropertyOfGroup(G,max_depth=-1) 返回值有三个（默认生成整树）：\n",
    "      - tree 群 G 的 0-max_depth 层\n",
    "      - tree_str 群 G 的 0-max_depth 层，元素用 reduced expression  \n",
    "      - relations 字典，**能够生成 0-max_depth 层，且键值 <= max_depth 的泛性质**\n",
    "2. 泛性质等价\n",
    "   - relations 给出的是粗刻画，需进一步加细\n",
    "   - relations 可以将 0-max_depth 所有的 expression 简约化\n",
    "   - 反之，如果 0-max_depth 所有的 expression 简约化已知，可导出 relations\n",
    "   - 等价关系：若 relaitons1 和 relations2 的键值均在 0-max_depth 层，且将 0-max_depth 层的所有 expression 简约化，则二者等价\n",
    "   - 等价的两个泛性质关系可相互生成\n",
    "3. 基于上边的讨论，从泛性质的粗刻画出发，逐步细化"
   ]
  },
  {
   "cell_type": "markdown",
   "metadata": {
    "heading_collapsed": true
   },
   "source": [
    "### Weyl 群及其扩张群的相关结论"
   ]
  },
  {
   "cell_type": "markdown",
   "metadata": {
    "hidden": true
   },
   "source": [
    "观察前几阶的测试结论，易得性质猜想:\n",
    "1. 确定 Weyl 群的泛性质，（至少）需要获取前 n 层：\n",
    "   - A,D,E 型：前 3 层\n",
    "   - B,C,F 型：前 4 层\n",
    "   - G 型：前 6 层\n",
    "2. 确定 Weyl 扩张群的泛性质，（至少）需要获取前 n 层：\n",
    "   - A,D,E 型：前 4 层\n",
    "   - B,C,F 型：前 4 层\n",
    "   - G 型：前 6 层\n",
    "3. 此外，二者泛性质可以只用包含两元素的情形"
   ]
  },
  {
   "cell_type": "markdown",
   "metadata": {},
   "source": [
    "## 函数测试"
   ]
  },
  {
   "cell_type": "code",
   "execution_count": 8,
   "metadata": {},
   "outputs": [],
   "source": [
    "a = {1:2,3:4}\n",
    "b = [(key,a[key]) for key in a]"
   ]
  },
  {
   "cell_type": "code",
   "execution_count": 9,
   "metadata": {},
   "outputs": [
    {
     "data": {
      "text/plain": [
       "[(1, 2), (3, 4)]"
      ]
     },
     "execution_count": 9,
     "metadata": {},
     "output_type": "execute_result"
    }
   ],
   "source": [
    "b"
   ]
  },
  {
   "cell_type": "code",
   "execution_count": null,
   "metadata": {},
   "outputs": [],
   "source": [
    "def MinimalUniversalProperty(G,max_depth=4):\n",
    "    \"\"\"\n",
    "    1. 求群的极小泛性质\n",
    "    2. max_depth 根据规律拟定（启发式）\n",
    "    \"\"\"\n",
    "    tree_str,relations = UniversalPropertyOfGroup(G,max_depth)[1:]\n",
    "    layer_len = [len(i) for i in tree_str] # 记录各层长度数据\n",
    "    relations = [(key,relations[key]) for key in relations] # 关系转列表"
   ]
  },
  {
   "cell_type": "code",
   "execution_count": 12,
   "metadata": {},
   "outputs": [],
   "source": [
    "def UniversalPropertyOfGroup(G,max_depth=-1):\n",
    "    \"\"\"\n",
    "    1. 求群生成元的泛性质\n",
    "    2. G 的生成元不能存在相等，或者等于1\n",
    "    3. max_depth 获取层数，默认遍历整树\n",
    "    \"\"\"\n",
    "    if max_depth == 0:\n",
    "        return [[G.one()]],[[\"\"]],[]\n",
    "    # 检验输入\n",
    "    gens = list(G.gens()) # 生成元\n",
    "    S = [G.one()] + gens # 已生成群元素\n",
    "    assert len(S)==len(set(S)),\"G 的生成元不能存在相等，或者等于1\"\n",
    "    \n",
    "    # 群树：元素形式和字符串形式\n",
    "    tree = [[G.one()],gens] \n",
    "    tree_str = [[\"\"],[\"%d\"%i for i in range(len(gens))]]\n",
    "    # 生成关系\n",
    "    relations = [[],[]]\n",
    "    while max_depth-1:\n",
    "        max_depth -= 1\n",
    "        new_layer = []\n",
    "        new_layer_str = []\n",
    "        for s,a in zip(tree_str[-1],tree[-1]):\n",
    "            for si,b in enumerate(gens):\n",
    "                c = a * b\n",
    "                c_str = s + \"-%d\"%si\n",
    "                if c in new_layer: # 化简到同一层\n",
    "                    if not any(s in c_str for s in relations[0]):\n",
    "                        relations[0].append(c_str)\n",
    "                        relations[1].append(new_layer_str[new_layer.index(c)])\n",
    "                    continue\n",
    "                for i,layer in enumerate(tree):\n",
    "                    if c in layer: # 化简到前边层\n",
    "                        if not any(s in c_str for s in relations[0]):\n",
    "                            relations[0].append(c_str)\n",
    "                            relations[1].append(tree_str[i][layer.index(c)])\n",
    "                        break\n",
    "                else:\n",
    "                    new_layer.append(c)\n",
    "                    new_layer_str.append(c_str)\n",
    "        if len(new_layer):\n",
    "            tree.append(new_layer)\n",
    "            tree_str.append(new_layer_str)\n",
    "        else:\n",
    "            break\n",
    "    relations = [(a,b) for a,b in zip(*relations)]\n",
    "    return tree,tree_str,relations"
   ]
  }
 ],
 "metadata": {
  "kernelspec": {
   "display_name": "SageMath 9.4",
   "language": "sage",
   "name": "sagemath"
  },
  "language_info": {
   "codemirror_mode": {
    "name": "ipython",
    "version": 3
   },
   "file_extension": ".py",
   "mimetype": "text/x-python",
   "name": "python",
   "nbconvert_exporter": "python",
   "pygments_lexer": "ipython3",
   "version": "3.9.5"
  }
 },
 "nbformat": 4,
 "nbformat_minor": 4
}
