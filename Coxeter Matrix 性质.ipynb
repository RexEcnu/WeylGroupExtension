{
 "cells": [
  {
   "cell_type": "markdown",
   "metadata": {},
   "source": [
    "## 比较 Coxeter 矩阵"
   ]
  },
  {
   "cell_type": "code",
   "execution_count": 2,
   "metadata": {},
   "outputs": [],
   "source": [
    "# 转化 gap 字符串\n",
    "gap_str = lambda s:gap('\"'+s+'\"')\n",
    "\n",
    "# 导入自编函数\n",
    "gap.Read(gap_str(\"big_weyl_group.py\"))\n",
    "\n",
    "LieThetas = gap(\"LieThetas\")"
   ]
  },
  {
   "cell_type": "code",
   "execution_count": 3,
   "metadata": {},
   "outputs": [],
   "source": [
    "def OrderMatrix(gens):\n",
    "    \"\"\"计算 gens 的群阶矩阵\"\"\"\n",
    "    orders = [[gap.Order(a*b) for a in gens] for b in gens]\n",
    "    return matrix(ZZ,orders)"
   ]
  },
  {
   "cell_type": "code",
   "execution_count": 2,
   "metadata": {},
   "outputs": [],
   "source": [
    "a = identity_matrix(3)"
   ]
  },
  {
   "cell_type": "code",
   "execution_count": 3,
   "metadata": {},
   "outputs": [
    {
     "data": {
      "text/plain": [
       "[1 0 0]\n",
       "[0 1 0]\n",
       "[0 0 1]"
      ]
     },
     "execution_count": 3,
     "metadata": {},
     "output_type": "execute_result"
    }
   ],
   "source": [
    "a"
   ]
  },
  {
   "cell_type": "code",
   "execution_count": 4,
   "metadata": {},
   "outputs": [
    {
     "data": {
      "text/plain": [
       "[e 0 0]\n",
       "[0 e 0]\n",
       "[0 0 e]"
      ]
     },
     "execution_count": 4,
     "metadata": {},
     "output_type": "execute_result"
    }
   ],
   "source": [
    "e^a"
   ]
  },
  {
   "cell_type": "code",
   "execution_count": 4,
   "metadata": {},
   "outputs": [
    {
     "name": "stdout",
     "output_type": "stream",
     "text": [
      "[1 3]\n",
      "[3 1]\n",
      "\n",
      "[2 3]\n",
      "[3 2]\n"
     ]
    }
   ],
   "source": [
    "s = \"A\"\n",
    "n = 2\n",
    "\n",
    "# Weyl 群的群阶矩阵\n",
    "weyl_group = WeylGroup([s,n])\n",
    "print(weyl_group.coxeter_matrix())\n",
    "print()\n",
    "\n",
    "# Weyl 群扩张群的群阶矩阵\n",
    "thetas = LieThetas(gap_str(s),n) # 生成元\n",
    "print(OrderMatrix(thetas))"
   ]
  },
  {
   "cell_type": "markdown",
   "metadata": {},
   "source": [
    "### 其他型"
   ]
  },
  {
   "cell_type": "code",
   "execution_count": null,
   "metadata": {},
   "outputs": [],
   "source": [
    "n = 6\n",
    "for s in \"ABCDE\":\n",
    "    print(s)\n",
    "#     weyl_group = WeylGroup([s,n])\n",
    "#     print(weyl_group.coxeter_matrix(),\"\\n\")\n",
    "    thetas = LieThetas(gap_str(s),n)\n",
    "    print(OrderMatrix(thetas))"
   ]
  },
  {
   "cell_type": "code",
   "execution_count": null,
   "metadata": {},
   "outputs": [],
   "source": [
    "n = 3\n",
    "thetas = LieThetas(gap_str(\"B\"),n)\n",
    "print(OrderMatrix(thetas),\"\\n\")\n",
    "thetas = LieThetas(gap_str(\"C\"),n)\n",
    "print(OrderMatrix(thetas))"
   ]
  },
  {
   "cell_type": "markdown",
   "metadata": {},
   "source": [
    "## 泛性质"
   ]
  },
  {
   "cell_type": "code",
   "execution_count": 2,
   "metadata": {},
   "outputs": [],
   "source": [
    "# 转化 gap 字符串\n",
    "gap_str = lambda s:gap('\"'+s+'\"')\n",
    "\n",
    "# 导入自编函数\n",
    "gap.Read(gap_str(\"big_weyl_group.py\"))"
   ]
  },
  {
   "cell_type": "markdown",
   "metadata": {},
   "source": [
    "### 群阶例子 "
   ]
  },
  {
   "cell_type": "code",
   "execution_count": null,
   "metadata": {
    "code_folding": [
     0
    ]
   },
   "outputs": [],
   "source": [
    "# 定义矩阵群\n",
    "F = GF(3)\n",
    "gens = [matrix(F,[[1,1,0],\n",
    "                 [0,1,0],\n",
    "                 [0,0,1]]),\n",
    "        matrix(F,[[1,0,0],\n",
    "                  [0,1,1],\n",
    "                  [0,0,1]]),\n",
    "        matrix(F,[[1,0,1],\n",
    "                  [0,1,0],\n",
    "                  [0,0,1]])]\n",
    "G = MatrixGroup(gens)\n",
    "# 群阶和交换性\n",
    "print(len(G),G.is_abelian())\n",
    "for a in G:\n",
    "    print(a.order(),end=\"\\t\")\n",
    "print()\n",
    "# 定义交换群\n",
    "AG = AbelianGroup(3,[3,3,3])\n",
    "print(len(AG),AG.is_abelian())\n",
    "for a in AG:\n",
    "    print(a.order(),end=\"\\t\")"
   ]
  },
  {
   "cell_type": "code",
   "execution_count": null,
   "metadata": {},
   "outputs": [],
   "source": [
    "OrderMatrix(gens)"
   ]
  },
  {
   "cell_type": "code",
   "execution_count": null,
   "metadata": {},
   "outputs": [],
   "source": [
    "AG_gens = AG.gens()\n",
    "orders = [[(a*b).order() for a in AG_gens] for b in AG_gens]\n",
    "matrix(ZZ,orders)"
   ]
  },
  {
   "cell_type": "markdown",
   "metadata": {},
   "source": [
    "### 自由群"
   ]
  },
  {
   "cell_type": "code",
   "execution_count": 1,
   "metadata": {},
   "outputs": [],
   "source": [
    "def GroupByOrderMatrix(n,mat):\n",
    "    \"\"\"群阶矩阵 -> 自由群商群\"\"\"\n",
    "    FG = FreeGroup(n) # 自由群\n",
    "    gens = FG.gens() # 生成元\n",
    "    # 生成关系\n",
    "    relations = [(gens[i]*gens[j])^mat[i,j] for i in range(n) for j in range(n)]\n",
    "    return FG/relations"
   ]
  },
  {
   "cell_type": "code",
   "execution_count": 3,
   "metadata": {
    "collapsed": true
   },
   "outputs": [
    {
     "name": "stdout",
     "output_type": "stream",
     "text": [
      "1\tx0\tx2\tx0*x2\tx1\tx0*x1\tx2*x1\tx0*x2*x1\tx1*x0\tx0*x1*x0\tx2*x1*x0\tx0*x2*x1*x0\tx1*x2\tx1*x2*x1\tx0*x1*x2\tx0*x1*x2*x1\tx1*x0*x2\tx1*x2*x1*x0\tx0*x1*x0*x2\tx0*x1*x2*x1*x0\tx1*x0*x2*x1\tx1*x0*x2*x1*x0\tx0*x1*x0*x2*x1\tx0*x1*x0*x2*x1*x0\t"
     ]
    }
   ],
   "source": [
    "# Coxeter 群\n",
    "mat = matrix(CoxeterMatrix([\"A\",3]))\n",
    "G_A3 = GroupByOrderMatrix(3,mat)\n",
    "for a in G_A3:\n",
    "    print(a,end=\"\\t\")"
   ]
  },
  {
   "cell_type": "code",
   "execution_count": 4,
   "metadata": {},
   "outputs": [],
   "source": [
    "# 三阶群-使用 GAP 函数\n",
    "mat = 3 * matrix.ones(3)\n",
    "G = gap.QuotientGroup(gap(mat))"
   ]
  },
  {
   "cell_type": "markdown",
   "metadata": {},
   "source": [
    "### 检验泛性质"
   ]
  },
  {
   "cell_type": "code",
   "execution_count": null,
   "metadata": {},
   "outputs": [],
   "source": [
    "# sagemath 有点拉啊，，，\n",
    "s = \"A\"\n",
    "n = 2\n",
    "thetas = LieThetas(gap_str(s),n) # 生成元\n",
    "mat = OrderMatrix(thetas)\n",
    "G = GroupByOrderMatrix(n,mat)\n",
    "len(G)"
   ]
  },
  {
   "cell_type": "markdown",
   "metadata": {
    "heading_collapsed": true
   },
   "source": [
    "## 结构"
   ]
  },
  {
   "cell_type": "code",
   "execution_count": null,
   "metadata": {
    "hidden": true
   },
   "outputs": [],
   "source": [
    "Lie = [[\"A\",range(1,9)],[\"B\",range(2,9)],[\"C\",range(3,8)],[\"D\",range(4,9)],\n",
    "       [\"E\",range(6,7)],[\"F\",[4]],[\"G\",[2]]]\n",
    "res = [['type','G的群阶','K的群阶','weyl群阶数','G/K阶数','K的结构']] \n",
    "dim = [['type\\\\rank']+[i+1 for i in range(8)]] #记录群阶\n",
    "times = [['type\\\\rank']+[i+1 for i in range(8)]] #记录时间\n",
    "for s,l in Lie:\n",
    "    print(s,list(l))\n",
    "    dim.append([s]+['-' for i in range(l[0]-1)])\n",
    "    times.append([s]+['-' for i in range(l[0]-1)])\n",
    "    for n in l:\n",
    "        t = time.time()\n",
    "        res.append([s+str(n)])\n",
    "        thetas = LieThetas(gap_str(s),n) \n",
    "        G = gap.Group(thetas) #矩阵生成群\n",
    "        K = gap.Group([x^2 for x in thetas]) #theta_i^2生成群\n",
    "        W = WeylGroup([s,n])\n",
    "        Gs = gap.Size(G) #G的阶数\n",
    "        Ks = gap.Size(K) #K的阶数\n",
    "        Ws = W.order() #weyl群的阶数\n",
    "        GKs = gap.Size(G/K) #商群G/K的阶数\n",
    "        K_st = gap.StructureDescription(K)\n",
    "        res[-1].extend([Gs,Ks,Ws,GKs,str(K_st)])\n",
    "        dim[-1].append(thetas[1].Length())\n",
    "        times[-1].append(\"%.3f\"%(time.time()-t))"
   ]
  },
  {
   "cell_type": "code",
   "execution_count": null,
   "metadata": {
    "hidden": true
   },
   "outputs": [],
   "source": [
    "133,248\n",
    "2903040\n",
    "696729600"
   ]
  },
  {
   "cell_type": "code",
   "execution_count": null,
   "metadata": {
    "hidden": true
   },
   "outputs": [],
   "source": [
    "table(res)"
   ]
  },
  {
   "cell_type": "code",
   "execution_count": null,
   "metadata": {
    "hidden": true,
    "scrolled": true
   },
   "outputs": [],
   "source": [
    "table(dim)"
   ]
  },
  {
   "cell_type": "code",
   "execution_count": null,
   "metadata": {
    "hidden": true,
    "scrolled": true
   },
   "outputs": [],
   "source": [
    "table(times)"
   ]
  },
  {
   "cell_type": "code",
   "execution_count": null,
   "metadata": {
    "hidden": true
   },
   "outputs": [],
   "source": [
    "times"
   ]
  },
  {
   "cell_type": "code",
   "execution_count": null,
   "metadata": {
    "hidden": true,
    "scrolled": false
   },
   "outputs": [],
   "source": [
    "def str2matrix(s):\n",
    "    '''将字符串形式的矩阵转化为矩阵形式(貌似有误！)'''\n",
    "    s = s.split('\\n') #按行拆解\n",
    "    mat = []\n",
    "    for line in s:\n",
    "        mat.append([int(i) for i in line.split()[1:-1]])\n",
    "    return mat"
   ]
  },
  {
   "cell_type": "code",
   "execution_count": null,
   "metadata": {
    "hidden": true
   },
   "outputs": [],
   "source": [
    "s = gap_str(\"A\")\n",
    "n = 2\n",
    "for i in [1..n]:\n",
    "    theta = gap.LieThetas(s,i)\n",
    "    #G:=Group(theta);;\n",
    "    K = gap.Group([x^2 for x in theta])\n",
    "    a = gap.StructureDescription(K)\n",
    "    #print(Size(G/K));"
   ]
  }
 ],
 "metadata": {
  "kernelspec": {
   "display_name": "SageMath 9.0",
   "language": "sage",
   "name": "sagemath"
  },
  "language_info": {
   "codemirror_mode": {
    "name": "ipython",
    "version": 3
   },
   "file_extension": ".py",
   "mimetype": "text/x-python",
   "name": "python",
   "nbconvert_exporter": "python",
   "pygments_lexer": "ipython3",
   "version": "3.8.10"
  }
 },
 "nbformat": 4,
 "nbformat_minor": 2
}
