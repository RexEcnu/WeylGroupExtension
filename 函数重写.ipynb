{
 "cells": [
  {
   "cell_type": "markdown",
   "metadata": {},
   "source": [
    "# Weyl 群扩张群的结构"
   ]
  },
  {
   "cell_type": "markdown",
   "metadata": {},
   "source": [
    "## 主要函数\n",
    "\n",
    "1. Thetas(s,n) 返回生成元集合 \\{\\theta_i\\}_{i=1}^n\n",
    "2. OrderMatrixOfGens(gens) 返回生成元的群阶矩阵\n",
    "3. GroupByOrderMathix(order_mat) 群阶矩阵作为泛性质，生成群\n",
    "4. GroupTreeOfMaxDepth(G,depth) 生成群树（BFS）\n",
    "5. UniversalPropertyOfGens 返回生成元的泛性质关系 "
   ]
  },
  {
   "cell_type": "markdown",
   "metadata": {
    "heading_collapsed": true
   },
   "source": [
    "### Thetas(s,n)"
   ]
  },
  {
   "cell_type": "code",
   "execution_count": 89,
   "metadata": {
    "hidden": true
   },
   "outputs": [],
   "source": [
    "def ExpOfNilpotentMat(mat, max_depth=36, base_ring=ZZ):\n",
    "    \"\"\"\n",
    "    1. 返回幂零矩阵的指数矩阵\n",
    "    2. max_depth 指定 x^n=0 中，n 的最大值\n",
    "    3. 默认基环为整数环\n",
    "    4. 输入必须为 Sage 矩阵类型\n",
    "    \"\"\"\n",
    "    dim = mat.dimensions()[0]\n",
    "    exp_mat = matrix.identity(dim) # 单位矩阵\n",
    "    new,i = mat,1\n",
    "    while not new.is_zero(): # 运算直到 new 为零矩阵\n",
    "        exp_mat += 1/factorial(i) * new\n",
    "        i += 1\n",
    "        new *= mat\n",
    "    return matrix(ZZ,exp_mat)"
   ]
  },
  {
   "cell_type": "code",
   "execution_count": 56,
   "metadata": {
    "hidden": true
   },
   "outputs": [],
   "source": [
    "# 不能用自然表示，一定是伴随表示\n",
    "def Thetas(s,n):\n",
    "    \"\"\"返回给定型的生成元集合 {\\theta_i}_{i=1}^n\"\"\"\n",
    "    exp = ExpOfNilpotentMat # 简写函数名\n",
    "    L = LieAlgebra(ZZ,cartan_type=[s,n])\n",
    "    # 一组基元\n",
    "    basis = L.basis()\n",
    "    # 上三角 e_i\n",
    "    es = [L.e(i+1).adjoint_matrix() for i in range(n)]\n",
    "    # 下三角 f_i\n",
    "    fs = [L.f(i+1).adjoint_matrix() for i in range(n)]\n",
    "    thetas = [exp(es[i])*exp(-fs[i])*exp(es[i]) for i in range(n)]\n",
    "    return thetas"
   ]
  },
  {
   "cell_type": "code",
   "execution_count": 90,
   "metadata": {
    "hidden": true
   },
   "outputs": [
    {
     "name": "stdout",
     "output_type": "stream",
     "text": [
      "2\n",
      "24\n",
      "96\n"
     ]
    }
   ],
   "source": [
    "# gap_str = lambda s:gap('\"'+s+'\"')\n",
    "# gap.Read(gap_str(\"big_weyl_group.py\"))\n",
    "\n",
    "# 函数测试\n",
    "for i in range(3):\n",
    "    print(len(MatrixGroup(Thetas(\"A\",i+1))))"
   ]
  },
  {
   "cell_type": "markdown",
   "metadata": {
    "heading_collapsed": true
   },
   "source": [
    "### OrderMatrixOfGens"
   ]
  },
  {
   "cell_type": "code",
   "execution_count": 96,
   "metadata": {
    "hidden": true
   },
   "outputs": [],
   "source": [
    "def OrderMatrixOfGens(gens):\n",
    "    \"\"\"\n",
    "    1. 计算 gens 的群阶矩阵\n",
    "    2. 生成元的群基环必须为整数环\n",
    "    \"\"\"\n",
    "    orders = [[(a*b).multiplicative_order() for a in gens] for b in gens]\n",
    "    return matrix(ZZ,orders)"
   ]
  },
  {
   "cell_type": "code",
   "execution_count": 97,
   "metadata": {
    "hidden": true
   },
   "outputs": [
    {
     "name": "stdout",
     "output_type": "stream",
     "text": [
      "Integer Ring\n"
     ]
    },
    {
     "data": {
      "text/plain": [
       "[2 3 2]\n",
       "[3 2 3]\n",
       "[2 3 2]"
      ]
     },
     "execution_count": 97,
     "metadata": {},
     "output_type": "execute_result"
    }
   ],
   "source": [
    "# 函数测试\n",
    "gens = Thetas(\"A\",3)\n",
    "print(gens[0].base_ring())\n",
    "OrderMatrixOfGens(gens)"
   ]
  },
  {
   "cell_type": "markdown",
   "metadata": {
    "heading_collapsed": true
   },
   "source": [
    "### 泛性质构造商群"
   ]
  },
  {
   "cell_type": "code",
   "execution_count": 101,
   "metadata": {
    "hidden": true
   },
   "outputs": [],
   "source": [
    "def GroupByOrderMatrix(order_mat):\n",
    "    \"\"\"群阶矩阵 -> 自由群商群\"\"\"\n",
    "    n = order_mat.dimensions()[0]\n",
    "    FG = FreeGroup(n) # 自由群\n",
    "    gens = FG.gens() # 生成元\n",
    "    # 生成关系\n",
    "    relations = [(gens[i]*gens[j])^order_mat[i,j] for i in range(n) for j in range(n)]\n",
    "    return FG/relations"
   ]
  },
  {
   "cell_type": "code",
   "execution_count": 131,
   "metadata": {
    "hidden": true
   },
   "outputs": [
    {
     "name": "stdout",
     "output_type": "stream",
     "text": [
      "[2 3]\n",
      "[3 2]\n"
     ]
    },
    {
     "data": {
      "text/plain": [
       "False"
      ]
     },
     "execution_count": 131,
     "metadata": {},
     "output_type": "execute_result"
    }
   ],
   "source": [
    "n = 2\n",
    "gens = Thetas(\"A\",n)\n",
    "order_mat = OrderMatrixOfGens(gens)\n",
    "print(order_mat)\n",
    "G = GroupByOrderMatrix(order_mat)\n",
    "G.1 * G.0 == G.1 * G.1"
   ]
  },
  {
   "cell_type": "markdown",
   "metadata": {
    "heading_collapsed": true
   },
   "source": [
    "### 生成群树"
   ]
  },
  {
   "cell_type": "code",
   "execution_count": 183,
   "metadata": {
    "code_folding": [],
    "hidden": true
   },
   "outputs": [],
   "source": [
    "def GroupTreeOfMaxDepth(G,depth=-1):\n",
    "    \"\"\"\n",
    "    1. BFS 获取群元素，按长度分层\n",
    "    2. 获取前 depth 层，首层记0，默认获取整树（有限群）\"\"\"\n",
    "    # 群树，初始为零层\n",
    "    tree = [[G.one()]] \n",
    "    if depth == 0: # 只有零层\n",
    "        return tree\n",
    "    gens = G.gens() # 生成元\n",
    "    S = [G.one()] # 已生成的群元素\n",
    "    tree.append([]) # 添加一层\n",
    "    # 将 gens 化简（去重复元素，以及单位元）\n",
    "    for a in gens:\n",
    "        if a not in S:\n",
    "            S.append(a)\n",
    "            tree[-1].append(a)\n",
    "    if depth == 1: # 只有一层\n",
    "        return tree\n",
    "    gens = tree[-1] # 简化的生成元\n",
    "    \n",
    "    # 循环开始，直到深度足够，或者群生成完毕\n",
    "    while depth-1 and len(tree[-1]):\n",
    "        depth -= 1\n",
    "        tree.append([])\n",
    "        for a in tree[-2]:\n",
    "            for b in gens:\n",
    "                c = a * b;\n",
    "                if c not in S:\n",
    "                    S.append(c)\n",
    "                    tree[-1].append(c)\n",
    "    return tree"
   ]
  },
  {
   "cell_type": "code",
   "execution_count": 185,
   "metadata": {
    "hidden": true
   },
   "outputs": [
    {
     "name": "stdout",
     "output_type": "stream",
     "text": [
      "[1 3]\n",
      "[3 1]\n"
     ]
    },
    {
     "data": {
      "text/plain": [
       "[[1], [x0, x1], [x0*x1, x1*x0], [x0*x1*x0], []]"
      ]
     },
     "execution_count": 185,
     "metadata": {},
     "output_type": "execute_result"
    }
   ],
   "source": [
    "# 测试一\n",
    "mat = matrix(CoxeterMatrix([\"A\",2]))\n",
    "print(mat)\n",
    "G = GroupByOrderMatrix(mat)\n",
    "GroupTreeOfMaxDepth(G)"
   ]
  },
  {
   "cell_type": "code",
   "execution_count": 163,
   "metadata": {
    "hidden": true
   },
   "outputs": [
    {
     "name": "stdout",
     "output_type": "stream",
     "text": [
      "[2 3]\n",
      "[3 2]\n"
     ]
    },
    {
     "data": {
      "text/plain": [
       "[[1],\n",
       " [x0, x1],\n",
       " [x0^2, x0*x1, x1*x0, x1^2],\n",
       " [x0^3, x0^2*x1, x0*x1*x0, x0*x1^2, x1*x0^2, x1*x0*x1, x1^2*x0, x1^3]]"
      ]
     },
     "execution_count": 163,
     "metadata": {},
     "output_type": "execute_result"
    }
   ],
   "source": [
    "n = 2\n",
    "gens = Thetas(\"A\",n)\n",
    "order_mat = OrderMatrixOfGens(gens)\n",
    "print(order_mat)\n",
    "G2 = GroupByOrderMatrix(order_mat)\n",
    "GroupTreeOfMaxDepth(G2,3)"
   ]
  },
  {
   "cell_type": "markdown",
   "metadata": {},
   "source": [
    "### UniversalPropertyOfGens"
   ]
  },
  {
   "cell_type": "code",
   "execution_count": 187,
   "metadata": {},
   "outputs": [
    {
     "data": {
      "text/plain": [
       "'1-1-2'"
      ]
     },
     "execution_count": 187,
     "metadata": {},
     "output_type": "execute_result"
    }
   ],
   "source": [
    "txt = \"1-1-2\"\n",
    "'-'.join(txt.split(\"-\"))"
   ]
  },
  {
   "cell_type": "code",
   "execution_count": 191,
   "metadata": {},
   "outputs": [],
   "source": [
    "G = MatrixGroup(Thetas(\"A\",5))"
   ]
  },
  {
   "cell_type": "code",
   "execution_count": 196,
   "metadata": {},
   "outputs": [
    {
     "data": {
      "text/plain": [
       "0"
      ]
     },
     "execution_count": 196,
     "metadata": {},
     "output_type": "execute_result"
    }
   ],
   "source": [
    "[1,3,3].index(1)"
   ]
  },
  {
   "cell_type": "code",
   "execution_count": 165,
   "metadata": {},
   "outputs": [],
   "source": [
    "def UniversalPropertyOfGroup(G,max_depth=10):\n",
    "    \"\"\"\n",
    "    1. 求群生成元的泛性质\n",
    "    2. G 的生成元不能存在相等，或者等于1\n",
    "    \"\"\"\n",
    "    # 初始化\n",
    "    gens = G.gens() # 生成元\n",
    "    S = [G.one()] + gens # 已生成群元素\n",
    "    assert len(S)==len(set(S)),\"G 的生成元不能存在相等，或者等于1\"\n",
    "    \n",
    "    tree = [[G.one()],gens] # 群树，初始为0层\n",
    "    relations = {} # 生成关系\n",
    "    \n",
    "    while max_depth-1:\n",
    "        max_depth -= 1\n",
    "        for a in tree[-2]:\n",
    "            for b in gens:\n",
    "                c = a * b;\n",
    "                if c not in S:\n",
    "                    S.append(c)\n",
    "                    tree[-1].append(c)    \n",
    "    return relations"
   ]
  },
  {
   "cell_type": "code",
   "execution_count": null,
   "metadata": {},
   "outputs": [],
   "source": [
    "def GroupTreeOfMaxDepth(G,depth=-1):\n",
    "    \"\"\"\n",
    "    1. BFS 获取群元素，按长度分层\n",
    "    2. 获取前 depth 层，首层记0，默认获取整树（有限群）\"\"\"\n",
    "    # 群树，初始为零层\n",
    "    tree = [[G.one()]] \n",
    "    if depth == 0: # 只有零层\n",
    "        return tree\n",
    "    gens = G.gens() # 生成元\n",
    "    S = [G.one()] # 收集群元素\n",
    "    tree.append([]) # 添加一层\n",
    "    # 将 gens 化简（去重复元素，以及单位元）\n",
    "    for a in gens:\n",
    "        if a not in S:\n",
    "            S.append(a)\n",
    "            tree[-1].append(a)\n",
    "    if depth == 1: # 只有一层\n",
    "        return tree\n",
    "    gens = tree[-1] # 简化的生成元\n",
    "    \n",
    "    # 循环开始，直到深度足够，或者群生成完毕\n",
    "    while depth-1 and len(tree[-1]):\n",
    "        depth -= 1\n",
    "        tree.append([])\n",
    "        for a in tree[-2]:\n",
    "            for b in gens:\n",
    "                c = a * b;\n",
    "                if c not in S:\n",
    "                    S.append(c)\n",
    "                    tree[-1].append(c)\n",
    "    return tree"
   ]
  }
 ],
 "metadata": {
  "kernelspec": {
   "display_name": "SageMath 9.0",
   "language": "sage",
   "name": "sagemath"
  }
 },
 "nbformat": 4,
 "nbformat_minor": 4
}
